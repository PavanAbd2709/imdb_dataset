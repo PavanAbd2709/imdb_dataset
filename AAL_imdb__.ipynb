{
  "cells": [
    {
      "cell_type": "markdown",
      "source": [
        "## **Anytime Active Learning**"
      ],
      "metadata": {
        "id": "xc9tkbJBccuS"
      },
      "id": "xc9tkbJBccuS"
    },
    {
      "cell_type": "markdown",
      "source": [
        "The following algorithm is based on the **2014 AAAI** Conference Processdings on *Anytime Active Learning *\n",
        "https://cdn.aaai.org/ojs/9015/9015-13-12543-1-2-20201228.pdf"
      ],
      "metadata": {
        "id": "P--TvobXchvT"
      },
      "id": "P--TvobXchvT"
    },
    {
      "cell_type": "markdown",
      "source": [
        "## Importing Libraries"
      ],
      "metadata": {
        "id": "G3jUlUAZc2h7"
      },
      "id": "G3jUlUAZc2h7"
    },
    {
      "cell_type": "markdown",
      "source": [
        "The following libraries/modules are required for natural language preprocessing as well as trainnig the logistic regression model."
      ],
      "metadata": {
        "id": "QdTnldjrc827"
      },
      "id": "QdTnldjrc827"
    },
    {
      "cell_type": "code",
      "execution_count": 1,
      "id": "4738bfed",
      "metadata": {
        "id": "4738bfed"
      },
      "outputs": [],
      "source": [
        "import pandas as pd\n",
        "import re\n",
        "import string\n",
        "from nltk.tokenize import word_tokenize\n",
        "from sklearn.feature_extraction.text import CountVectorizer\n",
        "from nltk.util import ngrams\n",
        "from nltk.probability import FreqDist\n",
        "from sklearn.preprocessing import LabelEncoder\n",
        "from sklearn.model_selection import train_test_split\n",
        "from sklearn.linear_model import LogisticRegression\n",
        "import numpy as np\n",
        "from pydrive.auth import GoogleAuth\n",
        "from pydrive.drive import GoogleDrive\n",
        "import pickle\n",
        "from sklearn.metrics import roc_auc_score\n",
        "import matplotlib.pyplot as plt"
      ]
    },
    {
      "cell_type": "markdown",
      "source": [
        "### Utility Functions"
      ],
      "metadata": {
        "id": "ws0bR5CMdIan"
      },
      "id": "ws0bR5CMdIan"
    },
    {
      "cell_type": "markdown",
      "source": [
        "Function for counting the number of words in each document"
      ],
      "metadata": {
        "id": "zS2INuA7dRnS"
      },
      "id": "zS2INuA7dRnS"
    },
    {
      "cell_type": "code",
      "execution_count": 2,
      "id": "7d4a7f36",
      "metadata": {
        "id": "7d4a7f36"
      },
      "outputs": [],
      "source": [
        "def word_count(s):\n",
        "    return len(s.split())"
      ]
    },
    {
      "cell_type": "markdown",
      "source": [
        "Function to remove any html tags <> </> present in the document text"
      ],
      "metadata": {
        "id": "jJHrOkofdVi-"
      },
      "id": "jJHrOkofdVi-"
    },
    {
      "cell_type": "code",
      "execution_count": 3,
      "id": "094df2b3",
      "metadata": {
        "id": "094df2b3"
      },
      "outputs": [],
      "source": [
        "def striphtml(text):\n",
        "    p=re.compile('<.*?>')\n",
        "    return p.sub('',text)"
      ]
    },
    {
      "cell_type": "markdown",
      "source": [
        "Mounting the Drive (for accessing the data)"
      ],
      "metadata": {
        "id": "DAi_qbiCdbNK"
      },
      "id": "DAi_qbiCdbNK"
    },
    {
      "cell_type": "code",
      "source": [
        "from google.colab import drive\n",
        "drive.mount('/content/drive')"
      ],
      "metadata": {
        "colab": {
          "base_uri": "https://localhost:8080/"
        },
        "id": "LIqUTgHMI09x",
        "outputId": "e1fd9a07-d62c-4f7a-c023-8fe14ec45eeb"
      },
      "id": "LIqUTgHMI09x",
      "execution_count": 4,
      "outputs": [
        {
          "output_type": "stream",
          "name": "stdout",
          "text": [
            "Mounted at /content/drive\n"
          ]
        }
      ]
    },
    {
      "cell_type": "markdown",
      "source": [
        "Reading the data stored in the drive (the dataset needs to be first stored in the drive and then the path of the dataset file should be mentioned here)"
      ],
      "metadata": {
        "id": "nZ3diTTNdjqh"
      },
      "id": "nZ3diTTNdjqh"
    },
    {
      "cell_type": "markdown",
      "source": [
        "The dataset can be used from: https://drive.google.com/file/d/1DGX26ZClsc8N-BYikO2jCcbRAN0lyvnp/view?usp=sharing"
      ],
      "metadata": {
        "id": "UUR0WSbQgBCN"
      },
      "id": "UUR0WSbQgBCN"
    },
    {
      "cell_type": "code",
      "execution_count": 5,
      "id": "7f22b9b6",
      "metadata": {
        "id": "7f22b9b6"
      },
      "outputs": [],
      "source": [
        "df = pd.read_csv(\"/content/drive/MyDrive/IMDB Dataset.csv\")"
      ]
    },
    {
      "cell_type": "markdown",
      "source": [
        "Checking the number of rows and columns in the data: Two columns - one containing the document samples (reviews) and the other containing the binary labels for the sentiment of the reviews (positive or negative)"
      ],
      "metadata": {
        "id": "6L6RrvNLd34r"
      },
      "id": "6L6RrvNLd34r"
    },
    {
      "cell_type": "code",
      "execution_count": 6,
      "id": "754f749e",
      "metadata": {
        "colab": {
          "base_uri": "https://localhost:8080/"
        },
        "id": "754f749e",
        "outputId": "da78c7f8-371b-427a-8550-2843bad13f46"
      },
      "outputs": [
        {
          "output_type": "execute_result",
          "data": {
            "text/plain": [
              "(50000, 2)"
            ]
          },
          "metadata": {},
          "execution_count": 6
        }
      ],
      "source": [
        "df.shape"
      ]
    },
    {
      "cell_type": "code",
      "execution_count": 7,
      "id": "175091df",
      "metadata": {
        "colab": {
          "base_uri": "https://localhost:8080/",
          "height": 206
        },
        "id": "175091df",
        "outputId": "ab889155-b38d-405a-a160-9688b41b03f0"
      },
      "outputs": [
        {
          "output_type": "execute_result",
          "data": {
            "text/plain": [
              "                                              review sentiment\n",
              "0  One of the other reviewers has mentioned that ...  positive\n",
              "1  A wonderful little production. <br /><br />The...  positive\n",
              "2  I thought this was a wonderful way to spend ti...  positive\n",
              "3  Basically there's a family where a little boy ...  negative\n",
              "4  Petter Mattei's \"Love in the Time of Money\" is...  positive"
            ],
            "text/html": [
              "\n",
              "  <div id=\"df-d0b7bb5e-4bc9-4ce4-b4b8-c0613855515b\" class=\"colab-df-container\">\n",
              "    <div>\n",
              "<style scoped>\n",
              "    .dataframe tbody tr th:only-of-type {\n",
              "        vertical-align: middle;\n",
              "    }\n",
              "\n",
              "    .dataframe tbody tr th {\n",
              "        vertical-align: top;\n",
              "    }\n",
              "\n",
              "    .dataframe thead th {\n",
              "        text-align: right;\n",
              "    }\n",
              "</style>\n",
              "<table border=\"1\" class=\"dataframe\">\n",
              "  <thead>\n",
              "    <tr style=\"text-align: right;\">\n",
              "      <th></th>\n",
              "      <th>review</th>\n",
              "      <th>sentiment</th>\n",
              "    </tr>\n",
              "  </thead>\n",
              "  <tbody>\n",
              "    <tr>\n",
              "      <th>0</th>\n",
              "      <td>One of the other reviewers has mentioned that ...</td>\n",
              "      <td>positive</td>\n",
              "    </tr>\n",
              "    <tr>\n",
              "      <th>1</th>\n",
              "      <td>A wonderful little production. &lt;br /&gt;&lt;br /&gt;The...</td>\n",
              "      <td>positive</td>\n",
              "    </tr>\n",
              "    <tr>\n",
              "      <th>2</th>\n",
              "      <td>I thought this was a wonderful way to spend ti...</td>\n",
              "      <td>positive</td>\n",
              "    </tr>\n",
              "    <tr>\n",
              "      <th>3</th>\n",
              "      <td>Basically there's a family where a little boy ...</td>\n",
              "      <td>negative</td>\n",
              "    </tr>\n",
              "    <tr>\n",
              "      <th>4</th>\n",
              "      <td>Petter Mattei's \"Love in the Time of Money\" is...</td>\n",
              "      <td>positive</td>\n",
              "    </tr>\n",
              "  </tbody>\n",
              "</table>\n",
              "</div>\n",
              "    <div class=\"colab-df-buttons\">\n",
              "\n",
              "  <div class=\"colab-df-container\">\n",
              "    <button class=\"colab-df-convert\" onclick=\"convertToInteractive('df-d0b7bb5e-4bc9-4ce4-b4b8-c0613855515b')\"\n",
              "            title=\"Convert this dataframe to an interactive table.\"\n",
              "            style=\"display:none;\">\n",
              "\n",
              "  <svg xmlns=\"http://www.w3.org/2000/svg\" height=\"24px\" viewBox=\"0 -960 960 960\">\n",
              "    <path d=\"M120-120v-720h720v720H120Zm60-500h600v-160H180v160Zm220 220h160v-160H400v160Zm0 220h160v-160H400v160ZM180-400h160v-160H180v160Zm440 0h160v-160H620v160ZM180-180h160v-160H180v160Zm440 0h160v-160H620v160Z\"/>\n",
              "  </svg>\n",
              "    </button>\n",
              "\n",
              "  <style>\n",
              "    .colab-df-container {\n",
              "      display:flex;\n",
              "      gap: 12px;\n",
              "    }\n",
              "\n",
              "    .colab-df-convert {\n",
              "      background-color: #E8F0FE;\n",
              "      border: none;\n",
              "      border-radius: 50%;\n",
              "      cursor: pointer;\n",
              "      display: none;\n",
              "      fill: #1967D2;\n",
              "      height: 32px;\n",
              "      padding: 0 0 0 0;\n",
              "      width: 32px;\n",
              "    }\n",
              "\n",
              "    .colab-df-convert:hover {\n",
              "      background-color: #E2EBFA;\n",
              "      box-shadow: 0px 1px 2px rgba(60, 64, 67, 0.3), 0px 1px 3px 1px rgba(60, 64, 67, 0.15);\n",
              "      fill: #174EA6;\n",
              "    }\n",
              "\n",
              "    .colab-df-buttons div {\n",
              "      margin-bottom: 4px;\n",
              "    }\n",
              "\n",
              "    [theme=dark] .colab-df-convert {\n",
              "      background-color: #3B4455;\n",
              "      fill: #D2E3FC;\n",
              "    }\n",
              "\n",
              "    [theme=dark] .colab-df-convert:hover {\n",
              "      background-color: #434B5C;\n",
              "      box-shadow: 0px 1px 3px 1px rgba(0, 0, 0, 0.15);\n",
              "      filter: drop-shadow(0px 1px 2px rgba(0, 0, 0, 0.3));\n",
              "      fill: #FFFFFF;\n",
              "    }\n",
              "  </style>\n",
              "\n",
              "    <script>\n",
              "      const buttonEl =\n",
              "        document.querySelector('#df-d0b7bb5e-4bc9-4ce4-b4b8-c0613855515b button.colab-df-convert');\n",
              "      buttonEl.style.display =\n",
              "        google.colab.kernel.accessAllowed ? 'block' : 'none';\n",
              "\n",
              "      async function convertToInteractive(key) {\n",
              "        const element = document.querySelector('#df-d0b7bb5e-4bc9-4ce4-b4b8-c0613855515b');\n",
              "        const dataTable =\n",
              "          await google.colab.kernel.invokeFunction('convertToInteractive',\n",
              "                                                    [key], {});\n",
              "        if (!dataTable) return;\n",
              "\n",
              "        const docLinkHtml = 'Like what you see? Visit the ' +\n",
              "          '<a target=\"_blank\" href=https://colab.research.google.com/notebooks/data_table.ipynb>data table notebook</a>'\n",
              "          + ' to learn more about interactive tables.';\n",
              "        element.innerHTML = '';\n",
              "        dataTable['output_type'] = 'display_data';\n",
              "        await google.colab.output.renderOutput(dataTable, element);\n",
              "        const docLink = document.createElement('div');\n",
              "        docLink.innerHTML = docLinkHtml;\n",
              "        element.appendChild(docLink);\n",
              "      }\n",
              "    </script>\n",
              "  </div>\n",
              "\n",
              "\n",
              "<div id=\"df-21e34b47-a7ed-4f45-8522-792812acdbca\">\n",
              "  <button class=\"colab-df-quickchart\" onclick=\"quickchart('df-21e34b47-a7ed-4f45-8522-792812acdbca')\"\n",
              "            title=\"Suggest charts.\"\n",
              "            style=\"display:none;\">\n",
              "\n",
              "<svg xmlns=\"http://www.w3.org/2000/svg\" height=\"24px\"viewBox=\"0 0 24 24\"\n",
              "     width=\"24px\">\n",
              "    <g>\n",
              "        <path d=\"M19 3H5c-1.1 0-2 .9-2 2v14c0 1.1.9 2 2 2h14c1.1 0 2-.9 2-2V5c0-1.1-.9-2-2-2zM9 17H7v-7h2v7zm4 0h-2V7h2v10zm4 0h-2v-4h2v4z\"/>\n",
              "    </g>\n",
              "</svg>\n",
              "  </button>\n",
              "\n",
              "<style>\n",
              "  .colab-df-quickchart {\n",
              "      --bg-color: #E8F0FE;\n",
              "      --fill-color: #1967D2;\n",
              "      --hover-bg-color: #E2EBFA;\n",
              "      --hover-fill-color: #174EA6;\n",
              "      --disabled-fill-color: #AAA;\n",
              "      --disabled-bg-color: #DDD;\n",
              "  }\n",
              "\n",
              "  [theme=dark] .colab-df-quickchart {\n",
              "      --bg-color: #3B4455;\n",
              "      --fill-color: #D2E3FC;\n",
              "      --hover-bg-color: #434B5C;\n",
              "      --hover-fill-color: #FFFFFF;\n",
              "      --disabled-bg-color: #3B4455;\n",
              "      --disabled-fill-color: #666;\n",
              "  }\n",
              "\n",
              "  .colab-df-quickchart {\n",
              "    background-color: var(--bg-color);\n",
              "    border: none;\n",
              "    border-radius: 50%;\n",
              "    cursor: pointer;\n",
              "    display: none;\n",
              "    fill: var(--fill-color);\n",
              "    height: 32px;\n",
              "    padding: 0;\n",
              "    width: 32px;\n",
              "  }\n",
              "\n",
              "  .colab-df-quickchart:hover {\n",
              "    background-color: var(--hover-bg-color);\n",
              "    box-shadow: 0 1px 2px rgba(60, 64, 67, 0.3), 0 1px 3px 1px rgba(60, 64, 67, 0.15);\n",
              "    fill: var(--button-hover-fill-color);\n",
              "  }\n",
              "\n",
              "  .colab-df-quickchart-complete:disabled,\n",
              "  .colab-df-quickchart-complete:disabled:hover {\n",
              "    background-color: var(--disabled-bg-color);\n",
              "    fill: var(--disabled-fill-color);\n",
              "    box-shadow: none;\n",
              "  }\n",
              "\n",
              "  .colab-df-spinner {\n",
              "    border: 2px solid var(--fill-color);\n",
              "    border-color: transparent;\n",
              "    border-bottom-color: var(--fill-color);\n",
              "    animation:\n",
              "      spin 1s steps(1) infinite;\n",
              "  }\n",
              "\n",
              "  @keyframes spin {\n",
              "    0% {\n",
              "      border-color: transparent;\n",
              "      border-bottom-color: var(--fill-color);\n",
              "      border-left-color: var(--fill-color);\n",
              "    }\n",
              "    20% {\n",
              "      border-color: transparent;\n",
              "      border-left-color: var(--fill-color);\n",
              "      border-top-color: var(--fill-color);\n",
              "    }\n",
              "    30% {\n",
              "      border-color: transparent;\n",
              "      border-left-color: var(--fill-color);\n",
              "      border-top-color: var(--fill-color);\n",
              "      border-right-color: var(--fill-color);\n",
              "    }\n",
              "    40% {\n",
              "      border-color: transparent;\n",
              "      border-right-color: var(--fill-color);\n",
              "      border-top-color: var(--fill-color);\n",
              "    }\n",
              "    60% {\n",
              "      border-color: transparent;\n",
              "      border-right-color: var(--fill-color);\n",
              "    }\n",
              "    80% {\n",
              "      border-color: transparent;\n",
              "      border-right-color: var(--fill-color);\n",
              "      border-bottom-color: var(--fill-color);\n",
              "    }\n",
              "    90% {\n",
              "      border-color: transparent;\n",
              "      border-bottom-color: var(--fill-color);\n",
              "    }\n",
              "  }\n",
              "</style>\n",
              "\n",
              "  <script>\n",
              "    async function quickchart(key) {\n",
              "      const quickchartButtonEl =\n",
              "        document.querySelector('#' + key + ' button');\n",
              "      quickchartButtonEl.disabled = true;  // To prevent multiple clicks.\n",
              "      quickchartButtonEl.classList.add('colab-df-spinner');\n",
              "      try {\n",
              "        const charts = await google.colab.kernel.invokeFunction(\n",
              "            'suggestCharts', [key], {});\n",
              "      } catch (error) {\n",
              "        console.error('Error during call to suggestCharts:', error);\n",
              "      }\n",
              "      quickchartButtonEl.classList.remove('colab-df-spinner');\n",
              "      quickchartButtonEl.classList.add('colab-df-quickchart-complete');\n",
              "    }\n",
              "    (() => {\n",
              "      let quickchartButtonEl =\n",
              "        document.querySelector('#df-21e34b47-a7ed-4f45-8522-792812acdbca button');\n",
              "      quickchartButtonEl.style.display =\n",
              "        google.colab.kernel.accessAllowed ? 'block' : 'none';\n",
              "    })();\n",
              "  </script>\n",
              "</div>\n",
              "    </div>\n",
              "  </div>\n"
            ]
          },
          "metadata": {},
          "execution_count": 7
        }
      ],
      "source": [
        "df.head()"
      ]
    },
    {
      "cell_type": "markdown",
      "source": [
        "Removing the html tag from the data"
      ],
      "metadata": {
        "id": "zULO-2Ecd6hy"
      },
      "id": "zULO-2Ecd6hy"
    },
    {
      "cell_type": "code",
      "execution_count": 8,
      "id": "ad981102",
      "metadata": {
        "id": "ad981102"
      },
      "outputs": [],
      "source": [
        "df['review'] = df['review'].apply(striphtml)"
      ]
    },
    {
      "cell_type": "markdown",
      "source": [
        "Converting all the review text documents to lowercase"
      ],
      "metadata": {
        "id": "0nYFUYV1eHun"
      },
      "id": "0nYFUYV1eHun"
    },
    {
      "cell_type": "code",
      "source": [
        "df['review'] = df['review'].str.lower()"
      ],
      "metadata": {
        "id": "b8IlQolIj4gG"
      },
      "id": "b8IlQolIj4gG",
      "execution_count": 9,
      "outputs": []
    },
    {
      "cell_type": "markdown",
      "source": [
        "Dropping all rows with documents containing less than 100 words"
      ],
      "metadata": {
        "id": "3kg2BhAnbnKl"
      },
      "id": "3kg2BhAnbnKl"
    },
    {
      "cell_type": "code",
      "execution_count": 10,
      "id": "e7203a45",
      "metadata": {
        "id": "e7203a45"
      },
      "outputs": [],
      "source": [
        "df = df.drop(df[df['review'].apply(word_count) < 100].index)"
      ]
    },
    {
      "cell_type": "code",
      "execution_count": 11,
      "id": "c29765ce",
      "metadata": {
        "colab": {
          "base_uri": "https://localhost:8080/"
        },
        "id": "c29765ce",
        "outputId": "31d88bbb-1ad4-4edf-80ff-f5107e66f521"
      },
      "outputs": [
        {
          "output_type": "execute_result",
          "data": {
            "text/plain": [
              "358"
            ]
          },
          "metadata": {},
          "execution_count": 11
        }
      ],
      "source": [
        "df.duplicated().sum()"
      ]
    },
    {
      "cell_type": "markdown",
      "source": [
        "Dropping duplicate values"
      ],
      "metadata": {
        "id": "I-6fFszNbsgY"
      },
      "id": "I-6fFszNbsgY"
    },
    {
      "cell_type": "code",
      "execution_count": 12,
      "id": "a93b494f",
      "metadata": {
        "id": "a93b494f"
      },
      "outputs": [],
      "source": [
        "df.drop_duplicates(inplace=True)"
      ]
    },
    {
      "cell_type": "code",
      "execution_count": 13,
      "id": "a5494809",
      "metadata": {
        "colab": {
          "base_uri": "https://localhost:8080/"
        },
        "id": "a5494809",
        "outputId": "0e747435-83b7-47e0-9c75-6d9dcbd25e90"
      },
      "outputs": [
        {
          "output_type": "execute_result",
          "data": {
            "text/plain": [
              "(43279, 2)"
            ]
          },
          "metadata": {},
          "execution_count": 13
        }
      ],
      "source": [
        "df.shape"
      ]
    },
    {
      "cell_type": "code",
      "source": [
        "# df['sentiment'] = df['sentiment'].map({'negative': 0, 'positive': 1})"
      ],
      "metadata": {
        "id": "zIQvKpbOgzju"
      },
      "id": "zIQvKpbOgzju",
      "execution_count": 14,
      "outputs": []
    },
    {
      "cell_type": "markdown",
      "source": [
        "Splitting the dataset into two equal halves in order to use separate data for training the oracle simulation and pretrained classifier"
      ],
      "metadata": {
        "id": "ZaHRm1PTeFxR"
      },
      "id": "ZaHRm1PTeFxR"
    },
    {
      "cell_type": "code",
      "source": [
        "midpoint = len(df) // 2\n",
        "df1 = df.iloc[:midpoint]\n",
        "df2 = df.iloc[midpoint:]"
      ],
      "metadata": {
        "id": "NC45jlZDfwlc"
      },
      "id": "NC45jlZDfwlc",
      "execution_count": 15,
      "outputs": []
    },
    {
      "cell_type": "markdown",
      "source": [
        "In order to save the CPU RAM, models can be pickled and stored to be reloaded at the time of use. In order to store and retrieve the models in Google Drive, the following authentication instance need to be created"
      ],
      "metadata": {
        "id": "iNX1UGojfg-u"
      },
      "id": "iNX1UGojfg-u"
    },
    {
      "cell_type": "code",
      "source": [
        "# Authenticate and create a GoogleDrive instance\n",
        "gauth = GoogleAuth()\n",
        "drive = GoogleDrive(gauth)"
      ],
      "metadata": {
        "id": "ezdC-8xHHnVq"
      },
      "id": "ezdC-8xHHnVq",
      "execution_count": 16,
      "outputs": []
    },
    {
      "cell_type": "markdown",
      "source": [
        "Converting text to numeric vectors with n grams stemming of 1 to 3 using the scikit learn countvectorizer"
      ],
      "metadata": {
        "id": "45OTp7zflLru"
      },
      "id": "45OTp7zflLru"
    },
    {
      "cell_type": "code",
      "execution_count": 17,
      "id": "543f4a8e",
      "metadata": {
        "id": "543f4a8e"
      },
      "outputs": [],
      "source": [
        "cv = CountVectorizer(lowercase=True,ngram_range=(1, 3))"
      ]
    },
    {
      "cell_type": "markdown",
      "source": [
        "considering the entire first half of the dataset for oracle trainng and testing"
      ],
      "metadata": {
        "id": "_-ICnMh6lhP-"
      },
      "id": "_-ICnMh6lhP-"
    },
    {
      "cell_type": "code",
      "execution_count": 18,
      "id": "aa918ef2",
      "metadata": {
        "id": "aa918ef2"
      },
      "outputs": [],
      "source": [
        "sampled_data = df1.sample(n=3000, random_state=14)\n",
        "# n can be changed as required"
      ]
    },
    {
      "cell_type": "markdown",
      "source": [
        "Converting the textual sentiment labels into encoded numeric values"
      ],
      "metadata": {
        "id": "OkF6qHquli58"
      },
      "id": "OkF6qHquli58"
    },
    {
      "cell_type": "code",
      "execution_count": 19,
      "id": "4c83a5bb",
      "metadata": {
        "id": "4c83a5bb"
      },
      "outputs": [],
      "source": [
        "encoder = LabelEncoder()\n",
        "y=encoder.fit_transform(sampled_data.sentiment)"
      ]
    },
    {
      "cell_type": "code",
      "execution_count": 20,
      "id": "df786a40",
      "metadata": {
        "colab": {
          "base_uri": "https://localhost:8080/"
        },
        "id": "df786a40",
        "outputId": "19bd5b3f-2d21-424c-af7e-c362c7eae1e7"
      },
      "outputs": [
        {
          "output_type": "execute_result",
          "data": {
            "text/plain": [
              "(3000,)"
            ]
          },
          "metadata": {},
          "execution_count": 20
        }
      ],
      "source": [
        "y.shape"
      ]
    },
    {
      "cell_type": "markdown",
      "source": [
        "Performing train-test split (50%)"
      ],
      "metadata": {
        "id": "I1uE4aoKlpbM"
      },
      "id": "I1uE4aoKlpbM"
    },
    {
      "cell_type": "code",
      "execution_count": 21,
      "id": "9eeb6eb9",
      "metadata": {
        "id": "9eeb6eb9"
      },
      "outputs": [],
      "source": [
        "X_train,X_test,y_train,y_test = train_test_split(sampled_data.iloc[:,0:1],y,test_size=0.5,random_state=1)"
      ]
    },
    {
      "cell_type": "code",
      "execution_count": 22,
      "id": "74167d7d",
      "metadata": {
        "colab": {
          "base_uri": "https://localhost:8080/"
        },
        "id": "74167d7d",
        "outputId": "d8132f98-1859-4461-9709-cdeb4831b11e"
      },
      "outputs": [
        {
          "output_type": "execute_result",
          "data": {
            "text/plain": [
              "(1500,)"
            ]
          },
          "metadata": {},
          "execution_count": 22
        }
      ],
      "source": [
        "X_train['review'].shape"
      ]
    },
    {
      "cell_type": "code",
      "source": [
        "y_train.shape"
      ],
      "metadata": {
        "colab": {
          "base_uri": "https://localhost:8080/"
        },
        "id": "VmE_myTegh5r",
        "outputId": "3560d167-0da9-4675-fc9d-4791f3c4aa48"
      },
      "id": "VmE_myTegh5r",
      "execution_count": 23,
      "outputs": [
        {
          "output_type": "execute_result",
          "data": {
            "text/plain": [
              "(1500,)"
            ]
          },
          "metadata": {},
          "execution_count": 23
        }
      ]
    },
    {
      "cell_type": "markdown",
      "source": [
        "Vectorizing the training set documents"
      ],
      "metadata": {
        "id": "P5XIl4jwlwfI"
      },
      "id": "P5XIl4jwlwfI"
    },
    {
      "cell_type": "code",
      "execution_count": 24,
      "id": "7d1fa0e3",
      "metadata": {
        "id": "7d1fa0e3"
      },
      "outputs": [],
      "source": [
        "X_train_bow = cv.fit_transform(X_train['review']).toarray()"
      ]
    },
    {
      "cell_type": "code",
      "execution_count": 25,
      "id": "16688988",
      "metadata": {
        "colab": {
          "base_uri": "https://localhost:8080/"
        },
        "id": "16688988",
        "outputId": "7f455f3e-1b62-415e-cb23-e0f14cc527f6"
      },
      "outputs": [
        {
          "output_type": "execute_result",
          "data": {
            "text/plain": [
              "(1500, 511118)"
            ]
          },
          "metadata": {},
          "execution_count": 25
        }
      ],
      "source": [
        "X_train_bow.shape"
      ]
    },
    {
      "cell_type": "markdown",
      "source": [
        "Training the logistic regression classifier from scikitlearn as the oracle with L2 regularization and penalty score C = 0.01 (as mentioned in the paper) and for bi class classification, setting multi_class to 'ovr'"
      ],
      "metadata": {
        "id": "Q7StlnH7l0VT"
      },
      "id": "Q7StlnH7l0VT"
    },
    {
      "cell_type": "code",
      "execution_count": 26,
      "id": "d9721cf7",
      "metadata": {
        "id": "d9721cf7"
      },
      "outputs": [],
      "source": [
        "oracle = LogisticRegression(penalty='l2', C=0.01, multi_class='ovr').fit(X_train_bow, y_train)"
      ]
    },
    {
      "cell_type": "code",
      "execution_count": 27,
      "id": "139df366",
      "metadata": {
        "id": "139df366"
      },
      "outputs": [],
      "source": [
        "# # Pickle and save the model\n",
        "# with open('oracle.pkl', 'wb') as model_file:\n",
        "#     pickle.dump(oracle, model_file)"
      ]
    },
    {
      "cell_type": "markdown",
      "source": [
        "Function to simulate oracle behaviour (oracle assigns label to document only if it is atleast 60% certain, uncertainty threshold =0.4 as mentioned in the paper)"
      ],
      "metadata": {
        "id": "ojGcnhiqmFxV"
      },
      "id": "ojGcnhiqmFxV"
    },
    {
      "cell_type": "code",
      "execution_count": 28,
      "id": "52c78c46",
      "metadata": {
        "id": "52c78c46"
      },
      "outputs": [],
      "source": [
        "def answer(oracle,x):\n",
        "    if 1 - max(oracle.predict_proba(x)[0]) > 0.4:return -1\n",
        "    return oracle.predict(x)[0]"
      ]
    },
    {
      "cell_type": "markdown",
      "source": [
        "## **Anytime Active Learning**\n",
        "\n"
      ],
      "metadata": {
        "id": "kex6z2R-ahCx"
      },
      "id": "kex6z2R-ahCx"
    },
    {
      "cell_type": "markdown",
      "source": [
        "## Static AAL"
      ],
      "metadata": {
        "id": "4Y_CKe7jarsV"
      },
      "id": "4Y_CKe7jarsV"
    },
    {
      "cell_type": "markdown",
      "source": [
        "**Utility Functions**"
      ],
      "metadata": {
        "id": "IUfGyy1xmYjq"
      },
      "id": "IUfGyy1xmYjq"
    },
    {
      "cell_type": "markdown",
      "source": [
        "Uncertainty function U(Xi) that outputs the uncertainty of classifier (=1-probability_of_prediction) for a given sample/set of samples Xi"
      ],
      "metadata": {
        "id": "jmaZ3KFOmgfE"
      },
      "id": "jmaZ3KFOmgfE"
    },
    {
      "cell_type": "code",
      "execution_count": 29,
      "id": "b03385e5",
      "metadata": {
        "id": "b03385e5"
      },
      "outputs": [],
      "source": [
        "def static_k_unc(Xik,PretrainedClassifier):\n",
        "  return 1-PretrainedClassifier.predict_proba(Xik)"
      ]
    },
    {
      "cell_type": "markdown",
      "source": [
        "Static constant utility function that is always constant (=1)"
      ],
      "metadata": {
        "id": "gNR82KXzmw8C"
      },
      "id": "gNR82KXzmw8C"
    },
    {
      "cell_type": "code",
      "execution_count": 30,
      "id": "8bc2cfea",
      "metadata": {
        "id": "8bc2cfea"
      },
      "outputs": [],
      "source": [
        "def static_k_const(Xik,PretrainedClassifier):\n",
        "  return 1"
      ]
    },
    {
      "cell_type": "markdown",
      "source": [
        "Function to generate Uk - the set of unlabelled samples with documents truncated at k words, from the entire unlabelled dataset U with complete/non-truncated documents"
      ],
      "metadata": {
        "id": "fUSsoWfXm4je"
      },
      "id": "fUSsoWfXm4je"
    },
    {
      "cell_type": "code",
      "source": [
        "def generate_Uk(U,k):\n",
        "  U = U.apply(lambda x: ' '.join(x.split()[:k]))\n",
        "  return cv.transform(U).toarray()"
      ],
      "metadata": {
        "id": "3I2t5iee-UYc"
      },
      "id": "3I2t5iee-UYc",
      "execution_count": 31,
      "outputs": []
    },
    {
      "cell_type": "markdown",
      "source": [
        "Sampling 1000 documents from the second half of the dataset to train and test the pretrained classifier"
      ],
      "metadata": {
        "id": "r-Q3ezKGnDAE"
      },
      "id": "r-Q3ezKGnDAE"
    },
    {
      "cell_type": "code",
      "execution_count": 32,
      "id": "69ece735",
      "metadata": {
        "id": "69ece735"
      },
      "outputs": [],
      "source": [
        "sampled_data = df2.sample(n=1000, random_state=14)"
      ]
    },
    {
      "cell_type": "markdown",
      "source": [
        "Encoding the sentiment labels"
      ],
      "metadata": {
        "id": "lg3eIz2PnKwc"
      },
      "id": "lg3eIz2PnKwc"
    },
    {
      "cell_type": "code",
      "execution_count": 33,
      "id": "515d860d",
      "metadata": {
        "id": "515d860d"
      },
      "outputs": [],
      "source": [
        "y=encoder.fit_transform(sampled_data.sentiment)"
      ]
    },
    {
      "cell_type": "markdown",
      "source": [
        "Performing train-test split (50%), less amount of data is chosen to train to replicate the condition that very small amount of labelled data is available for supervised learning)"
      ],
      "metadata": {
        "id": "ZK7jM1NEnM7U"
      },
      "id": "ZK7jM1NEnM7U"
    },
    {
      "cell_type": "code",
      "execution_count": 34,
      "id": "3307f22d",
      "metadata": {
        "id": "3307f22d"
      },
      "outputs": [],
      "source": [
        "X_train,X_test,y_train,y_test = train_test_split(sampled_data.iloc[:,0:1],y,test_size=0.5,random_state=1)"
      ]
    },
    {
      "cell_type": "markdown",
      "source": [
        "Vectorizing the train and test sample documents"
      ],
      "metadata": {
        "id": "PZVv2eS0nZH4"
      },
      "id": "PZVv2eS0nZH4"
    },
    {
      "cell_type": "code",
      "execution_count": 35,
      "id": "606100d3",
      "metadata": {
        "id": "606100d3"
      },
      "outputs": [],
      "source": [
        "X_train_bow = cv.fit_transform(X_train['review']).toarray()"
      ]
    },
    {
      "cell_type": "code",
      "source": [
        "X_test_bow = cv.transform(X_test['review']).toarray()"
      ],
      "metadata": {
        "id": "wCvg-qw62UOz"
      },
      "id": "wCvg-qw62UOz",
      "execution_count": 36,
      "outputs": []
    },
    {
      "cell_type": "markdown",
      "source": [
        "Defining the select subinstance function that returnss the sample for which the ratio of utility/benefit to cost is maximum"
      ],
      "metadata": {
        "id": "iEvDCUA3ndHp"
      },
      "id": "iEvDCUA3ndHp"
    },
    {
      "cell_type": "code",
      "source": [
        "def select_subinstance(U,classifier):\n",
        "  return np.argmin(classifier.decision_function(U))"
      ],
      "metadata": {
        "id": "xIPN4dnF5hgA"
      },
      "id": "xIPN4dnF5hgA",
      "execution_count": 37,
      "outputs": []
    },
    {
      "cell_type": "markdown",
      "source": [
        "Considering the test data samples and the unlabelled dataset U from which samples are drawn for annotation"
      ],
      "metadata": {
        "id": "1Kz7ODNInoYy"
      },
      "id": "1Kz7ODNInoYy"
    },
    {
      "cell_type": "code",
      "execution_count": 38,
      "id": "b497d8f7",
      "metadata": {
        "id": "b497d8f7"
      },
      "outputs": [],
      "source": [
        "U = X_test_bow"
      ]
    },
    {
      "cell_type": "code",
      "execution_count": 39,
      "id": "c035041b",
      "metadata": {
        "id": "c035041b"
      },
      "outputs": [],
      "source": [
        "k = 25"
      ]
    },
    {
      "cell_type": "code",
      "execution_count": 40,
      "id": "36f4922a",
      "metadata": {
        "id": "36f4922a"
      },
      "outputs": [],
      "source": [
        "Uk = generate_Uk(X_test['review'],k)"
      ]
    },
    {
      "cell_type": "code",
      "execution_count": 41,
      "id": "ababe15b",
      "metadata": {
        "id": "ababe15b"
      },
      "outputs": [],
      "source": [
        "PretrainedClassifier = LogisticRegression(penalty='l2', C=0.01, multi_class='ovr').fit(X_train_bow, y_train)"
      ]
    },
    {
      "cell_type": "code",
      "source": [
        "L = X_train_bow"
      ],
      "metadata": {
        "id": "MFkLQaJ5C6mD"
      },
      "id": "MFkLQaJ5C6mD",
      "execution_count": 42,
      "outputs": []
    },
    {
      "cell_type": "code",
      "execution_count": 43,
      "id": "084de6e4",
      "metadata": {
        "id": "084de6e4"
      },
      "outputs": [],
      "source": [
        "C={10:5.7,25:8.2,50:10.9,75:15.9,100:16.7}"
      ]
    },
    {
      "cell_type": "code",
      "execution_count": 44,
      "id": "2f59e36c",
      "metadata": {
        "id": "2f59e36c"
      },
      "outputs": [],
      "source": [
        "Ck = C[k]"
      ]
    },
    {
      "cell_type": "markdown",
      "source": [
        "Loading the pickled oracle model from drive"
      ],
      "metadata": {
        "id": "p5CtjXAAn5cA"
      },
      "id": "p5CtjXAAn5cA"
    },
    {
      "cell_type": "code",
      "source": [
        "# with open('oracle.pkl', 'rb') as model_file:\n",
        "#     oracle = pickle.load(model_file)"
      ],
      "metadata": {
        "id": "BxNavId_ZiSi"
      },
      "id": "BxNavId_ZiSi",
      "execution_count": 45,
      "outputs": []
    },
    {
      "cell_type": "code",
      "source": [
        "L.shape"
      ],
      "metadata": {
        "colab": {
          "base_uri": "https://localhost:8080/"
        },
        "id": "s4Rx9gjygaEo",
        "outputId": "89be1c31-ab8e-4ed9-ee4b-73fc41638fbe"
      },
      "id": "s4Rx9gjygaEo",
      "execution_count": 46,
      "outputs": [
        {
          "data": {
            "text/plain": [
              "(500, 191604)"
            ]
          },
          "execution_count": 46,
          "metadata": {},
          "output_type": "execute_result"
        }
      ]
    },
    {
      "cell_type": "code",
      "source": [
        "y_train.shape"
      ],
      "metadata": {
        "colab": {
          "base_uri": "https://localhost:8080/"
        },
        "id": "5sCQ7tVm1xG2",
        "outputId": "d7e51c70-de6c-47ec-8f6c-f56bad019008"
      },
      "id": "5sCQ7tVm1xG2",
      "execution_count": 47,
      "outputs": [
        {
          "output_type": "execute_result",
          "data": {
            "text/plain": [
              "(500,)"
            ]
          },
          "metadata": {},
          "execution_count": 47
        }
      ]
    },
    {
      "cell_type": "code",
      "source": [
        "type(U)"
      ],
      "metadata": {
        "colab": {
          "base_uri": "https://localhost:8080/"
        },
        "id": "WKibIbF4w1b7",
        "outputId": "9e89009f-a95c-477a-c266-be8c3976f7af"
      },
      "id": "WKibIbF4w1b7",
      "execution_count": 48,
      "outputs": [
        {
          "data": {
            "text/plain": [
              "numpy.ndarray"
            ]
          },
          "execution_count": 48,
          "metadata": {},
          "output_type": "execute_result"
        }
      ]
    },
    {
      "cell_type": "markdown",
      "source": [
        "Initializing the area under curve AUC and cost arrays to obtain the learning curve for AAL"
      ],
      "metadata": {
        "id": "iP7AsA3qoFUr"
      },
      "id": "iP7AsA3qoFUr"
    },
    {
      "cell_type": "code",
      "source": [
        "auc=[]\n",
        "cost=[]"
      ],
      "metadata": {
        "id": "tGchvR_is-N6"
      },
      "id": "tGchvR_is-N6",
      "execution_count": 49,
      "outputs": []
    },
    {
      "cell_type": "markdown",
      "source": [
        "Applying the static AAL algorithm according to ![image.png](data:image/png;base64,iVBORw0KGgoAAAANSUhEUgAAAaAAAADoCAYAAACpSjDsAAAgAElEQVR4Aey9B1RUV9v3DTPMAIqKJUZjTSPqbUKUqLEkiibGGEswlmg0RtHYsMTeQLFhb9i70RhN7A2XvSvltaLIq0hZFPWR8lBeZr6Zs37fOmdmYAaGYUBNvJPDWsNpu/73dfZ/72vvc10OyH8yAjICMgIyAjICfwMCDn9DnnKWMgIyAjICMgIyAsgEJAuBjICMgIyAjMDfgoBMQH8L7HKmMgIyAjICMgIyAckyICMgIyAjICPwtyAgE9DfArucqYyAjICMgIyATECyDMgIyAjICMgI/C0IyAT0t8AuZyojICMgIyAjIBOQLAMyAjICMgIyAn8LAnYT0Pvvv4+7u7v8kzGQZUCWAVkGZBkoVgaqVq1aLKnZTUA7duxgw4YN8k/GQJYBWQZkGZBloFgZ2Lx588sjoGJTkgPICMgIyAjICMgIlAABu2dAJUhTDiojICMgIyAjICNQLAIvQEA67h/cS0S2tTw0JESc5fTp05w+fZaI+FxrgV7+PeEZ135dwvI/b5NRVOqaBCLOiuU6zemzYcRaLX9RkV/8ftbDk+w9H4/ejqQ0z6IJvxZO9DMNIPAsIZEcO+LZHUSTwPWzEaTo7I5hO6CQRnLKSy2h7fzEpy+7DsXnWDjEy67361CnwrX8S+5oEq5zNiKFlyWSf0mh5UxKjUDpCSjrCANrVqLz5mSEQtlrSTg1niZlHHFwUNFqUYxdHW6hZEp4QxMyiBpKBxxVHzEtIl+EhdRrHDmfZCinNoFz/q2poHDAQdWE2ffsoYISFqRQ8CwenVzNL10/pLLKibf9ziFSSpF/QjLHp7Wjvmcnhk6cwNCebWneojkNWkwlNL9aRUa390H27h5UUFZn4NGXM0DIvfgLjdot49FfAamxki+7DvZiZx7uZdf71dVJIP3Wn8zr+xHlHB1QlP+YfnN3ci2l8BtsXr+/7jyb3T0qoKw+kJckkn9d0eWcSoVAKQlI4OmvPlRUOOLSPIj71joczWmG1Vb+pQSku7eMtpWUqGp+z85E40ulf8y2brX5aHJo3qhKe+kXPJz+IgLSP+LIkkBmTfmWd8Q8HZTFElD2UV9quH7OkscmYHUkHB7Bx7X7c9CMK4SkK1yOtp+RCoXPjefa6TCStaWSnQKR0vizz5soVA2YeO2lJFggfcPlq62D1SyLufkS6i0kceVydJ588lLbpXDxheRVtFM74Nx+Hc8KP/5b7+TGX+N0WDKvToL+1urJmRdAoHQEpH/Mcu8yODo44ODkwdhLVsbzIgHV+WsJSKybkJtJpkl6hVTOT21GBYUT//m7CMgEeO4hfqqqsIOA9Nyb0wSVc2uW5hGQmEgWR4YOYP1TI7Fq7rKsfSOGn7KCvSlP82NJw5vHteNciF/Dd19+SfPyTlTvt590O+KUOMgrrkOJyyPK2wvXW8PdZe1pNPyU7VlxaQpXVJy0jXzt7IBz561kFhVGvi8j8BcgUCoC0t2aRffu3+HlLKrYFFTru69wh2OVgHKIPjgH365d+WHoILp99Q0/jprI5MmTmb4twlBdbRwnF4+gX/8hjBryI32HLyQkVmQUgeST8/Dt0Q0fn270W3qZx0cD6d3Gi6Y9lhH2NJS1w7+nm48PPj0m8mdCLtdnNcNdVLU5KKhQrx0+PQM4lgrmM6BZl86yxLcDTT29+GLQKq6niR18FmHr/ejTzQcfnx5M3hvJuUV9aeNZn4YterHkSgb6p2cJ6tWKD//jRfsh64koctHJ2IqaEAbXEAm5+BlQ+m/dcVcoeMN7Fhef5atHdHH3eCD2GDl32fS9By4Kd5oNCCBw6RFixMmSkMbd/atZunIlcydPYuGhB4Y1oyLC657f5eja2WwNMzG2WFYdKZe3EjTDnynjp7B4fyQZ+UUoQiR13Ar8Bt/9CRzo/xbKcl+wKtY0ezNF0ZBy8zCrA9ZzOSues+umM3zwKBYei5VGuzlRh1gxeyYzZs5l1e5QksU89Ylc2baYwKAtXIm9bbXOheqge869k5uYtew4KemR7F88nsG+Y1h+TlQVZxJ5aAXTRwxm5PyjxFpMHrO4f2ApU0cMYsiEBey+kWZFtWyqi+loT70NYXUpl9kaNAP/KeOZsng/kRKoOdzd9D0eLgrcmw0gIHApR2L0WNRJF8+ZdfOYOWMms5b9ToQkDxoen1rHvMD5bLnyxJBB1n0OLJ3KiEFDmLBgNzckOTaVs8CxBASUdf8AS6eOYNCQCSzYfQPzZIW0u+xfvZSVK+cyedJCDj0wrf8JZD0+x5a5m7n6/Da7A/3wW3qB5KSbHF4dwPrLWcSfXcf04YMZtfAY0ustFVHH87tHWTt7KyaR1KQUF0eMqCPpwibmB05j/MSZBO8+w82H8SQ+ycyfVRaAQL58PRAoBQHlcn5cdwJvxLG+YwVpFuRY/ivWxhfopQoRkEDy772p6eSIa7tgEgQ9jxa1Qu2ooHLrUaw4ch/0sezoVQeVpMbRgOYqE+qrUNXuxY44sUNLZ3tXNxwdHCnT4DO+8W5CbZEEnRowKVSL5uQQainzVWu5zy8yyVOFg4MTH4w6SeKTNHIEMwJSVObjHpNZvWMJPd52wsFRRYNJ1wzTf+1lxno4SYRRo2U/xi/aQvCPH6BydERVuy39h01k6ZZFfFdXiYOjmo/9I2wLewkICM0tln5RFaWjI841vRmz7Qap5vAKGlLPjqW+uiYD9yeTmpaNDg3X/BtRsW0wovZRiAumnXs9xl/WgJXwmrgzrPD1ooKiAj33mDqOdC7N6shXY4+SoANtxDQ81RX5YkWU7TW8nFOM/Go84kRYc2U89ZxUfDQt3EKNkvvwFIu61UWpakDX0ROZv3kHK309KVu2FQujxLbN4eqkD1GpPiUoOp+80nb2pl3gLbR21UHH4/PrGfihCqe6HRgzczGb9+5ndV8P1FXaMmT6ZOZu+JNDv46jpbsb3suNa5NCEvv8ejDuUCy5+lSuBbSgXPlmBIYVM7u0o97ia55+aRYdvxrLUQOoTPNUU/GLFUTpBTSpZxlbX03NgftJTk3jfx8Vbhdd1GJal3OizvAz+bOkjF/5vt1c7upASNqHX49xHIrNRZ96jYAW5SjfLJAii28XAQkk7fOjx7hDxObqSb0WQIty5WkWGGYog+Ya/o0q0jY4EQGBuOB2uNcbz2WNwLOw7YxsURGFc1P6jPNjaO+mvPfZONbP70ZdpYoGXUczcf5mdqz0xbNsWVotFOVLT9yZFfh6VUBRoSeSSOY+5NQiW3FEdPXE7+iJh/cC7msFMi5PopGLkkqf9GJk0FHpXXg9ulq5FNYQKDkBpe9jUPclPNRD+r5+VBNnGI5qvGbetuyACxFQOls7i2o7JTUGHZeEOHd/XyorHFBU95UWHbOP+VJT6YCiUh/2Sn1iDn/2rojCQUmdoSfJIZc/e7tLpKfynM4NnY7HRxfhv+go4oDbfGYjbS7Q3SXQy0BA1lVwXsy8Iw6DcznUvyoKBwfUX65F0nLpbhLwsWVczYmfpfI5qJox74Gh0zSUxxGXbzYXngWaI14SAhLj5T5k39SOvFfWUcK3RttpHEvI75h14VNpqK7N0DwVXAZHRjTGa0wIWWJ8zQl+rulC62Xx0ki+cHjQPwjiU3U+AenCpvFx3QEcNullhAT2ju3O8B0PbRCQwLPf+tIp6J4hjD6K+S1cUNYYwOECs8KMLZ1wVrVkoXGXgpAcTFt1GbpuNwQUEjbQ0V1tRl7P+e3HHqyKM7CvPXUQ2/LowGqo6k/EtBQlxvtQ5U6P300Ve8b6r5wp67NTwkpzfhT1mk3hTOQ97t27R+R5fz5VKak7wqzDN29L6dzOeuvCmPZxXQbkg0rC3rF0H75DeofQhTO1oZraQ/NVcAXbBTI4PKAGqnf8OGtcA0zdMwTf7U8Q0HB+VD2aTTlD5D2x/JGc9/8UlbIuI84UQaD2EJDmPKPqNWPKmUgJk3uR5/H/VIWy7gikZDOOMKKxF2NCJGlDejdcWrNMGojqebz4M1Tq/LaWIMvYQidnFS0XPjLIipBMcFs1ZbpuN+5a1fMg6FPUJgISIxUXR/+Aec2cqT3stIEYhURWtXPF9euNPC/UZvKN1w2BEhKQQPLm3ny/QRz1iJ3cRcZIswQHlO+M4IxpIC09K7gGpOHkkFooHRRU7X8I8T3K2dOLCuJuHGnXi5ZLv3jg5OCAss4wTkvvjoZTQ2ujdHDA6T+TCdXmE5Bzx02FOvySE5BpF5yGY75vGQjIe6Vh1JRHQCo8p9+QyFVzZgR1pRmW6cXK5UC/KlI856/W217QLSkBGSUl5+EBprStIc28XP8zhlPGxRVrnbEhiobEq7tZu8SPzyqqaTbvgfSyWwuvj1lEqzwC0nHT35MyrZdi7O+NJSjmoH/Esi+aMWTLYY4cOcKRI4fZNuxj1IrydFiXYKHGyt7eBWe1NysSjNO5zK10dlbz5RqxIxX/sjg59G1UNX7kQDoIT7fTv99WTJu0iq+DmIaG44NqoG44lXCjik3/YB7N1JXou9+0gyOHnT5lUEttrSNsSkPcvAaxLDiYYLPfmsP38mccBWGws966m/54lmnN0qJAtUZAFu1iyFgbOoWG6mr02ycCk8KWwSM5KPK2LowpDd3wGrTMouzBwWs4fK/0BKQLm0JDNy8GLbPEJHjNYSyS1SRydfdalvh9RkW1aWAmkLDCG3UZH3aa9wnZ2+nirMZ7hUkuMtna2Rn1l2t4IgmAnhhRK2JOQMXF0d1hppcKt06bje+foZ8p12kLqQXbTL5+7RAoGQHpo1nU4UPa+PSgRw/Dr7NXNZwcHXBQvEHPXWZjjkIzINA//o1+Hq6oPIZyJO4xf/70Nk7KKrQOCiMHM7J5bzQXpGUJDedGviMRkPKdkZzTmBGQlRnHP4KA9ElEPSiw/qB5wMZv30LpWIb2a5MkIbLWGWse7WNiz974739Adu5JhtR0LgEBaQgZXAPnpnOs72osQnS1YdNo2/4XlixbxjLTb/EoWldWoG4UwE2zdZbiCQj094Jo7lqOtitjSNo8gMF/pOXlbK3OliQqBi0JAa0gQTDU26XNcgpqkfMytnJib701IYOp4dyUOVa3iooEYmUGZIWA0D9kSeuyuHfeTFLMKgZPPi8N4pAGNi60WW6Y6VopauFbdsyApHK7tGF5kaBoeLRvIj17+7P/QTa5J4dQ0/lvICD0PNrsQ60KnzD5Qir67HBmtPHC79hzi8FPYRDkO68DAiUiIPGlaz/osEHFYyy9ELeKL9zEzQiOlG1j9g2IFQIS9fzRe/zo8PVgAoIWsGDJOvaHPzGuFQgkrvoCV0cHlDV+5oRxBiTOTJRi2h3Wkyz8CwhIe5WpvQLyFmFNQqI5NYzaShVN5tyXbhk641r5KjjdTQI/KUfDKWEGVaikgitIQGbhRe25RUen487MxqhcPiHwlhlrkMOdqzeK+LA3nYMDWzHyjGlmYSptLudHvY+TsjaDjxtUNOITewgI4Rm/96yKut5PDPtxFEfzo1OozoXqIOZSUgIyzPxUbu0Ittg4oeNRSIi0xmKqVf7R/nrr7sykscqFTwJvWaioc+5c5YY0gzEQUC1zFZxFu5hyNXz6ULlMS0aMHMwcE7PrbuLvqcKtXbCkhjaFRveIkJC7eZcWJzYJSCDxtzkE752Gp8qNdsGxFupX3aMQQu7q0N0M5JNyDZkSZpAVSQX3txCQKAQJ/DlxAH7TZjJ3yQaO3DOpWi1qLV+8hgiUgIBS2dffC98j5nNqcedVCmvbuxo2Izh5MPq80bSARhyBG7Zht1ggriHoid3UhapOFWg76yy3o6KJfhhDYmpu3khFeH6QAXWccHRtz1pR7yIksaqdM46qtxl0VBwJ5/BHL8PGB3X7tTwtAKj24hjek77v8WJWpE5c5CDoU3EdR9ypt5e4i8tZdjyNQuGM6wbSGlCb5UgaIl0E0z8S46r4cFq4QQV3WiQBcZNDc+aLi2Dksv+HSgbVnZXyWBQvazc93Y27BgccMYxeLQIYL4SnrP2qMk2mXjRTMQrErfoCN2dPphu3B+nvzaGJ2p3uuzIg9wkpcZvp7Kqk7uDjEllk3g6ijZsKT/8baPQChcKnCeijg/hU5cZ3uwxtqoucT8uyCtwa/sSac1Ekp0RxYvEIph80qcgsC6x/sIS2jcZyyXwTnTGILmIaH6oUuHdYm6fSyxTXgNTeLDep4KSOUE271Sl5MiBG194IoLGzE++OPGeBkz11kNaAfKujbjgFY9+I/r4Bq+//NMluNju+dUVtnPVow6bjqVZSpfUkdocmkJmdyNX1IxkSXGBd01i3EtVbF8n8lmVRuDXkpzXniEpOIerEYkZMP2hQO+nvMaeJGvfuu8gglycpafx/BdolD/XsEH6u7USZ1kvMPvbVEjbdE7WoSZi0m9CETLITr7J+5BCCb5sPJPJSIe87oEJaBIG08OV0bTGSM5lhTPdUo6zSmkm7Q0nIzCbx6npGDglGTDZja2dclXUZfFxk0UxuB7XBTeWJ/w0NekEgfllr1C5d2W42gCBTXANS473cpIJLY+PXzqjbrTaqWfVEB32Kyu07jCJJ8XGyuTCpJV0WhpPwLIMcrVG9m19d+ew1RsA+AhKSOO7flhoqV97/5heCzxqtCugfcmjBaL6qqzJ8E+TgiKvHdyy7HM+15d9Q28nQ4Zb38uNgbA4nfq4pqdMcxO+HTD9HFW80+pENdwyj6MzwVfT5sDof9V3MxkU/8GF1T/quu0kWAkknAmhbXSQ1w1fcP8w/nj/qywol2Oc91KI60NGNRkP3i10Ztxa2oZJSXMh3plaXYG7/Tyiru3ngbAznOWgPkeFr6CwSn5iu+6eMPRpF2JrufOBqmNmV+dCXP6NusaWHhyF9RQU+GX2Ye1dX5MVTvumN/0nj2ph5g+sTOLcxiIk+DSgr5inl4cUP0xZz8L6VnhsNJ4d58p9W3nT8cRyzlixnwfhufPx+c4b+GpnfIWuvE9DYDXV1L3xGb+HW/8azo3cdnBVu1GzcHt/FO5nRxg1V5Y/otfoG2gLhQyMvsGV0c9wVSmp1mcOB26LGXEvM3tG0fFMt7TRUlKtHj+XXrc5+su/+zsgWlXCq1o7Jv4UZNm4Y6y2k3mTf/O+kwYCjsjrtJu/l5v3TzOtcE6WyOh1mHiLy6SNCAr7kTaWS6h0CORFjtl4hxLOsbSMmFzT7UGwdknh8fg0/1lOhcG/FuN/CSEqJ4Pfxn1FRoaSOzwKORz3hQch8vq2jRFmtA4GH7pIqZBG+ohse5Z1wdHREUfYdOgSEGLaCm7elOIsrYb3v5YA2Zi+jW74pyY6johz1eiznumHfhYT59YDGuKmr4+UzmvXHTlhpF1MhdIRPb033rZaETVY4K7p5UN7JEUdHBWXf6UBAiDULJZB+ex8LfvSULCE4lq1L847f4iN+utDla7y96lLBSUHVfvslLUdW+Aq6eZTHydERR0VZ3ukQQIi0Px708TvoXccZhVtNGrf3ZfHOGdKAp/JHPQnavokxn1VGoazGF1O2cT4mF7SxnJ7XmZpSe8/kUORTHoUE8OWbSpTVOxB44j6PL2xhdHN3FMpadJlzgNspMcXEiQHSOD7mIyooxHdVfPcVOLlW4p3PfmZHlLX3y4SlfHwdELCPgF5SSfWPd+HbsCpVar3N22+Lv7rUrFwGpaOCit//aZaLjoy424TdiiPD+iDOLGxxpzrSY29z417yy7WjVly2L/A8OynRuO1aS2rMDUJvPSbVrH/OSzr3CY8T0s1UOzk8iYnlufG9EzITeZQoUrfxr1B404MCRyGb5EePeZabF7NAgFd8mR3CqJ7zsWolyd46lKaIunTio2N4Ku7Vf+l/AtnJj3j8LH/Gn59FLk8eJ5Buj6xnZ5BZRDhdejzRMU+lTw3y037RMx3p8dHEPM3JlyNTkjlPiIl9nqdCz0x8RGLWq8DOlKGVoz6Bw4FT2Bz6mPs3rnLhzEmOH9nPjiWD6PTL8fwBm5Wo8q2/H4G/joD0Maxu745b+zWWe/P1CQS3K0u1gUf+fjTkEvytCOi0WgT0xKztTf+t1kfwf2sB5cxfMwQE4td9TfXOmwvteBOeH2bRGsPu1des0HJxzBD46whIeMp+3/cpW7MjgX9c4Nb9B9y/fYXDq0fytbcvO0pg08ys/PLpPwQB/eOVtC2nxr1WHd72DuKWrD35h7Tsq6yGQMI2H95Uv0nTvlNYtHYTm9evZP7U0fhN284N8/WnV1kMOe1SI/DXEZBUxFwSw4/y2/qVLF2yjJXrd3D4yiPS87+vLHVF5Ij/5QjoYjg4axhDJq7jspn5of/yWsnFf+UIaIi/uJU5Y4cw0HckU+evZW9octHfb73y8sgZlASBv5iASlI0OayMgIyAjICMwD8ZAZmA/smtK9dNRkBGQEbgNUbAbgJKTU3lf/7nf+SfjIEsA7IMyDIgy0CxMvD8uZllnCJI0G4CqlevHpUrV5Z/MgayDMgyIMuALAPFykD16tWLoJ3823YTUH4U+UxGQEZARkBGQEbgxRGQCejFMZRTkBGQEZARkBEoBQKvLQEJKbc5e/o0py1+Z7ge8+82NKhLjeL63aeFv0q3s/H1GTFcjYg1s55gZ0RTsOx4wiJiSrHNNZv4sAjMLe6Ykvyrj5lRh1nySz++7dyTCbujS4/FSy24noyYq0RYumktOgddKlHX71qYQCo6sJUn+gxirkYU8AprJVyRt0rfntnxYUT81YKQk0DEif0cvJpYZHtrE0O5mufVtciK/8UPSo/zSymo8IzwA9vZtnUrW81/27bx6++HuBidZmGstqR5vjIC0mu1L1Qw4cktjq4fgpdkadsBR5UHvZbt51qs0dhpSWv6ouGFVK4dOU9SiS2NCKTf+pN5fT+S7G8pyn9Mv7k7uWZycmNvuYQkLqzsS8MyTrztd67kBKCL5eyaEbSopMS50xar9t1sFyWDO3sm0+4tJ5zz/LfYjmF6mnFnD5PbvYWT85esMTh+MT36a49CGteX96e73zI2LurPR2Ud8x2s2V2SLO4eXIrfZ1UlK+0uH3QjYNMFTL4ChbSb7JnViwZllVRu6suCQ/eLNQejiz3LmhEtqKR0ptOWPCNxRZRIIOnCSvo2LIPT236cs2aiqYiYhts6Ys+uYUSLSiidO1FsdlbSKnV7Ztxhz+R2vOXkbOYDykoGL/VWDpG7/Bnm24fPa6tQSX7FCmcgPP+TvrXew+9sCQDNfUDIGn++fU+No6OKWq160feHXvi0/5SPvb5kwJzDPCpBcgVLVWqcCyb0QtfZJEZeY/fQBqjc2xN0JoyIiAgiIkK5eHAxPetVw2vUoVL0i4ZCvXQC0j0NZdvELnzoPQvJ2eiLVF53hxmNRYvU5i4aXiTB0sbV83hbN2p/NJmC9jHtTTHPAnH7dbYd19lKUHuB0e+pSkdAYrpCkuSBsnQEJCaQzqaO5g7EbBXW8ln6po44q+0nICHpCpdfqnUMPdFrOvJeu2Xcl2ypGbyiujaZLVl3tixt8Ve5e3vjrlDRdK41d+XpbO9WP99VRvHJISSJ3mHtISAxMS0XRr+HqlQEJMYXSApui7qUBCSmUNL2zIMgfRMdLZwQ5j2xfiIkceXyi8xStWRni2Y1cjjQ7w0q+uwoZLZHxOPJls5UqjeOKyW2wKHjhr8nKuVb+B43sY2epCNDqK9W8fagI+R7tLJeRVt3S41zUYmWCs8s/uxTBbevNxgdB+Yn/nxTR8qIVtBN7kHyH9l19nIJSJ/CrUsX2Ni7Bs6NZ7w4AekjmfWJkYBqDyXP+7RdVXtZgQRSz0+lWQWFwStrEYYgi83Npg+WYmMbAmgv8YuHuvQExFPWtleXcgYkFqGgB0s7yy3G3NrZfgLS3GVZ+0YMf4kNLiRspFOV9xh+2jSDzuHuyaPcSSvxlFaqdO6hn6iqUNFqUYyVmX4ux37+kmkml6z2wPR0Le1LQECi92B1qQkInq5t/0IEVKL2NK9/IS+45g8Lnmu4u6w9jYbnuysvGMLua805Rr5Xje/3WKED0dnf5+WpP+Ga0bCq3amKzoiInPUJKmUNBuURkOhoMJJZXiqjt+eSpGcZttQ4WyZjvColntrzjHrXhWaFBlsGz7fOqk8M7m+s5mn75sslICkvHTcDPsb1VRGQLpKdY/vRTTQh330k226EsnGUD581akTrPvM4I6m2dETuHEu/bj74+HRn5JYz7Bn7FV4NG9Pmu/HsiBQ7oSxC1wyjlxSmJzOOp6G5+zuTB/YwpN0riPMa0F6fRTN3hcGNQoV6tPPpScAxg7PfzGtL6Nnci7Z+u4kpzpyQ3QQkkHZ3P6uXrmTl3MlMWniIPLV0HgGdIPrUSiYOGshw/3WcS7Rkxaz7B1g6dQSDhkxgwe4b5Pex1gmo6PDii5TA+c3zmREQwKw1BwnqYO8MSEfC+c3MnxFAwKw1HAzqYElAQhp3969m6cqVzJ08iYWHHhislefcZdP3Hrgo3Gk2IIDApUcM2BYV3rZ8G5+Ko9SPca0/gWs2RrjCs0usmhzA75EFHewVzsQ2AWk4PrQD/hHGdtGkcPPwagLWXyYr/izrpg9n8KiFHIs1K4wVAhLS7rJ/9VJWrpzL5EkLOZQvCJL7epGATkSfYuXEQQwc7s+6cwXWN7Luc2DpVEYMGsKEBbu5kS8I1gnIRngopj0LQ5R3R5dwns3zZxAQMIs1B4PoYDEDKkrec7i76Xs8XBS4NxtAQOBSjkgvWVHh87KzepJ5eCC13/fjrMkllFmotCO+1FG/zy95jq0Enl1axeSA3yleFIogII2orXDCqd4ErorNnHGfI2vmMXPmEg6JvsR0cVzYupTZM2eycP8Ds3Wp4nHWJV1g0/xApo2fyMzg3Zy5+ZD4xCf5VtKttmNReJoBUcSpPnIWn7h4mOFjCCg8P8Hw+uXw8N2f57qkJO+QmMpfR0AZp5j2pWcZw48AACAASURBVDfD/0gsoppWbhcxA9LdnkFjlegGvAqf9JrEsl/X4ttQ9GGjpIbvUaQxbl5cBe4NezHvYCgXV3zLW0pHlFW7skn0fpm9lz6VRHJR0zbYYH05dVNHySurg3NXfhWFNfc5Fyd5onJwwOmDUZxMfEKaZK4/lyMDq0nO6BxUTZht1XeAWZ3sJCDNNX8aVWxLcKLokC+O4Hbu1Bt/2bDmIxGQiiqe7en18zRmTupL06pOqOv2ZmecyIACSfv86DHuELG5elKvBdCiXHmaBYYZ14wKElAx4XNvsrJrK/puj0aDQPr12bR2V6Audg0ol5sru9Kq73aiNSCkX2d2a3cUeSo4Ddf8G1GxbbBkGV2IC6adez3GXxYDa0g9O5b66poM3J9Malo2OmyEN4O4yFPtFcZ5qHlnpO21M8mrp9KFFgseWJnVWKZuPwHl8vDUIrrVVaJq0JXRE+ezecdKfD3LUrbVQqJMA5eCBKS5hn+jirQNFn1MCcQFt8O93nhEiEQVnDgDUlXxpH2vn5k2cxJ9m1bFSV2X3jvjpLILSfvw6zGOQ7G56FOvEdCiHOWbBRJm1BIVnAHZDl9ce1piY36Ve3MlXVv1ZbtBELg+uzXuCnXeGlDR8i6gST3L2Ppqag7cT3JqGtk6KDq8ea4FzoVkNnd+k6az75p19MYwuaFMa+SMU93hnDFp0NAYfJe5tGDBA1MDFUgz79JIQIrq9NsdT0pKAtE3jrN64MdUfLM5E47lO3PUnB/FuyqzmZLmImPeV/HGjweN64TF4yz6Yerp4c2C+1qEjMtMauSCstIn9BoZxNFEgaLb0TqeedUo8kQgeW17ylT6ji2PU0hJSSEh6jrHtwcx/Dsfhq+5ylMziEryDolZ/nUElHmBOd26MulwSpFVLfQgj0QcUJqp4PQPF9BCJCDl2/hJq7BaLo/1wMnBAdUnsw1+ZIRYlnwmqu+U1BgcYuiAc48zqIYSB0cVjQJuocs9ysDqlgSU83t33ETHcSYCQsfdQC8DAYkLmHmTDYFnx8bS7K03eK/Lcm7mCW+hWhhu2ElAGUdG0NhrDCGSJV/Di+DSehnxoqbISEBv/LAX017AjDN+eDg54THuClrNeUbVa8aUM5Hcu3ePe5Hn8f9UZbbQXoCAbIbXE72kNe7Ng8h/B5+x7qviZ0D66CW0dm9OUH5Enq37ymwGlMGREY3xGhNicO8uuQ93ofWyeGl3n8H1dm2zNRTb4YtAPO+29vpEidAGhxQ3s9Hy9HE8GXZo5ewnILEYGWzp5Iyq5UKjJ1OBZHENpkxXtpv2HBQkoIwjjGjsxRiDICC92C6tWWYQBAMBvfEDe/MFAT8PJ5w8xHUMDedH1aPZlDNEinJwL5Lz/p+iUtZlhLGXtSQg2+GLb888qC1P9NEsae1O8yAzQn+2jq/MZkA25V1ncFde28xduc3wlrnnXenvzaN51Y5sKLSDSMONWc0o66ig+oAjlv7CtE95HJ9hx25TIwE5lqX+1z/xU98edGr9H6q518Z76ErOJuTPcnU3A/hYbUZA0hq3Oo+AisdZz4N5zXCuPYzTUn8jkLiqHa6uX7NRMjpgux2xgmceSEWeGNd/PpvE7gMHOCD99rJzzSyGfD+QoFOJBQZr9r9DYpZ/HQEVWUEbD4ojIKf3GXNRbGAt1yc1MBBQowBuiSRhRkB5AmzUyzo4OFLm2x1kvRAB2Si3tUd2EpApqibxKrvXLsHvs4qom80zkECeCs5sJK+9zsT6TqhbLyPm+hQaunkxaFkwwcFmvzWHuScJrCUB6cJshP9/sSz93EXy05TfbduzBiQQu/RzXKoN5Eh+xCLWgDQkXt3N2iV+fFZRTbN5ho6qMAHloWI1vOmp9aOe+3OaoK7yA3tfonn+khFQNtu7OKP2XmFw925tTawgAZkqo0nk6u61LPH7jIrqZsyTSN0wA7JcA9JyfWJ9nNStWRZznSkN3fAatMxSDoLXcNggCJYqOF2YjfD/rwTtaSq04SjELuVzl2oMtBQEOpsRkCmGVXm30WFaDW9KzOKo4dIvH1Ct155CmwGyrwfQpsmneLpX4NvtBrW6RVS7Lqyr4LLvb6VXXSec3vJh62PDFME2Adnz3ui4M9MLlVsnNj8zFE5zcgi1ynVii1h8m+2ooVQEpD3PyHdErcDDAkQjkLz+a8pXaMOS+2ZTILswyw/07yIgfTRBn4qzIkdcu2wn83UkIM0j9k3sSW///TzIzuXkkJo42yIgIZlV7dRS5xZzbDA1XNqwXBol5zdy/pklAWlCbIQ3zrYq9ztgto3YHgIyqocq9+OADQLSPNrHxJ698d//gOzckwyp6WyTgGyFz6+flTMhnpXeZahipQOyEtruWwZVg4qmc+4XeDHFJHLZP6AzC0Vdv/RXGgLS8GjfRHr29mf/g2xyTw6hprMtAhJIXtUOtdqbFTHHGFzDhTbLDTNKYyEsDhYzIE2IjfD2tadF4sYL7aVf8FBVpp+lIFgSkC15t0ZAtsJbK0TuSYbWqcR3Oy03HwhPDzOkxTcs3v4L9ct8ztJYO6a91tIvahMCOm4FNELlYJARMaptArIPZ/2jzfjUqsAnky+Qqs8mfEYbvPyO8Vwsvs12FAtQeEZptUpmN3WRs/By+YDxVrYHao778payPD13W1lYM0vD1um/i4C0Vxn/gRMODk7Un3gdrQUBJUnTbftVcCA8ucjqyb8wc3ekYd3JFtI2Z0ACib/NYU1kLjcDP6FcwymESao+gwrOJgHpo5jb1JUGk66Tc9MfT5Ub7YJjLTpF3aMQQu6KCVoSkM5W+Ft3mdtUharxDLNtyvYQkJ6ouU1RqRoz43aevtJyBqS7SeAn5Wg4Jcygk5dUcAUJqFa+Cq6Y8LZg18eupK17PcZeNGNDswi6p7e4ePOp2R37TvWPFtJSraTWzyfMCNoYV4hjuU9//jCpxyg5AeluBvJJuYZMMQiCQQVnk4AMuLs2mMT1nJv4e6pwaxeMuNSZ96d7REjIXenSgoB0tsLfKr498zKwPNFHzaWpSkXjGbfz114sdsHpbMu7scOslaeCKya8ZfbSlfb6JBq4NGSq+Y7ErHAWdevIlNNPeLSoFa6S2tJKZLtuWZ8BiZs2DKp7FZ/MipRSKkxAtwhoZFLB2fHeSKnoSfhzIgP8pjFz7hI2HLmXp47HZjvezSOgfDyLq6BA8pr2lH3zRw4W4pgcLv7yAaoKX7E2rrTk/YpUcOHTPsTFouMSVWJJnN+8nuMx+TrR4qqP7ob0IonfASmq+3LU2IfoHwTxqbgG5PQuoy4YVHDXJtQzqOA+DkDakp6ngnOknPdSHuhAe2sGXipHHF0/IVDU00kCLs6IVHhOj0ArPOfi+EaopTWgDmyQ9Kp6HgR9Kq0BKar1ZW/cRZYvO04aGs6MqIvSwQFHl89ZUsw2uLzvgL7ZTLpFxQXSwpfTtcVIzmgy2NrZFWXdwRwX1wYybxPUxg2Vpz83NHoEowqu7vAzeR+i6h8sos2737FdnPVow5juqUZZpTWTdoeSkJlN4tX1jBwSbCARIYXV7dQ4d9xkKIPN8DruzGmGq7IGPpseGPLLDmd6YxWqT83XhSwqI13o7syhmauSGj6beCCp/rIJn94YlepTw7pQxlY6uyqpO/i49EFs5u0g2rip8PS/gUYvoL83hyZqd7rvyoDcJ6TEbbYZvnAJTHcyOTvqA9RvNqXHoJFMmh3M72fv89wogkLCVnzqejHlsuHt0sftY3LvPkzcY8d3J/pHrGrvjlM1H7Y8zidaseNJPORHp9Eh+R0DmdIakNp7eZ4KLm3j1zir27Ha+EGykLKadmpnOm4ySEfG1s64Kusy2CAI3A5qg5v4vcUNDXrBqIIzXzjXP2BRm3f5brs469ESNt0TtbIKrSftJjQhk+zEq6wfOYRgaVAgkLK6HWrnjhiysx2+2PY0wV3wqLvDnGauKGv4sMkgCGSHT6exSsWn0rpQMfKuv8ecJmrcu+8ig1yepMSx2db7UTB/cS561JfqTm/Sd59hsU2fcoa5P/ZnwaXnCOSwt08lXDpswNJus564fZPp3Wcie4r9Fk3HjemeqBTV8T2WP8jRJR5g0AcqFBXbsdK400RIWIG3syutFkQhOp9Pj1jGN9WUVPhulyQr9uCcfWESLbssJDzhGRk5Yirmf7bbkUJ4phWIb56WeJ7JH99Xxq3jxgIWNzTE7PGlQYW6dN9svoMPSvQOvfQ1ICGNqDNbGe5VFmXltkzfc54o49ZPIXk9HdycaTLbMAIrWNWC17rIPQQMbEl1J0dpC7SDoiKNek1k7Znz/Nrfk/IKBxwc1bz/3QYi7uykb30XHEUycGvEoD3RZmtACqq06EY376bUr6rGqcJH+O58YBy16one4EMttSOOqgrUaNCOoT+1opyLOzU/aIrPpAPSFmDtrYW0qaTE0cER51pdCL4tCpqeqKXeVFA4oqozkIM2VMjpt/ex4EdPyRKCY9m6NO/4LT7iNvIuX+PtVZcKTgqq9ttPFnrid/SmjrMCt5qNae+7mJ0zxI6nMh/1Ws2N3Cccm+TNu++2xHfGUpYvmM7gH4ayLjxvqE1W+Aq6eZTHydERR0VZ3ukQQEiyAPpErmybQJs3FChrfEPgHxES5EWGF5/mRrFjkBeVnMtT6+OWfNVnOoNauVOjaQ8m/3qjYJOZXecStWMQXpWcKV/rY1p+1Yfpg1rhXqMpPSb/yo3/iWVH7zo4K9yo2bg9vot3MkMk2sof0Wv1DbTa6wQ0dkNd3Quf0Vu49b/xtsOb5Zx/KpB0YDAt2vgydcpoBnzbivrVyqB0dERVoRb/aeZNx04/MP1IfN7oXHNyKLWdHFHWGExIcZtKRAlIOMqU9m/jXtWTzgNGMvaXYfTt4k2HwRu5mbfepCX29Dw611SirN6BmYciefoohIAv30SprE6HwBP835grbJvQhjcUSmp8E8gfEU8Qdzv1ruOMwq0mjdv7snjnDImkK3/Ui9U3cnlybBLe775LS98ZLF2+gOmDf2DouvB80ssKZ0U3D8o7OeLoqKDsOx0ICBF3eupJvLKNCW3eQKGswTeBfxAhWqcoMryIaDHtaba9Ox9/w1lu1A4GeVXCuXwtPm75FX2mD6KVew2a9pjMrzf+x7a8a7VcD2iMm7o6Xj6j2XLrf4sJXzB3EBI20amiAtVbzeje9wf6jlzCqQTjgEFIYIW3GtX7nZi48arZwFDDyaG1cXI028BUOGnIjebkxkC6eYiWEJRU8ezE932+x6dDS/7zzvs06TqajaGp+Z28kMy+wfUoq3KnVv1mdAvcRWC7KrzT2pdFZxLswjnt+Bg+qqCQ+jpxKUHh5Eqldz7j5x0iqYlflxTV7uLDgniavokrWDk9j/bPZdyQTtRzU+Lu1Ztfxo9n/Pjx/DLCl/69v6Xjd6NZeznFQtMiplLSd+gVqOAKVib/OvvZM7IsKTv/4cs+y5sBKRE3IeTmPuH+7SieFupYBLIS7xAaHs0zactwMsnZhQupS4/l9o17JFtMRXNIirzJozRzPceLVyTnSQyxecP0TBIfJVripkklLuo+sWlFzSZ1pMdHE/M0J1/4bRbLdnhdRgIPHiSRJQhkpmcUEroik9ZlkPDgAUlZAkJmOhkWMOXwJCY2fzaSmcijxKz88uY+4XFCeh45iF+y2wxfqBBZ3L8aTor55AQdGfG3OHfgd/4IiSApf8BqjC2Q8yyU2YNnGWbRhdK0dkMgO/keoZcucCn0DnEv0798zhNiYp8bP44UyEx8RKLFC6QhNS6K+7FpRX5AqUuPJzrmKdKXA9aKX+CezfA227NAQhaXOjISHvAgKQtByCTdUhCwLe+5PHmcQLpZO9oOb5Gx9GlCxoPT/PH7QS49ysyXLymYlodHVxP8+1WSCr5KQg7PQmczeNZNMxksmHZprrWkxT0kLk2skJ6szOwCZRLXaop6b/QkHA5kyuZQHt+/wdULZzh5/Aj7dyxhUKdfOG4mz0W3Y2E8S1OLouOU7B36Swmo6EK/gidmBFTj5xN5KqtXkJOc5D8FASGN0HVTWHDqWeFO4Z9SR7kediEgpIWybsoCTj0rPBi1K4FXEEiIX8fX1TuzuaC2RXjO4UVruGFG0q8ge/uSLOE79I8lIN3T4wzzEDccOOLSPNBMJWIfjnKofyEC+mQePc7Tnf0LAZCrbEJAn/yI100UhIRt+Lyp5s2mfZmyaC2bNq9n5fypjPabxvYbr4nclvAd+ocSkIbIg8EsW7bM+FvOyh2XCxnSMwmbfJQRkBGQEfhvQEATf5Gtc8YyZKAvI6fOZ+3eUJILLSv8N9TEUMZ/KAH99zSAXFIZARkBGYF/KwIyAf1bW16ut4yAjICMwN+MgExAf3MD/GXZZ9zmyq30Eiyu64g6dbp4K98FK6B7xPWwlBLkUzAB+VpGQEbg34LAfxEBCeQ8iSI89A7xGcbtHsJz4hNMi28ldGlcmhbWJHD9bESBrb1iQgJZcaEc/3MXvx8Qv32y2G9cmpyKiCOQcn0v27cVcI+7dRvbd+3j1M3kwl/liyllh7Fy7AIu2Pheo3CGqWzs0ZeSW9nQcHftKALMrAAXTrv4O5pn0YRfCyda3BuPwLOEREtjkTaT0JEadZ27T4vewaRJuM7ZiJSXvMXWZqFev4dFyvNLKmqO6IJgEbP9p7H+cv63ai8pdTmZfwACrz8B6RI5vag/LT+oR6sew5kcMI3RA3z4vHEjWjT1wGv8FXJK5NK49K2WvbsHFZTVGWgyySAmJTzn7MwfGBh0gLA751ncuQYubw/npNme/NLnWDhmVsIdru76mXqqcrSZeZIw0T1u+DXOH97MlA7v8+43iwk1cbIUPZ2T4/sy70ZJVypLS0Di5w2xbPb1ZVuRNukK1yvvjpDM8WntqO/ZiaETJzC0Z1uat2hOgxZTzSyR54UudCIkXWBl34aUcTJZSi8URGRkdveogLL6wDzrGtZC/dPvWZXnl1lp3TOiLy/i60p1GWYw3/wyU5fT+gcg8HoTkPYBm7rVwvmNtsy9amk2Qht/lHHNKlLHaCeqZC6NS9lyufFcOx1GstlHa9mnhuHRZGa+99es2+zbdoaEVzUJEo377+5JRVejzyCzqgixS/hM7Yr3itg8FZg2PIBvBh8oZAnYLFoRpy9AQOI33ZfG88WgQyXON/uoLzVcP2eJ0YKw5Ajt8Ag+rt2fg3aSuvbCaN5T2SIgyI2/xumw5CI/4CwClCJvv3wX4kVm9fIeWJHnl5e4ISXRmVmTN7ojWlWS/2QECiLwGhOQnqhFn+OmcKfDWkvjmqZK6G7OoL3vIYPaqShz9qbAr+So5cr4Dyjz9QYrfuZfSYaisQtOD68juTw3s/UpZaa/N5tPVEZfR9KdbI4ObonfaTt7bosivxgBSS6JvTuzTnSsZ/efnntzmqBybs3SPAISI2dxZOgA1ttQqZlnIVlhVtsmIPPwL3z+ClyIv3CZXosEDM7M3L2XG/xZvRZlkgvxOiHw+hKQ9jJjPZxQuHfnN0vrnfn46eM4deKOQY9vhYCKdmksDtEfE7JhOas3rmdV8Bp2XTJYwxbtXj0O2cDy1RtZvyqYNbsuYfJjpXt+l6NrZ7M1TAtCCmfXBvD9h86o6nVj6owZzBB/AVMZP3ICW++Yf5acxf0DS5k6YhBDJixg9w3TbE4g6/E5tszdzNXnt9kd6Iff0guk2uqzdaIFXWfqjsg3SGoARE/0wla4lmvJfFPeuccY9GFfq35wcmMvc/DgZeIsuElDWprJPpQ5AQkkX9nNlq3b+fXX7WzbsoNzopll4SnX/9zKtl938OvWrRyLNLdTpOGc33/otOFp3mwM4RmXVk0m4PdI62tVQPpv3XFXKHjDexYXzb5C18Xd44G4jGCHa+M8AjoRzamVExk0cDj+686R77lcx/O7R1k7eytiU4p/mpSbHF4dwPrLWcSfXcf04YMZtfAY5l6zcx+HsGH5ajauX0Xwml1cEgWjCBfitmTPnrzEmV/K5a0EzfBnyvgpLN4faeEoz6YbdUOVjP/tlGcxdPpVtswyyrFJnmfMZO7u23mWROzPV0wwiz96v4nntAjDO6p/zt0TezkUmvTvXnuzaJ9/98VrS0CSuXuV6OF0FpH2qLMKEpBNl8ZZnB7ZhO7bDe5y006NptOEi5I6Juv0SJp03274aDXtFKM7TUD0eaePO8MKXy8qKCrQc4/Y0erIeh7NMtEXT5uFRCankJwUx50N3XhTle95UrQCvs+vB+MOxZKrT+VaQAvKlW9GYNj/41nYdka2qIjCuSl9xvkxtHdT3msTZOb+oLBwConBtHWtxPf5tv4lq7X3946n9ftNGLE3Nu/l1t0KoEkrozM7s6R00XtYtP4Skau+ob7f2bzO5flv3anWZqkxpDkB6Uk4t4WlkztRR+WIomoHVotOqIRE9g/0oNx73zBm1hL+uGUiL0MSGb/68J7v0XyykdwuKHFpscDMy6pZwcRTzS2WflFVMhrqXNObMdtuFCLk4lwbG/zQVMGzfS9+njaTSX2bUtVJTd3eO4nT64k7swJfrwooKvREasrch5xa1I26ShUNuo5m4vzN7Fjpi2fZsrRaGGWwfZd1mpFNurNdNNxJGqdGd2KCKBjWXIjbkj178iKdS7M68tXYo4h2M7UR0/BUV+SLFWJZinGjXgBO++UZ9NFLGT71HMnZWnS6bMJnfYqb2gO/U+IIsGT5SsXQnMPvvdqInmiF1CtsDlrO9g2TaevxLRslHAsUVr781yHw2hKQ9toE6js5SJ4+7XI3UZCAbLk01t9jdpMKtJh90+DHR/+QwwdvoEXPvdlNqNBiNjelvlTPw8MHuWEcJUtuINQmAhJlJY2NX1u6qJbKbab+ETvLes2mcCZSdI18j8jz/nyqUhpnMHoeL/4MlbolCx/Zw7LG9R/Vu3w7dR5BQUEEzZ5JgP8Upsz7lasFLCrm7vuB6t9sKrAOk86hBcsJ02oJnfwhb/U/ZNxdlsuRATV4f/QF40tgTkCm9yKL0NmtcFe40GD4URLurcenyXdsjDJbFDMFFbnk7Ag82q9CNMZt+tM+fUx8cT6vcx+yb2pH3ivrKFk8r9F2GsfMFtUK+1W5w4zGJr8qoudy0RHaG/yQ76+aM34eODl5ME5yrGVwsaE2EZBYuIwtdHJW0XLhIwPhCMkEt1VTput2yWWEqN5sUqEFsw2Cgf7hYQ4aBaOQB1dbsmdHXrqwaXxcdwCHTRvHhAT2ju3O8B0P0dt0o25C2XQsmTwLz29x0+hASHtnPq3Kq/EYcdJgJbpE+Rry192ZiVclH7Y/vsLmJXu4myOQcXoW/fy2c8+6yJgKLh//JQi8tgQkvfDiDMjk36e4BilIQKbwVl0aa4iY05zyyvLU8wnk8KN81ZEmYg7NyyspX8+HwMOPLLb+6mMW0apEBKQjbEpD3LwGsczcRXZwMGsO30ODQMIKb9RlfNiZXwRTya0cNZweVgd1vQlcs+MFztzamaq9/rCoA0IqUfeT0Isqzno16X/Q2MtprzPpP9X4YZ9pC501AhIHwons/ek91IoKvPGON7OumXrJwsUVnYF5Np9DaT325jw8wJS2NVA5OuL6nzFIA/FiPUsaCchsECCWTHt9IvWd1LReFi9ZIY5Z1AoLAsreThdnNd4rEowqwwLO9zQRzGleHmX5evgEHsZMZChEQCYorMqeuAnPVl46bvp7Uqb1UqwNvGy6Ubey0bFk8mwsuPYuCz+vgNpjOCeMjkRLmq80Y1r9BWVrtGTAjD+JslI2E0zy8d+LwGtLQOSGMKiGEke3zmwx+j+32UyFCMiWS2OxI33G5eV9+NBdiaJcA37cet+oihJ4dnk5fT50R6koR4Mft3Lf+PKUnIA0hAyugUubohZhS0hA0vqPmjd/OmxJKkUAk7W9K1W6/241rPbiGDxq+XLUSHxS3dw7sN7oIA2KICARupRt+FRS4OjswaADoo8Z639iHvVb2nZeZxFTn0TUA9P6mPGJ5gEbv30LpWMZ2q9Nkm7aNQMqQEAGh4AiwSSWjoAkkbnM8j4f4q5UUK7Bj2w1CkZhAipG9mwSkEFmnJtaJ26bbtQtwDRdlESexTg67i1pg7vag+Em9hFns7bct5uysjhmsqfXGzTwXce2uT/xhbcvW+5ZLDhahJYv/p0IvL4EhIYrExqgcnSjzdLoIn3Q5GQbfd4UICCbLo2FFCLCDTvrtIlnCOpcG1WFrmx7JpASEW5wY6xN5ExQZ2qrKtB1m4EBS05AhtGsyq0dwZa+kXkUEsJdXckISEgIpq2LG50228PIoDk+iLe/Xkfh0Hruz2lK5W47JfWSKPrPt3ahokWnVwQBae6z1qcp3RcF4/uBM4pKbZgfYX36lntkIHU7by6gArTxommvMrVXQN7GAFNIzalh1FaqaDLnvnSrMAGZuza2PgOS3EO7NmDSdXHqqKekMyAhJYJwqQ21JJ4JonNtFRW6bpOwNRBQvgtxm7In1sAmAem4M7MxKhej114TCORw5+oNnttyoy65Xc+LIFJmCeUZdPeX4e2uxmNYSF675SYmkPR/inP3bp6vyFhnGPGOuP4jjt40nBr2NnWGnESDjvtXQ3le1KilQDLy5T8bgdeYgMRdOeeZ3swdpXszxh6KyV/MFttE/4QLi33pv+CK1ImWyKWx9hZzBs/D9L5KGx7cO7LhiZZbcwYzL/8BC1u603HDE0kK9NGiK3A3vttl6nCfse4rZ9Tt8tc5tFfG4aGuzbBThmmTNmw6nmolVVpPYndoApnZiVxdP5IhwbfRIRC/rDVql65sN2m+bMhb+q7uuKubMz/avvUi/eMleHtNJdx8Q56Uvqga/Ij3TRsQhCf81qM6HmMMGzEMRbBCQPpE9g36lC/nhiIWN/fOcr58Q4n6vZ/YW2i7tcCTtV/z4djL+d/a6OPYN7k3fSbuQRXNswAAIABJREFUwaqnY+Epa7+qTJOpF828UwrErfoCN2dPphu3rBXn2tiwC64uw8+Y9D56Hixqw7vfbTduB9YTLbpZd/uOvKbMFNeA1HgvN6ngjOt77VYjTgp1t+YweN5d4wYPPY8WtsS94wZps0pBF+LRqzrZcKct7hkpJq/I+bQsq8Ct4U+sORdFckoUJxaPYPrBJwg23agXFB5dyeRZ/4CVX1RE/f5QQoyqN/Gj3RPzF3Mxqxh37wWy1t2eQePK3dgppZPL4Z9q0Mj/JrrsU8ybf9byXS4QV7789yDwehOQ2A4Zt9gx7hvqV6nIOy270m+oH4O/78w33/7I1F13JRfE+sQSujQOi2BW6w/4YmQw+0KOsnl8T/qujCAHHbdnteaDL0YSvC+Eo5vH07PvSsQBfu7jC2wZ3Rx3hZJaXeZw4HYcUcdm0fEtJYqq7Zi29w7P4y+zaUhjyjiqqd9vNZekhfMswld0w6O8E46OjijKvkOHgBCSBYEn17cx5rPKKJTV+GLKNs7HWFdR6KL+IHD8CHw+rkLZ8g3oMmoKay6IPu2L+dOFMbXJN6zLU6vlh9feXUEX75/ZfOww25f48kn5qvTdb76LzZyANJyc0gavem9R3rUSH00y7JwTErbzfZ1yuLiWpcp7jWk54g+e52WRy7FBjfjpoFmampMMre2Eo7KGcWScF9h4ouHkME/+08qbjj+OY9aS5SwY342P32/O0F/Ntm4X49pYeHKMSd7v8m5LX2YsXc6C6YP5Yeg6DJ7Lc3l8YQujm7ujUNaiy5wD3E6J4fS8ztRUKqneYSaHIp/yKCSAL980uNEOPBGD7vYsWn/wBSOD9xFydDPje/ZlpWnmV8CF+P+JsuFOOzS62LxE18kxe0fT8k215AZeUa4ePZZfz5ut2nSjbgFpSeT5GbHrO1JJoaLuVyOYNHkykyeNY3ifz3jXez7imMf+fOHZxo5Uab8Gw7hEIGlXP1oPWM1vyxex184NNxZVkS/+kQi8/gRkgl2XRuzt61y6HMbduLS8rcamx1aPRbo0FtDpBNCmEXc/Kt+2nKi00InzEtFt7n2i4jPsy8dq5gVu6tKJj47hqb2+kQtEL92ljjuBbem+zexbHCkhPVkZ2eiyk4m695in16fh+WZ3dll4WjQnoFLknnuGka2HEmLGP2IqQs4zQmcPZtbNQtMyKZPspETjtmstqTE3CL31mFTTRMaiGMW7NtakxhF1P5YiPZdbpFfMhaDDIDJx3I+Kx2SOMC9WQRfiRcpeXoziT4Rskh895lmutaGGbTfqpsRfvjzbly9ZySSmms/U9WTERxOfaX7PVEr5+G9F4L+HgP6tLfSC9RaSdzGgxxKz724E4td3xL1iL/aI5CA858CAD2kddCPveyBDli9CQAJPf/elxzLjNzR5dRBIC13HlAWnMPvGNO+pfCIjICPw70JAJqB/fHvridk6hBE7TWsbAim/+TFgzV0y06I4NKsvPacdy7P2kA/HCxBQ+hmmD1xAeCGNol4a0dux3JVfDPlMRkBG4B+LgExA/9imNauY8JzzSyazNtzU9Wfx8Mwutvy6n4sPi/IRlMbm3v35w7Tfwiw5m6f6x+ydEcj+OFnVYhMn+aGMgIwAMgH9a4RAQ2amHV+vmuGRnZpWit1KOWSXlLTM8pRPZQRkBP49CMgE9O9pa7mmMgIyAjICrxUC/xgC0iREcPb0aU6fPs3ZsFiDjTcrUAvPrvHrkuX8eVt0UKIhIeKsFOf06bNExBdatLCSQtG3hGfhHNi+ja1bLT2Wbtv2K78fukj0K/OUWkSZdBo0JdSECSm383A8feYyUSXyolpEOeTbMgIyAjICVhB4JQSkz0ojw+rWWSsleEm3tAnn8G9dAYWDA6oms7lntePVEDKoBkoHR1QfTSNCpyXh1HialHHEwUFFq0UxRVpcsKuY2YlEXtvN0AYq3NsHcSYsggjRY2noRQ4u7km9al6MOmRy+2BXiqUKpInew/Sxs9m4cwfr5o1mWMAhYq3vei6UvvAskpDF31JD6YCDso7sybIQQvINGQEZgZeFwEslICHpJDO+eY/yTo4onKvx6c/biXyxSUUJ6qnl0i8eONkkIB33lrWlklJFze93Gj6S05xmWG3lyyEgsbRZf9KnihtfbzC4esivwHM2dSyDytOfIj6ByQ/6Ime5Yfg3bU7ATdN6Ty6Xxzfh83m38i0SFJO+ZHJIJRNQMTDJj2UEZAReEIGXR0D6WDYPG8Sqq0lkpMZwZnEXajm50iLo3ovNKuyuoD0EJCYmkJuZmd8ZiwRU5+URkPb8KN51acbcqAJTMCGBFd7OBv9GRcxGdPfWM6BLf2b8foPnBaLbC0Pm/n7U+M9EJJNnxkia08N5p+4QTtg5GJAJyF605XAyAjICL4LASyMgIekP1u81G/ULcSxtrcbtu11WrTEXV2jd/e2M6tUNHx8fuvUcyupr8VxZNZxe3Xzw8fmOfr9s4MqDsywd9j3dfZdxJcOcgGZx6ewSfDs0xdPrCwatuo64lJEVupbh3xvS7DHxTxLED8ytEpDA8+sbGNe3L4P8BtOnz3h+vWvawmyr5HoiZ32Ci8cvXDJNQKTgAs9PDKd+OQ989xdtPVoKmvWQY0uH8W2Hnoxbf4GEEqkytVwe64FrAVP+kqtuV0/8i5x6ZRC+cRQ+nzXGy7s/C3ZOo4WVGZA27iSLR/Sj/5BRDPmxL8MXhlh4DLWFjPxMRkBGQEagIAIvjYAKJgzpbO1SjvoTrxlmGxmnmPalN8P/EM3h2/OXxYkhdVE6OOD0/hjJKymZh/jpLXG2osZ7ZSICeh4v6UbfXSLx5ROQovLH9Ji8mh1LevC2kwOOqgZMkhzoaDg5pJaUZt46kRUC0kTMpUUFJZV6/k4aOZwcWgfVG13YXNy3LUIya9uXodJ3W3ickkJKSgJR14+zPWg43/kMZ83Vp/bPBrVJXN44gV5fdeXnhYeJKtrtjhmYuezvWwmX9pYWsIXYJXzuUpT9NS23FramosKRsl5jOBBxjd/HNMNdYamC08fuoFcdFaoGE7mmAc3VCdRXqajdawfFwWJWQPlURkBGQEYgD4FXR0CZhxn4gTeLTd7IMi8wp1tXJh1Oycu8uBPdDdEEvCMOTh8YPFnqIpj2oQoHBwXuPXaRro9jte94TkvfneQTkMprJndENVfuIfpXVUiE9eVa0R6aWRjTRoVCBJTOnu+roHBQ8cmsSMkFctzSz1E7qvls8WPbRTau/3w2aTcHDhww/PbuZM2sIXw/MIhTiaXQq+lTubUnkJ86fk1f/52EPy1CfyeVLJtfv3XF+av1ZkZBQYhfThtnd3r/aUUHl7mffm8qcHB05cs1htmZyR16/iaEbI751kTpoKBSn72GGW3On/SuqJA2Kgw9KX/4Y1sw/n/23gMqqusL+5YygB27iYktSixJjBJL7MQWu1ixG7ECigWDDWzYe8UuojF2LIguFbso6rIgWF4UkQ9BeQX8BBYz38xdv29NYWaAGYoO/iFe1xq5c++55+7znDPnOXufffcWr4oIiAgYQqCACEhO+Mq+9NsYrttrMfT03M4pIlnVpjhmxSz4fuxZkq7NxKm7A1XMi2H+zWhO3F+Bs/dtzTMMkcsZnL9VE5BaYzJUJssekOwaU+pYUqyYBVWa9mX48OEMcviRSuUrUn/S+Rwlll2ZRG2bliyPzEI0QhzbupahbPvVn5wdVBkWPzJoDWM7tqKn91lVioDswqSx37EE1p18eacXv1KlAVlXYdSp7ASkTB/xo2Uxipl/i/MZtb0v2x6Q7DpT7dSY1Jh4UR0zTnqBCSrnDUsazgzNLop4RkRAREBEIBcECoSAPoasYvKSyyZIOiUQt7MHZc2KYV7ZkYnOY9gZeYJR35hTzLI2f/YexdLwDI3AELl8AgFJzzHuO6WZz4JabpezBOjMCU054QvtsfnRg5uZ9n+U90gJcv4WizIDOfiJykLqi3Osc+lDxz6urA9+bYTYNRlY267mlR4BqfLV2NRhyrVsgqkzXapcrqszQZPDKBsB6ZFNHfer6mdLLzOpthqn2pMu5wSMeE1EQERARMAgAiYnIOmT/cxbcV5vhS5HKtWbDQ2KkcPJpCMMUZmILKgy9AhJQgonRlbFvJgZJRzWEaVVNkxEQIrnLPtdosrDUtxhXaaJXBByaIcQx5bOJaky4kR2p4u0a0z9UULZLr5E51BFdhQEkh4dYdFf3ejsNIs9t+KNEE/GnQJvtnSidIMsXnCX3Khlazi1ucpBQelwYGbLIFV4bMhGQEIsmzqqNdFq485pNCAluVtQzKwkf26LyxBA/CsiICIgIpBnBExKQPKog8yYtI7gxxFERCg/YVzf6cXaa+kgvOHKrm0Evcy+Cs9Z2jQuTKyJhUVtXIPV6kPKiRFUtShLz13xeknZZFybUkf9HpD9QlSKUXogo6uqTXDtVZkuDZSRnme8SuOR0HJ5JAoUvNjYUbUJbyapyaDtD3ifEs+dXZNwXvvAuKgfD+NUoRTddmTJvSN9ySHnBpSt2Z9dzzK0NePVqK/IeHNzF56DutDDeSkBER/02pnzvUKcH47fdWLT6wymU/B8WStqDD6UySynrUUeztLfS6jMnLXGn+MjCmL2D1C/iGpelb9OKzEXeH/iL2pYmlG8s69qcSG82UQHazMktcYQqM2eqa1VPBAREBEQEcgVAZMRkPA2EJeGylVyMYppP8qIA3O5Jwchbht/lrKm6aLHuQqVtYD8ziwa26vrUV37GMDIn4dyWG/iSwndTF87a9XzzUo1YsyhcO5u6amaNFVOCy2mceTUehzrKLNMFsOsVGMmHA8ndF13qlsqIyGYU8bejROvFCB/xRG35lRSOkAUM8PcqjK/TznBa622pSeh4gXHF09nfI96lLKwxX7wVDw8PPDwmIqr80gG9+lGP3dfbsQbulmvHtVhKi/OrsXFsQv9p2zhcnT2PZusd2T/ruDVwfF0G7GKC8/fEXNtFU5dJ3Fc5XOevbTyTPqTPQyvXxJzSXnsmralz6Sh2FtJKPNNXZr19eaMKrPrR+5uGsLP3/zCsFU7WDn0Z75pNIytD/Linm74ueJZEQERga8bAZMRUF5gTE1IICVjYZ6XGzLKCIlERSXqaQFSYl+9ycUclXHzp/+Vf4jm4a3bPH6TJa3np1eZ453yiL3MXfAP9xLyQlY5VkX6m7sEHvDn36AHxOdF6RRSeP0whNDIROSK98S+SdHDW+9Z8g9EP7rDw2gTZovVq148FBEQEfh6EPiiBPT1wCq2VERAREBEQEQgNwREAsoNIfG6iICIgIiAiECBICASUL5gVZD2IaXATX/5EkksLCIgIiAiUEQREAkorx0nxBG8rAe1vnPmzKf4BuT1OWI5EQERARGBrwQBkYDy0dHSc+Op7+hHYj7uEYuKCIgIiAiICBhGQCQgw7gYOCvn3lx72mckrZMlk5jy+d5qBh6Up1PShOfcvXWX5wnK8DkCCTGx2V+AzVNNhbCQNIHnd29x93mC6qVXISGG2E+MIFEIW1eERRJITlJmEgbSYrh37jgnQmIx9nabLDaUkGd577i0J6fZsnIRXnO2cSNb8F0Zie8/GvbMLMKIfu2iFwgBKVITSUz7303OBdKpwmvWdWiM561Ewk7uZNsGdxzazs6Ud6dAnpu1UiGOoDkdqN+oBxP+nsGEgX/we8vfadByNqHGZoKsdRTa7wJxQXPoUL8RPSb8zYwJA/nj95b83qAls4t+4wot6nkSTIgneJ0364NfEH7Ai4nOQ2hbXYKk4UxCDbj5C++PMOz7Orhdyns+EXnCc26s7Er5mhO5mO22NJ4cms9cv0f/nYVWnoD/bxcyKQEJCVdYNrg99g1rUq54RewnHPrvhOpP/of+Ndrjsnw9J5+lIyTf48Tpx3zp1zBTA52pVrwtq7UxiOTEnHLl1+ojOVHU96ZSA3GuVpy2q6O0aSvkMadw/bU6I4t844rwRCK8J3jOEGacUUeUT01VMk4aAcMrUc5xnwGTtMDb3T0pX2+6gbiIOeGgzKfVlEr9D6DRs7IUlvNitwuu/i+14yNLAfFrEUPAhASUyKl5nhyMUg5OgfcXXKlnVQu3y9mWMkUMIrW4yv0fu+ajWTRnHMPdD/A8X9qGglfnAriV/LlNVxDh0xSJdTvWaAlIWWcKpyf8xTZVCGyB5LAAfIa1oUkTB5zcPZk5cyaeM9wZ3ast3XyU+Zn0y7RlxOIj3E/I8oawkExYgA/D2jShiYMT7p4zmTnTkxnuo+nVths+qvxKGe35SNiB2Qx17M9wZxem/T2NMUOcGNJtAEsfyiH5KC7NmtPZaQwuLkPp/FsTHPqPw2X8CHq2acrAzU9VFamCpkqsabdGR0Cq1p2ewF/b3qkf9iGCM2vH0bFJY1oO8mb/bU2CP+lLLm6YQKffujBxQzDKYZgWGcyO6b34rXFzeo71xHPaREYMGsbU9Rd4rV21p/Hi0m48HZvR2P5P3Dad4fH7RMKPz2fg701o5byXl1plXkrUpc24drGnw7h1XHypYXwhnos+Q+g9cDxT/p7CuNFOdHE7iOr15Ty2PQPJlKCpjNr4IvsEKyTnTybgY9gBZg91pP9wZ1ym/c20MUNwGtKNAUsfIs9z/wq8PTaKZkMPkmmIKIPR1qmK0yG9cCQZjVBEsrptGerP0OQCyzif219VPi1bHNa9Nm5qU4SzpHNnVoZpOzC3WsXrhRgB0xGQIo6oV3r23vRjDK3cEE/93NCFCgiBuJsH2b1nL/7+e/HbvY/LyjA8wjtuH9mDn/8+/Pfs4Uy4sk1y7s/9jfYrXqCQ3WJGo46sj0km+PBp4rLM2wabKH/I/J4unNWDx2C5PJxM/qc/tubmVHJYyDW9GUEeHcEzPbt5wtbOWFv3xE9fRUs6gaf3WTIUJXWZbuw0MIeoRUlga2drrHv6ZdL0kk544n02o5Zkrs5tTsUfR3M0WsfK8jdnmGzfGI+bMoSYTYx1P4+Kf9OPMNjWGof1MapJRha+AmevEPXjlFqmrTnmlRxYeC1BNwnJo4nQb5wyF5GtOj+TlhuUNciuM6P3rExmUdlND360smOqJkWtPOYww2sWp77Hdb1I58r+/QWramM5q10vpXN+fE0klmVoMe+2Xvtl3Pz7T6boLazSz42nVgMPQjRz4sc7i+nYYxUvlMMpr21Xyi/Es6d3OST1ZxCilUMNjfr/vMuUfHUuzSv+yOij0bo9Gvkbzky2p7HHTc2rBHnoX9kdZjf6jpEnMkcD+XhqNNXrunHJwJhOOu1MDau6Wsz1W5DjccphBldpxBxl7C5A8f4x546eJPSNblyBUktqxrf99ukFPM6xVvFiIUbAdASUqZEC8QHTGOx9UbdqyndG1EwVFsAXBTGXd7NmZg9qSMwwr/wnm5XJ84RYjo+2o3Sd7kxZuJrDD1NVE8OWbs3xuq8MaveGfcN7M2P3ZnzPvNFNkkYlFIg/7EyfhQ9M8/6Q9CFrOlbGwswM6+8cmOJ3n0QDJJi8qzvW1r3YqzdvpH9IJClVN7MZKpO5Gcns6m6Nda+96tW86mI6HxKTyKhGfs+LX20q43Qwu29gStACfIKlkPyIB5GaSSQLASkn3Qf3X2seK+Xhmo5UtjDDzPo7HKb4cd9Q49IDGF5RR2JameWP8Bm3RB2IVnNSHjqThtY6AlKajg4NLIu1w3pitbjJCZvXBOsa+nsPUi5Pd2b67LaUs66Dc0BG4FsFEcvGsUip2Wn+Je3qTomKPdim1UrTub5zN6oM6HluOyiermasmzt/lvuWYUcNrQryKJP8Hl6/2lDZ6WB281hKEAt8gjXkm3v/yq5NoU5xB9brxxIU4tjVswrNFj3WkVsGGOmhzGlsjWVNF5Rdn59/0stu1Kk+lrPpAok3d7F03V62z/wDuz47eKvtK5BenEiNUp3ZkqfVX34kEMt+aQRMTkCKt6H4z+lJ3ZJlsHNcSUiG2ekTMqJ+GTBSCF3UGltzGxq4BBITsQ3Hpv3Y8TSzii9NS9Mzi8hJU9nBc5NQIPG6D469FxKir4nkdltu19MjOTa7G3VKmlHMzIpqf8zRBAzV3ZiNXBSv2TN3tXpS1BTLVkZ3e0aJbASkeL2HuasfaCYeOQ+8GiEp3p2d2fknW22qE1kJKFupdCKPzaZbnZKqlBhW1f5gzpkYPeyV0VONEVAYPuOWEq6nFmUloLTnfgyqWQmHNeF6k6cxAnJhV8JrDg6tgVWlLmyMUI6J7AQkvN5L36qW2NTqwYLAKK2Gmb1pmbW/zNel3PAax/rIJE6OqkaZDhv1Uo1klFQSUO4yyR8oMwkXp3uunZKdgDL3r4KXK1tjVbIv/+gtZBQRS/i9cje2v9FjBZWIUu4vbE5JM3O++et0Pp0F5ITNt6e8416ibu5i9aHHpAkfuLhwOG57IzIt3hRPFtPMqgLDAzK08Ax8xL9FDQGTExDpycS/ekDgaifqlbCigWdIpsFTKAESYjk6qg5W5mWpVNuBhbf0bFmfKrA0gn8mted72zp0d5vD3Llz8/bx8mbJkQi9ydG4AGmRAcz6oxoSMzOKN5zChQyyB1TkYvkDXSa44ebmytgBLajR1AulEpfxL68EZPlDFya4ueHmOpYBLWrQ1Ou+Rr50To6sjGWlEXl3gMiVgDTSpUUSMOsPqknMMCvekCn6jcsvAUnKYT/IhQkjemJfrQJ2A9ZyK5NmlQMBKYn1w3Vm/1aakr/O4HKyPJsGpJQ4JWwvE1tWRWJemnr9V3HjfdbJWUmcORBQ8nHcXferUmZIQzyoZ/MTs7K5l2kIKBeZ0k+OpLJlJUbk6rihJiDj/Svj1oz6SKqOJlA710u5PvVHqg46RFYdLfW2N+2btqCRbVn67M3rikTT38IbNncsSbVWfzHvyFM982jGaNX9FeI309HKmi7bEnQnxaMiiYDpCUgLg4zQmT9RvNUKlS1ce7qQHgjxfjiWN8fM2o4xAZqN7c+SNZ1X51cytFlTRvhe4u69e9zLy+f+fcJjjKhLijc8fZaU2ewnfcaOPt9iYVaCzr5vtBJnJ5dULvjuJOwTCCiTCS71Ar47wzQEJOWSWy0sS/Rijx75aYUwdGB0Elbw5ukzkjLN21Ke7ejDtxZmlOjsq6stg4BUOZ50p1Ga4MYvIyIHDYiUMNZ3rUzJX2dyXbuqz4WAlLuAkTvo9Y2E7wf5c2FJZhOcVgIhgVubBlOvpAW2DquJ0MNaVcZo2wVitvah9fBFrFy5kpXL3fmjioRqo05k8QbTI6AcZJIqExBalqBXrp2SXQMiU//Kua/UcCsM43gGAaWfZ0KN8vTbn5l+hHenGN+yO6v2TqV+ibas0U/JqwUoh4OPhxhUqQHOW/1YPKojDs67ich4ZtbbErbS2dqabsY3L7PeIX4vpAgUIAFB6j/9qNJrN+8LaeO1Ykmf4OvYjP4rN+L8ozXm5duz7J6B3VX5I7a5+XDesI+otjr9AyHxKl69nNj2XG9W1C+Qn2NZCLMHeXMns3UQ6YWJVLeQ0NTniba27ASkviR8eE20ZvVvvMxLXqiM7gYmKFU1Ah9eR6v2npIPD6aS5Xc4BxohTa1EmgOjk7CMkNmD8M7eOCZWt0DS1EdXkzQYlxrWNFv8NLNpTnaT2a5bMzmGZDXBKSv56NcLG0v9faHcCUjl2XnWjQbFy1K3QVfma/eAkrgSeFXtYKGSUOD1jh6UlzTGW1sml7YriXPEDAKfPuf5c+XnGSFLHShdtgu+2sSCyjoyE5BRmZIPM7iSJd85B+o5T2hkyPQnt/4VeLe9KyVseuKnMQrIbnvSwOYnZt/VY9eUu6zs241ZF9/yYmVritvl1/0apMGu1Fbu/yj3jaQXmFirBuPPS0H+hJDQ95kWXYrny/jd+jv19UztEb8UNQRMSEByEmPj9PL9pBDs7oDzcY030ydnRC1gSBWxHBvTgk6LQ1U/1vSwdXSqZIFVnVEc1e1Sq4UQ4gm9cM9wZtEcxJQ9XESv0Yc/n4iFd/h2qUDT2dcyTXjRmzpSyroRc/Um78TtXVVOCJm84IQEgqaMZ5NmdWq4TBIX/3Zjq2riS2R7V6UTQmYvOCEhiCnjN6nTlUsfsLSNLWVaeHEzkxYkJer0Zg48yrITnXaIgWWsaLc2OtOkopxM3/l2oULT2VzTq0eI3kTHUtY0mntHD+H3/DuwEmU7b86U4lz6cCkTlz3KZL6U3f6b+pmcED5yxf1HJOV6s0e7iS3ngfevWH0/HuWcp/4n5azrcDZlGgPpPFrlQHkrfXJJJ2BMJ+bc1JltpcEu1CrTic36G/fKSo20/UPgRPovfZKZTJMOMqiSst139UzYeZVJyoOlbbAt0wKvzJ2CNOo0mw880pi4cu9fReRK2pRuwjyN6pwe6Mw3llUYdky9ClPEB7N4xEiWX1eSRBpHh5TH5s/tmce6/Cn+kwYyYl4gqtyGGRBr/8p5NK8JFfruV5v10k8xqlpjvB7ISb2whGWXMqtC0rNj+a7iAP7VGyfaqsSDIoWA6QhIep6JNWyoaD8Erw1b8V2ziKUHwrQrsM/JiFowiEo5P6s99vW+pUzx8vzieUn1oxRi9uJUozQ2xUtSsU4TWrlmEIdAamKS8Q3mnIQUYtjSdzB+n60KSjk/sRENWzvQbcR0Fq5ex3KPvvxa93cm+IdrZBNIfnyC+V2rYWHxLa1HTWGGpyczpoylX8vqlG3izUN5ljIj3Znu4cFUN2f6tayBbTMfIv6/ZB6fmE/XahZYfNuaUVNm4Ok5gylj+9GyelmaeD/UTvRCYgibRrem3s8dGD7Vm0Xe05nk6o63/0N00zIIiY85tbIftSyVbuSe+N/M7FwgPT+RRg1b49BtBNMXrmbdcg/6/lqX3yf4E555DkIRdYiJzWrRsLsr3suWscBjHCPdfLmrp4ilvbjEzon2lDQvQQNHd/6ePgnGnV+nAAAgAElEQVTnfu1p2toJn/NvNBN+Gi8u78H997KYW9Vn+Ab1e0CPTyylT61yNHfz43a8nl1QeMMR534sepShAch5OM+B+g5D8Vy1A78dixnR9neGbXuYaRPeWNs/hu/H+afyNJ96kidazVpBbMhGnGpbYl6+LZ6BL5EKyv7Iq0xKl+5EQjaNpnW9n+kwfCrei7yZPskVd29/Hio7RVVfHvpXeMeBgTXouEH9bo4Qs5Me5cyRfNuc/sOGMmzSai7EaLAQYljvYIWkbg/+3hGiWyQlHcKpojlmlg2ZmW1fS/nDSWBHt4p03hKrXpQIbzgwvB1/bf6HdSuPZjHhy7k7+1fsXC/qeWbm9OMTrxVmBExHQMox/TGGsLsPeP42NfNqToPAJ2dE/Z8jmMy17UvZsmAA7Tyu6K1I8y5YWlwMCRlzVt5vy1Yy9U2sxu1aRuLL+4Q+jCJRu2rPVvzLnhDSefc8jPCXCZ9G1KlviNWYB2WJL7kf+pCoHBsnI+nVY+7ff8zLhCwMVZAtl6aQooe5PCmRD0qOkibwIiKSd2l6hFWQcujXnUUm3SWB9HfPCQt/yadCpHixk/49fFBzrsCHZxc5/O8Jrr/IGptNRmTgZjb+G8KbLGZiRepbLs5xZZPWVV0nofIoJS6WRH0rteIDr5+/5qP+OWXB5NOMazeaY/p+2ZmrEr8VIQRMSkBFqN35EzXpLPsCXhOxpDX2s+9qV/75q0QsLSJQVBEQeBvkjdua0Ewabd5bI/Du6jrmbL71ifdrnqSI4bjHGFbc1ter8y6FWLLwISASUF77RH6H2fat8NF3scrrvWI5EYEij4CCuOBNrDj27BNaIiXmxetP04q1T0vmtt9aDoXp2Vi118SDooqASEB57DnZlcn83GUjUZEH2Rss/gjyCJtYTERAREBEwCgCIgEZhSbzhfQL7jgMW8bmZXsIFfknMzjiNxEBEQERgU9AQCSgPIMmkJ78Icc3tPNclVhQREBEQERARACRgP6DgyDt0QWuxmZ1H8p7QxVJ4Zzb58uWk+F5vymnkilhHNu4ib1BYSbxBMzpUeI1EQERgaKDgEhABZBa2CTd/xlySa9Op9+8jHht+ZFGIOGsBy2aDGLz7bef5G5u9GmyOK6t6s0vrb24Ir5AaBQm8YKIwNeEQAESkIzkd0mF2GSVVmCphT9vAJlALtltZvedRaaccXkRSnjL1i5laKXMe5SX8vktIw9jvr0tjvtFN9r8QieWFxH4LyJQYASUdM6VBg2mcC3LC2mFB0QZBZda+HNaaQq55DyY15dpV/TelsyLSMJr1rYvXXBRhpX1tyvA+vPSRrGMiICIQKFBoEAISBkZ17PN95SoW5gJSNMHpkwtrHjFuYBbuhAkn9PNnymXMmdLP7dzmcLB5CrOlyCggiS4XBsoFhAREBEoTAiYnoCEWA7PnMUB30FUsCv8BGTK1MLyh/Pp6XI2f5O+kdHw2XIpIlk9YBwn8mPtMkhA+UldbqQxGacN1p9xUfwrIiAi8LUhYGICUvDK3wOvwARSjwzOTECFLiW3MnidCVMLC/Ecdu7DwgcmsDmaRC6B6E2DGH0oc96WHAe48Io1bUvz53b9ZGL5SF2eY+VKvGPZ4FCazlvFRGK5QSVeFxH4GhAwKQHJn21nyrwLqpDq6VkJqBCm5DZZamEhkes+jvReGKKN/v05g8dUcglvtjNkhD8JeYyNKbw/yrAaP+Fp0Hshb6nLle2WP9qGm8/5LMnUlFekBLv8QJ1xQQaufQ5i4r0iAiICRREB0xGQLIyNk3y4pjH5ZCOgQoeOaVILSyP+YVL777Gt0x23OXlMuz13Ll7eSziSLWWmEiTTyKWCW3jH3uFD2PEmFwZKfUzA6ukM+tMRj38ijIe5z2PqciE+lAv33mXJ96MZAB/us9O1Dz1HzWZ94NNCNypEgUQERAS+HAImIiAFLzf2ptWQuSxatEj1mT+sMSUrtmH8giXsu1MIY9eYKrVw+ivOrxxKs6Yj8L10N29pt+/d4/79cAxm3jaVXJoxlHTwLwZuypr8LesAk5McdQO/yR1pNXIPT3KwIuaaulxIJTHJeGqE9LBtDGndhSl+N4n+YIL8FFmbIn4XERARKDIImIiABGLPrWXOzJnM1Hxm9P+JEhWaM/LvuewIyc9O+JfBzrSphQUSr3rRy2kbn5t527RyKfNPBzC2/2oi8/Jij+w2ng0rM+RoquFOyC11efI1ti/dwoIB7fC4YojFPnCgfwWazMuctdTww8SzIgIiAv91BExEQNlhymaCK2QpuT8ptXD2ZuqdkfFwUS9GH/68tKemlyuVIBdHFofnQdvI6T2dPKQuTzq7j4DXESxpbc/suwaep/GCE50Q9IaNeCgi8BUj8MUIqLCl5P6k1MK5DBQhZgt9B/vxORRUEHKlB0+hj3ceQvMYdJPOX+py+Z3Z2LfywWDaJIP15wKqeFlEQETgP4tAgRGQIcQKV0ruT0stbKhdunNpxMUkfGbG1AKQS3aDv3vPJMSQVUwnPHw2Qci4MvlnumyMIvLgXrKlTfrs+vWFFY9FBEQEijoCX5SAijpYRVd+OXe9ejP1ci6heYTXrFNGKvjk93TSueDuwLBlm1m2JzS7S7qSgMRQPEV3GImSiwiYGAGRgEwMaGGtTh62kD65Rmn4yNEhVWn4961PDyIrpJP8wQjRpV5gYp1qjDqVVlhhEuUSERAR+IIIiAT0BcH+nz5K8YyV/SYSaNxDWiWeIuYUs3p3ZojXdk7efWMakaWvuXV0C7OH9WDgvLPk9lqSaR5atGpRpH0gJTcTadFqkiitiECuCIgElCtE/50Csg/JeY5TJ0t6zbPofITxyQkmRSIxUfGkGHCMy+m2r+OaQFzwMnrU+g7nM7msDr4OQMRWfkUIiAT0FXW22NRCioD0HOPrO+KnH4KvkIoqiiUiYEoERAIyJZomq0vBx5hw7ty4wZ3wGD7m5SVSkz3b1BX9l9qSOzZCchIfcol8lLUW+b252LdfyUtVP8tITkzRJgSUJb7nYz7ry1q/+F1EoLAiUOAEJBV/QPnoezmvzy9hcLP6NHWcyJwly/B2c6RpvWY4LTnH6yJlwpLz+txinJrWp5mjK15LlzFvUl9aNPydYcsvEluk2pKXLhSID16H9/pg4vK1YBB4va4DjT1vkRh2kp3bNuDu0JbZt9UbQmlPDjF/rh+PRL+NvHSCWKaIIWByAvp4djK/VK1M5crKTxUaTDxD4QvEUxh7SUHUPidqFq/JwD1PM+3VyF7sZVD1EtR02kdUvia3/1U7FUT569qiv7Mhi9rP4JolqT14n2bF/7+S0ZTPFXgfPIchM87wLt/aSjL/9K9Be5flrD/5jHQhmXsnTvNYL3yi/MVuXFz9/0N4mRJ7sa6ijIBpCUiIZpvzSFYcDSAgIICAE2e4m7/lYNHD0kRZUIWYXfQsb0GZbtsNeIkJxGzrhq1FeXrujFFFmf4QcYa14zrSpHFLBnnv53aceuaTvrzIhgmd+K3LRDYER5GeHEaAzzDaNGmCg5M7nspYfZ4zcB/di7bdfFBlXkh9RtBKZxyaNKFNPxc8prowapATLkuOEZExEcqecXRWP1o1/hX7LpPZfjNGbSYS3vPw6FwcmzowfNFpXspBiNlBj3LG2xK7ozu2FuXotk0dJDX1WRArnR1o0qQN/Vw8mOoyikFOLiw5FpH9XSLtCEkhaOooNr4wxsgfCTswm6GO/Rnu7MK0v6cxZogTQ7oNYOlDOYIeLm1HLObI/YRs0bv1yxjFTpnm6O0xRjUbysG85r3QtkEZ/Pwc4+2aM3rRHMYNd+fAc0OqoYLwJZ3pvDIM0VFOHzzxuKgjYFICkt2eRfs/53L42nOSjM0LhRQxIeUVtwJPcOWFkUCcRuQ2TRZUBU+WNMfKrDhdtr7NNhEqHy283cafJcywaraYJxps044MxtaqDauyqEWy6zPoPeu2brJK2Epna2t6+mWwibLGJE54enM2Qz1J3Y9jCSs6bIpTPV9IuopHIxuqDviH+IxVveIV+wZ8h6RCD3ZE6zo4KWgSvaZdJElVTsETn2ZI8tAWSdNFhGuqSd3vSAmrDmxSEalA0lUPGtlUZcA/8YbxiN9D73IS6s8IMfDOUjJX5zan4o+jORqtm9Dlb84w2b4xHjc107gGl247c/D2yxU7GXdmN+K7kSd0aSyEOG4e3M2evf747/Vj977LvFKA8O42R/b44b/Pnz17zhCeBvL7c/mt/QpeKGTcmtGIjutjSA4+zGnNgiJj2CnCF9Ls237s03ZGxhXxr4hA0UXAhASUzhVPeyoWt8DMzJwSNf7A49hL3SRYGDOiqvpNSuS/E+k5bAXnIp5zacNshrWzY9iRPBCRybKgJrOnVwnMLO2Yet3IGld2nal2lpiV6MmeZPWASw8YTkVrB9bHZDCE+rz8kQ/jloTrQgIl76K7tTW99uq1Kf0DiUmpusk77SADSlvTYXPGhC/l8qTaSKqNIUjvvVLhfSDj6lpRxXEPKg76eJlZg725qa06mT09i2NmWTdfbUk7OIDS1h3YnDHBSi8zqbaEamOCdDJqf2cKnq4ei5v7n5T7dhhHs/CH/J4Xv9pUxulgdreylKAF+ARrGmQIF+0zNAeGyuhjJ7vGlDrFcViv1kxVdyliuLx7DTN71EBiZk7lPzerFg1C7HFG25WmTvcpLFx9mIepAvFbutHcSxmnT+DNvuH0nrGbzb5nsmvB0otMrFGKzlvUC4SsYorfRQSKIgImJCBN86VveXhyFaOalMPC5iemX9GsugthRlQQiD86kro/TyJYM6kLcZvoULIJ88N0K2eDHWvKLKiKKFa1kVBM0oR5j4w8V/4I78YSilm1ZfUrNeEYJaAwH8YtDdd6UpFtElXwes9cVj/Qe1ZWAvp4izn2xanaz5/YzPxG0jkX7Kyr4LjnKdfnDcfrup5mlae2PFS3RaLT3rIS0Mdbc7AvXpV+/rHZNSDpDbzGrScy6SSjqpWhw8YoXVuR88CrEZLi3dmZnX8yd2U2XDJfVn3LViYzdoqXK2ltVZK+/2gZWFdJSiiLWttibtMAl8AYIrY50rTfDp7qrzGkaaTplEnkaam6RZuuJlA8YXEzKyoMDyBDadW/LB6LCBRFBExPQBkofLzJzMbFqTD0WKYN9YzLheKv9AbT65Wg5fLn2glMen48NetOxmA6G43Qps+Cmsiu7rlpDddwr2OJWfGe7PmgFiR/BGTJD10m4ObmhuvYAbSo0RSv+1kJyJLaXV2YOKQz9k3aM9zrAGGaZ2Xur2QuuP2IdbnvcZh9Ncs+TRK7e+aizUkv4VbLAjOb7uzSaC8qArKsTVeXiQzpbE+T9sPxOhBmMHV38nF3XPcrM65KCfGoh81PswjVTurpnBxZGctKIziR20ydjVwyt1L1TVXGOHayWzOoL6nKaCMhJoTYo4yqY4V52UrUdljIrU/1yBHi2dzRCusu20gwIKZ4SkSgKCJQcASEwKvVbSndZWuh/cHIbk7HzuZXvB9mTMRy7s1pRNWhR7NMqlm61tRZUJETNt9etW/y5zYje0DxvnS2MUPSzEe7B5RBQOsMmODGL4vQkmp2DQhSL/iyU1/Ly9CANkXzYEV7ytu2ZMFtPc0mCwTy+140sq6FW7YApwoifJoiMSuB0bbEbKRDcTMk9gt4rIE+QwPaFP2AFe3LY9tyAQYfL8SwtU9rhi9aycqVK1nu/gdVJNUYdSKDKaVccquFZYleWlNlFtF1X/NMQJnNl/rYqXCQVGDYcWNsJxDv50h5czOs7cYQkGVvRy2MnEfb3PA5n9EGnYi6owS2drbGuttOslgcdUXEIxGBIoZAgRLQm40dqTXmrAEbfuFAKe3wIGwrj+RkxtwhRLO2vS2dNr9B/iaEmwY9kjJkN10WVGWNiqgtdLG1wLbHzuz2fwTidnSnjEU5um/XpdeWBrtQw7oZi5/q2XAA2c3ZuG7V2yswNtEKH3gdrbFTZRCQcg9IEc3+gd9hU3sER7La3zTNlz/w5leDBARCtC9/qtqyw3BbtnejjLktXba80pJkBgEp94AU0fsZ+J0NtUccyWb+U+5vjZgRyNPnz3mu/DwLYalDacp28eW1xlSYfHgwlSy/wznQOIGqmpEDLi9fvFW3NIcySuyEd9vpWsKGnn6GVRvpE18cm/Vn5UZnfrQ2p3z7ZdzL9k6PQHzoBe7l5MOteM6y3635bvz5Qvt70gwN8Y+IQJ4RMB0ByeN5eOMR8RmmEEUUvn07Mj9Us+FbyDKiKhGS35tDYzs3MhbxH0Lm0rRsI+bel/Jq+1L2GJl8deiaJguquj45kbv7Ub1ELYYeeJVpH0AWdZARdYpTY+BeXmQoa8qb3v/LwEpl6bxZR0og5eHSiSzT30tK3E5XpRNCJi84gYSgKYzf9Er9+LR/6FvSij82vlF7wSVewL1hccq1W8b9bBMmyO/O4WerGrhkbOjrQFEiS+Quw22RvtzPkFolqN5/d6a2pP3Tl5JWf7BRFalUIPGCOw2Ll6Pdsvt6JtwPBE7sz9IMN0DNM5MODqKSdSPm3tUMPukDlraxpUwLL25q9vbURaVEnd7MgUeaMWkEl6SLf+O29bX6FiNltNgpIlnZpjRN5oXpnD40cilijzGmRScWhyqJMJ2wdZ2oZGFFnVFHMxGrkJpIUsYiSHNvtj/Ss4z9riID/s3UoGzFxBMiAkUJAZMRkCJ6K93KWWL780DmrFnL0tmerDwXq13hFraMqKpOEmI55tID500nOb5jCfO2HGSNY2ucfXezeM1Z8vJahymyoOoGjJzo0/PoZ1+fFgOmsmj1KuZPHkCLer/Sb9E5XmeQu/YGBVGHJtKsVkO6u3qzbNkCPMaNxM33rtaEKCQ/5sT8rlSzsODb1qOYMsMTzxlTGNuvJdXLNlGbH9Oec26FIzUsLKjSyUv7Tkz6g2W0s7WmendvTjzVbbJ/eHqBnS5NKW1uzc+jfQl8lP0dGpARHeTD4Fb2OAydxqLVq1k4dSAtGzbDyScIPe9o0p6fY4VjDSwsqtDJ6wj3VcCn82BZO2ytq9Pd+wRPUz8Svt+Zn8o3Z+rJJ7q9IUUsIRudqG1pTvm2ngS+VJOLkBjCptGtqfdzB4ZP9WaR93Qmubrj7f9Q9WJ0ZlxG4j7dA4+pbjj3a0kN22b4RCjIXMYIdgi8OzCQGh03aDUwpOeZ1d6eet+WoXj5X/C8pJRJIGavEzVK21C8ZEXqNGmF6+H3JF/bztItCxjQziPHfUf53dn8aufKRV03aEeBeCAiUFQRMBkBKQFQJL/i0Z07PHyRYNBMULgyomZ0mZzk6AiexWuWoIpkoiPf6K26M8oZ+2uKLKhZ6hYSufR3E0qZFcO8TEsW3sll1pEl8erxfe4/fklCbivpLI/6El+F1Dge37rJnfDYLx/XTkjn3fMwwl8mFJz3mOIFO/v3wEdf68wTsEmc3RfA64gltLafzV197TbT/cmcHteO0ccM7w9mKip+EREoQgiYlICKULsLv6hCPBfmOvCNxAxJtc4suPhGq00WfuG/PgmFt0F4u60h1PBWUA6AyLkz255WPnpOI5lKK4g57sGYFbfFkFaZcBG//BcQEAmokPfix6enWDdjFD3btqbrX54sWbeTYOVr9eK/QoeAIi6YTSuO8cyoJmNAZNkVJv/chY1RkRzcG5ytQPJtP9YeCtOaVLMVEE+ICBRhBEQCKsKdJ4r+H0Ag/QLuDsNYtnkZe1TOCv+BNolNEBHIIwIiAeURKLGYiEBBISCkJ/NB45hXUM8Q6xURKIwIiARUGHtFlEmLgCLtAynZvP+0l8UDEQERgSKMgEhARbjz/tuiC8QFL6NHre9wPlMIXfv+2+CLrRMR+CIIiAT0RWD+2h/ygUc3H5KcJahprqgoc+XUd8TPUFBR+Qtu38mI3J1rTWIBEQERgUKIgEhAqk4RSLgbwF6/PezZo//xw8//X07+j/MbCQl3Cdjrl0W2Pfj5+fPvyWs8/8LJl6Rxdzm6ZhaT3SYzxX0yUxfu474yGVByCH4HH2aJCJDKnQ3TWH41KXtU61x+EPJ7c7Fvv1KTCVRGcmKKniu6lMe+k/E+I74bkwuM4mURgUKLQIESkJD2jsiHz3hbBLyGU2PDuXVwAg0ktnReGsyde/e4d+8eoddOsGpgParaT+akKkzM/6AvU2MJv3WQCQ0k2HZeSvAdtWz3Qq9xYtVA6lW1Z/JJdQidApVO/pqgBX1p0WYkqwKfajUa2auTeE1wZ2LHWnTbllkrST7vwbAl9w2+mJyzrAKv13WgsectEsNOsnPbBtwd2jL7tt6GkOIVu5yd8csIApdzheJVEQERgUKGQIEQ0MeI4/iMHca4uZs4FhqTj6gC/1t0Uo4MoWKprmx/m8VW9H4n3UpIaOT1IMvq/gvKm3KEIRVL0XV71hX/e3Z2K4GkkRf66X1MLlnaIzb3+YEf+mwhzEBsOOmNafxo05RFEXqrDdldvLuPJeCTwjcn80//GrR3Wc76k89IF5K5d+I0j7PEF02/7kHHMSfFCNEm73CxQhGBgkfAxAQkI+rQWBrV6caauzmFli/4huX/CTKuTP4Bm+aLyRJcGiFmPQ7WEn5bqJdl1OgDFLw6F8AtE8eMlF2ZzA82zbNFvkaIYb2DNZLfFhKenxcgjcpv4IIQT4BzXUo1nMplY92adpih9u5c1VNQUgPH0srt4qeFwFHu/9g1Z/SiOYwb7s4BY5HJ5eEsdOjJ1lwDxxpol3hKREBE4H+KgEkJKP3uApqX+Z7hx5TJworYP0U4C3+zwW7q9UyRqBHec86lPqXtnDluMJdLlnbKHzK/pwtnDWgJWUrm46uC8IW/YWM3lcwZuwXen3Ohfmk7nI/rpV/IR815KZp8djy1JVUZcvi98eLpp5g+9bjeG/vpnBnzM8OO6qksQhw3D+5mz15//Pf6sXvfZZRBHYR3tzmyxw//ff7s2XOG8DSQ35/Lb+1X8EIh49aMRnRcH0Ny8GFOZ+sDKZfdGtJjexEcc8bRFK+ICHwVCJiOgIS37Olli+QnDwJvBrBnpz8nbkXrzG8fLjCnkwMuh2MLJbBCnC+dS5Sn3+4o4uPjiY95yu2gvSx16YejyxZC3umZloy2QCD+sDN9Fj7ITGJGy+fxghCHb+cSlO+3myilbPExPL0dxN6lLvRzdGFLyDu9zfk81pnXYsIbtv5ZCstabqiCOuf1PvlDvJu2ZskzPdwUMVzevYaZPWogMTOn8p+bVcn1hNjjjLYrTZ3uU1i4+jAPUwXit3Sjudd95Ai82Tec3jN2s9n3jIH8QvDB35E6zoGfpmnltT1iOREBEQGTI2A6Akr2x7G0OWV/H8/anfvYtWIMzSrY0mjSKeKV6tDHq/j07Y3nqXiTN8IUFar3f9rgeTCAgAD15+j+LSwc78TopReI1ZtHDT9PIPG6D469FxKit+g3XDafZzX7P208D2plCzi6ny0Lx+M0eikXchcunw/UK560l96lzKk47LhuMaF32ehh+jGGftOdnYb2f1JCWdTaFnObBrgExhCxzZGm/XbwVM98hzSNND3M5WmpRkldeskVu86byKYcGRVOvCAiICJQGBAwGQHJHy/AXmLLwEMZqQMEYnd0x9bKnnn5DlP/paGRcWVSbWxaLidSb9JTSqHMY9S1TFnar35iXMuQRvDPpPZ8b1uH7m5zmDt3bt4+Xt4sORKRq2OD7Mokatu0ZHl24djWtQxl26/WpunOhpziJadXeeOVi0xe8325rFopZK5BHjYfe4mEViteGG8/kJaamtns+nEPPSsP4rARU6QQe5RRdawwL1uJ2g4LuZXvKNI6OWW3PWn0uy5Vue6KeCQiICJQmBEwGQEpniymmVV5hh3XvbWueLGCVlal6f+vkVmosCCj3Mi2t+FHj5vZV9nSIJy/taDMwIM5aADpvDq/kqHNmjLC9xJ3NS7cSjfuHD/37xMek5u6JCd8oT02P3pwU19DUGEnJcj5WyzKDOSgUYjTiX/6gPu5yHL/YSQJ2eoHxbMltJBY8+f2HPZ/ZHdYvypIb/8HSNlL74r9Md71AvF+jpQ3N8PabgwBBtUXOY+2ueFz3pjng3oAya5NoX6rpehb+wrL0BLlEBEQETCOgMkIiPTTjP7Ghj826jbDhXe+dC5ejTFBhTvSohC3hc4lqzDiRPZZPO3aVH6UlKWLr37aa8OAColX8erlxLbnWdQow8XzdlaIY0vnklQZcSI7AaZdY+qPEsp28SW6oLw+ZNdwr2PNT7PvGtHUFETtX8TWh1nYSxrEmFpd2ZpguJnSJ744NuvPyo3O/GhtTvn2y7iXDX6B+NAL3HuXc+PST4+mZs9doiu2YajFsyIChRYB0xEQaVyZYke5Lr7EaOYL6dUp2NUczWnlAlZ4w5Vd2wh6mWWiKgTQfDzsRIVS3diRZaKTvjyEc4Oy1Oy/K885XmQPF9Fr9GFy0Bfy1+KPh3GqUIpuO7J4eUlfcsi5AWVr9mdXvhLQ5O/xoODljp5888NfBGR9P4o0Io8vYf6BJ9k1R0UUqx3smW0gzaci9hhjWnRisSr9QDph6zpRycKKOqOOou9NLaQmkqRTqI0ILvDWtys/T7uRXQYjd4inRQREBAoHAiYkIOBDCCt7/0Yn920cP7ELz6EjWH4tQbU3oNxL+bOUNU0XPS4cLVemEH9xnMXTx9OjXiksbO0ZPNUDDw8PPKa64jxyMH269cPd9wbx+VFohBi29B2M3+cykOIFxxdPZ3yPepSysMV+8FS1bB5TcXUeyeA+3ejn7suNfAn3idALSdxaO4imv/Vh5rYTXL55jTMHNrFg+nSWB74yMvErM302pftWvcgI0vPMam9PvW/LULz8L3iq3OoEYvY6UaO0DcVLVqROk1a4Hn5P8rXtLN2ygAHtPLiS45pF6e7dmFEnMvYeP7GN4i2SUcAAACAASURBVG0iAiICXxwB0xKQRvz0d895/DSetCyWk9SEBFKynPviLf4CD0yLiyGhoF4K/QLyG3uEIiWWx9dO8e/+QwTeiuJjLn0pD1vAH/39yKJYGqte73wSZ/cF8DpiCa3tZ2NAidKVTQ9mUrsJnBX5R4eJeCQiUEQQKBACKiJtF8UsaASEOA78NYDVn+QdoNSg7GnlE5GD953Au3+dGbD2aQ5lCrqRYv0iAiICn4qASECfipx4X54QULzcw3jX/dp9wTzdpCwku8Lkn7uwMSqSg3uDDd+WHMzc0cu5m+s+keHbxbMiAiIC/1sERAL63+L/FTxd4P2V1cz0vZvZTTu3lqdfwN1hGMs2L2OPylkhyw2KKI7OW8Dx6Pxs0GWpQ/wqIiAi8D9FQCSg/yn8X8/DpR8/GnFWMI6BkJ7MB6Me/GmkZnPbNl6XeEVEQESg8CEgElDh6xNRIhEBEQERga8Cga+cgAQSbvmzet0RHmV62f4jz8/vYc1iH1ZsPcGD91/KzCMnbK07a75Y6CIpMfcucfHiRS5evMSdV0XJlUxG7IMr3I/V89GWxfLgyn30T30Vv+ICa6RA2tunhATfzUMsxAITQqz4P4zA101A0rOMqWZBMTMJv8y5p3nTP5ng6b9Q0qICvbeF4tuzLNZ2rpzLRFAFMyKEt/8yuv/qbPmITPo0IZFbp69ookrLiLnsRbuy5hQrJqHpopw8zkwqxedXlhqI8/f1mHZDR0Cpgc58X28aeqd0z0l7yunlI2lZtzZ2fTaiH6xCeHeHf7z60rhOI3rNPKxKB6G78Ws9khJ5bj1//VocSYslYpijr3UYFHC7TUhA7zk8yo6qlStTWe9Tpa4zxz8j0GSBtl8ewdo/ymMh+Q6n/bHqYJrJ+3EsY0YxyS/MCb3LvCZWmJXpyjb9V/QLRCgZd7wdmXyuIMFSEOXXl+q/zCQ04z0l2XWm2lkWOQJSkc2P+vmRUgl0/p4fs+Zz0u8rZXSGNlaYSRrw9y0dcSmLKGPetWnqzcMMXPTvK3LHAkIu72jlqUmK5yz7vTj1ZtzK9/5dnuoXC331CJiMgITXO5gwagXHLl3nxo0bqs+lVT2p2Xv3J7yI+AX7RUjn40fdZKR4sZyWkmIUkzRi7n058veRPH5VkKSgbqvwxo8RTpt5WWDWPoHEK7NpXtYcy4ZFnYCUZFMduynXdBOjUiOqbseUa7q+zDaKPhxkuIMDLW0tqeZ8Gl2vCiTscqS19/8w5Xo2YT/1hJQnO5z5OyC3ILe51y+83U7X0tVwPiP6ueeOlljiUxAwGQEpXj3hWaYthHTOT2hIr51vM4fp/xQpC+SeFEJ9XXDq64ij4wD+PhKDPD6AmV0bUs68GMXMbWnQ0ZFR60N1k5whOYQUXt0K5MSVF2RqvqGyRs+lc2NmH6ZfyWMNaS+5GnCau3Hq5Xp67D3OHjtK0P04o7LKbi+kua3S1FYM87L16OA4EO8ziaCvAS28zqXVzvzZrBH2Hcew6XaSru+E99zePp1hw8bgNnYIQzz8eayc4+Th7J82nL6Ojjj2n4Tf/VB2THakTePGtBuyhGADKR6MwpDXCyrzmx3uV3UuciqNyM4dvVPZaks7PY4eC29zeuz3WNr2Zo9WthSOjWzNjGzhxhV8iArl7Knz3IvVd7kTSE94TuitpyQLICRHcjXwPGGJuakd+blPytvHlzgVdJ94rVYm5f3zUEKf6+zBKTHhPIh8r3oRV/j4jIA5HahWqi2L70TzXsUbcj7GhHH9plJWgaQnV7gSkazrV/k7wi+d5MSV57x9eZPTN6K0Yyjl2FAq2fZln6GcThp05R9jCLt+k6fJAkLSE65ciVBhkgG+9O1jLp0K4r6uEcpQ6USFnOboyauERz/hSZSa4KTJrwm/FUzwowQExQdeXD/DmdvRBn9Xig9RhJ49xfl7sZmC9ArpCTwPvaWSByGZyKuBnA9L1LVXKVhKFCGnj3LyajjRT56geXyGyCB9y+NLpwi6H28kAK+uqHj0eQiYjICyiZF+gYkNe7A9I8x+YcyIKj3P+O8tdOYnRRrvLk3nJ5UG1JBpwbG8M+4HjDTyXyb2HMaKcxE8v7SB2cPaYTfsiMEfjAof+QfexsYSExOT6RMdspTejiu4Fa05H/uGhBRjqlASZ5Yv5Uzocv5o6MKOf1ax5p8rPHvzjJ39G+H0jy4aeaY+SX/PNc9GSIoVw/LHyZyPfUuSMlaSloDMqfDrAGZu3sfqAbWwLGaGpIEnakuVlHuLW1LWojwD/02CtPNMqCGhUq9dKF/DkT+aRxMlZuYV+W2QJ2v9fXH+yQqzYhZUcw40jkcmAfP+RUk21e0m65GNRiOafBUdJWWtT8rlKV3wuC5Ddmc2P0uK03rFc3UEBeklJrd14bx2oS/w/uY6hncbypKTj4gO383A+o2Zdi4RhATu7J1Ey/KWVBpyhLeP9jJr4nDaVJNQaeRJ41lZ83yfjKiTcxjsNBP/m7dY1akS7VZHgvw11zYM4gdJOQYd0uhuikhWtilJDZeLSJHx7NQ6XNuUx6qBEwtX7SA45gPPL21ndEMrbPvvJ/yIOy2+kSCxX8BjOaSF78K512jWnH1M5NXl9LWrQP0ZIRoCknJ5Um1KOqzntRFeTXl+ie2jG2Jl25/94Udwb/ENEok9Cx7LkUWdZM5gJ2b63+TWqk5Uardak2srlaue9ti7nuLpk7PMaVOTIUfSIO0Fl3eMpqGkNJ1nb2Ox13x8ZvejXglb2q58rCUC4f1N1g3vxtAlJ3kUHc7ugfVpPO0cSopJuLOXSS3LY1lpCEfePmLvrIkMb1MNSaWRnMzo29SreNrb43rqKU/OzqFNzSEoH6/6J4vi5JzBOM305+atVXSq1I7VWXNwZR1W4vfPQqDACCj9wkQadPPVpVAujBlRtZOvbgNe/sCbX/VMcMbQFeKPMrLuz0wKTlYXEeLY1KEkTeaHaX8sWe9NveXLlIkTmTBhgt7HmZ6/1KRxnzG6cxNdmLkvPOvt6u+JB1m8Lgxp1CpaF6/NXwEZwT5lhMxoQO0JF4xMwnIeL7BXE5ARE5y9Rvb0kyOprNQCrTrhqwzklnwIp4rmFJP8xsJwBQjRrGlrhZlVG1ZFKVBEasyWFrVwu6ykABk3ptlhWawYkt8WEWGMSw23MJezaZxxrk7dSVd07Uw7g3P1uky6Ypx+kN9hTqdxBConG8UL1rQroSVY+T0vOvx1XPuibPKVWfxWpSlztVnyUtnvWJLinbeos66mneKvbyvQd91hNmy9xntFNGvb2VDL9ZJOJkOtyPU+BS/9B/GD3SiOKRdu6aHMalQFR/93qtpkN6fzY6kObNLsR8ofzqOJVQUGH8kgpBesaFWCRnOVqcw1/xTKc6VoNXE+3jsfkxx5mVOhcfy/d5bToX43Nj7RYPbRnz6llalTNDO1/BHzmhTPcTwrI6W/WNGKUq0mMt97J4+TI7l8KpT/5//4M+gHO0YdUy6G0gmd1Ygqjv5qU7z8Ad6/2tBwptqykHJyFRs0G2/yu7P52aoKnVbeUZtHleOsnRWSNqt5pSTB5CvM+q0KTefe0ppPU/c7UrJ4Z7aoFrppnPrrWyr0XcfhDVu59l5B9Np22NRy1aaTV/2+bRoyM1Rpqk3h5KoN6n0/xUv8B/2A3ahjqj5OD51FoyqO+Oc/kGEG8uLfPCBQQASUzkWX+vy5WbOxnwdB/idFPpmApNyYXo8SLZfrvKmU2lTNukzOOXRztmYqIjcwcOS+PKeTFhKf8jROQdI+Ryo08UbrsS3EsbWLLW1WvTQSFy13AsrwgpOeceZbFQE5sCFWQJnwrY5lMYpZVKFp3+EMHz4Ihx8rUb5ifSadl+oIyLKuZg9Gxm3PBmoCamzijX0V2dTREJ0azrQzzlSv44aK+7IhrD6hTJjY2ekf1MsFgXf7+lLe8jucTyfzYlV3BvknqgumXGaynTU/uFzQEhJCDOsdrLDqsFmVXl6JR92yzRiy6ABPlPPYx0M4VaiI02E1EQhvw7gcrHRtv8jF4Ms80pj6crtPORY62Jaj+/YY5En32Dq0GS1dj6q0TOVk/3zZ75RoMk/T5ymcn1ALy5Jd2a5JkyG820n3MjVxDdYj4vd+9Lb9hl9GbOFJBiulhzDrlzL8tuCRlqhk16diV6Ef/2Ssp2I28EfJH3IZz+/x623LN7+MYEtG5YpINnSwpVz37cTIk7i3dSjNWrpyVBuxIo3Lk+siKduGpQ8y1BIl9AKv1rTDpspQjmpkQPGExc0k2HTZyjshhcuT7bD+wYUL2u0tgZj1DlhZdWCzEmPZNabULUuzIYs4oO4YDjlVoKLTYS1hkXaZyXUllG2zFN3jFURu6IBtue5sj5GTdG8rQ5u1xPVotJHfkpFBJp7ONwIFQ0DpwbjW78RGY7p7vsUsoBs+lYBkN5luZ8Ov3g+1P2D5vTk0qjqUo9ofR15k/kCQmyPz7uWwcW6wmnTOjqlObddg7YpbSPCjT0V75odlzDJZb/x0ApKeG8d3FkoCytBwMtet1YC+AAGlnRmjIhtVJgeVGGmcGVOdOm45aR8C0eu60nPLG91eQEoQY6tbUq73Gpb364vvG7WdKfnfgZSX/MSsO3o4Jv/LwPJWqDVEOQ+9GyMp246V4eoy0vPjqV62OztVq2WB17uH0finn/hJ+WnUGZ/byv7N7T4pV93rYFnSntE+C5k9awn+IW+0+zEI8Wz7s7TG3AayiN0M+6kM1npp5FOPD6Ny5cxjMOXYMCpJajHhvG5gvt/fj/IlO7IpI3EXqVx0qU0JPXNb8v5+2FYezvGctiVTjjGskoRaE85ryVp61Z06liWxH+3DwtmzWOIfwpssw1tIOM3YOhKKN57LLS0HJbK3T1kqDT5Cxg6X8G4XPcoUp/XK5yhUfSDhp1l3tL85SObfgeWxsp+PctjLH3rTWFKWdivD1WWUi8LqZem+Uz+XlkDC6bHUkRSn8dxbapOp9CrudSwpaT8an4WzmbXEn5CsQmce8uI3EyFQIASUHuxK/Q7rCy5Lp4kar9v/yKcJLu0wg2wrM1JrWBaIXtse206beSN/Q8jN5wYlTLm6nKF9etOrVy/Vp6dDA76p/htdeqq/Z5zv1dsR560PDdahOim/w6yfKzLwYIYfl0D8rp5UaLqQcLmMiJu3Schmt/90AlI8X8bvEjOKmRXHYd0r3SSO2t33yxGQmmx+0CNe0s4wpvoPmVf9WZET4tneuwNLM0XllnF39s9IJGWp1HkVL1RmQrXmJqkyilPaiVHgzY4elKs2iAPKVbbSlbutDZWdDmkysMoIndmQku3Wqs1EWZ+d8T23+xSRLPtdQomeuw1ndk05ypCK5Rl48IOSfdi/1gfnhmpTlpoGZVyZ9ANlu+/U8zqVcnFiDawazkLHp+kEDK+AVbPF2vfN5E+30LWyFT9r34VLJ2hMNcr02GVgHGU0CKQXJ1LDqqEeWSuIXPY7khI92W3AcUFIfkLEa7U9NilwDDUllRgeoNmAUZonvylP/38yblTwbFVbytQeQ2ASyG570kBShVG6jkF4s4Me5aox6IDSDK0ganVbbCo7cUhThSx0Jg1LtmOtyn4nkPwkAvXjkwgcUxNJpeEoH6+IVI7vEvQ0JLSuueJRASBQAAQk5ZJrPRzWRGVWXwtjRlSlyl5H/Q6M/UL1qkl+by6/KPeALBvgqVq5GkBdfo85je10ZqAPIcxtWlZle5e+2s7SPbEGbsp6KpGAcX1ZYlRjyVpe910RtYo2ZRzYoF3BfmR/3/I083mC/MM51my6rdWM9O7i2dIWqj0g86rDOBp9jXVrg0gygEF64Giqqkxw7VmnfIbiBRs72mKudEyoOYjtD96TEn+HXZOcWftAhuLZUlqoMPuByVeVy10Zt2bUU5vgfvXmgZ4yoZPnE45UZFMbl4tadkClEdV2Qe9UtoqFuO30bDQpm4lO8WIN7UtIaDIvwxSlIHJ5S2xq6vYMhLenGNPYnilB6lW08G4H3ctUYXjGy22Kl6xqXYLG3qE8Orqfa0Y84XK97//GsqWTDVYtlmpf+pTHXcX/6AOVE4csZAb1SjiwPjqOi+tWc+rOOhxKVGd8YBgnD14nUfYAr0YlaLUijPsnThOu2ooLxbOBjd5L1kpoktndwwZJqxUq0hXe32DHulk4VqvKyOPPuHj8JgnpyvtK0GrlM14G7SXolaFNPBmhng2w+WUO97T9KxC3pRM2Vi10ZC+P46r/UR6kguzGTEateKZx/DiDc7XyDDqk1sxkN6Zhp2yfZkynha2nq10rvK+q7XGqRY5NTVwzVF/hLafGNMZ+SpCacIV37OhehirDj2vMbQpermpNicbehD46yv5r8dyYOYoVmkWI0sxcrfwglI8X4rbQycaKFks1siEn7qo/R5VCi/8KFAHTE5D0Em712rNKvaTUCl/4MqKmELrRkTpWZhQrZkapxhM4/ugGmwc1oLhZMVV0hFrd/mbbVUNeZQKxx1zo4byJk8d3sGTeFg6ucaS1sy+7F6/hbHb1Q4tDxoH8kQ99J5w0vNrNKGTkb9qxoXzT3AeNBUg14d/2akHnOYfYtWIrV95nU39UNckerqB9eQvMiplh/X0vNj76v4Ru7oudtQaDRmM4FH6XLT1rYKnEwNyWFtMCiVF6ur06glvzSkhU2JhjVfl3ppx4jUIejv/IRpRREpaZFXX7bede2H6G1bfBrFgxzEo1ZswhwxqhkeYZPZ0WNIbqtSZyQcs/aQSNqU6tiReMep8poi+wxLE2VuXbMM0vROcUo3yK8I59A1oyI0RnIxISgvBo/iuOy///9s4FrOfz//9fUh9mJtbwnZkxM20zp2XfYSYbQ0JTDmNEpSHCIsc259NyjBhK1jBnW9jP2YYRV1ISl1N1VeiiuipX9f983tfjf33qcz7U51Ofxri7rq7P+3Dfr/t1P9/v+37ep/f9PMjR/Zv5fuI0IuPVPU1Qyrc7OQ1mp3qeovhvpjk70LjbWNaeKVX/NZUBS+JlH5+OS/3aNP10CP6BQcxaGcMd1XRO0bFvedO+Hs69xhAem0excrhJ1oCPR/7ISeXQX+7PeLxsz9t9ZvBLQmmvQpG8kI61DBtSSon1/jRyqM973T1Kl9NnRuBe25G2Q5dxrGTxw++MalSTlu5BrDlh6v1XLuRIZmHHWrwXfEE7TKjMePZxprvUp3bTTxniH0jQrJXEqDJRsGMobzgPZNHekxxaPYLuXutIKMmfgqT5H2FfpytzDp3i961LmTh6EhFX1INxymeVxeGgj2nrsZSDR/ez+fuJTIuM187tKKXrnZwYrH0w/D3NGYfG3Ri79gxZUgE7hr6B88BF7D15iNUjuuO1LkHVUMvm+HQX6tduyqdD/AkMmsXKmDsmGnGmnqy4VhkEbE9AihzS7z3UW5uvdvB5U0SV56SQdOO+qvJTkJNyiwz1kk51pk39Sg/ZMdqT0GRTLUtTEQyuFT4gPUtbaZbeLSAj+Sb3NZWzQRzVqTznHlfjksi0xE8jE3JyU+L5+0IiGU+hcVhwL5ZT8Zk6cwAF3Is9Rbzqeygjdy24UJSeYiy5LhXw4FYSdx4ZYmzaYGFWBo905v1NhzK+aiqeIj+Dm7cemCDUAtJv3CZLk04xjzKzdMIpyMtI47GmN2KcnvaKgtzUJJJSslVYFvEw7b5emc1Lvc6dx5blX2tXdaTIJ+PmLR4YvIvFDzPJUhTz+E4iSSk5WuKS0gn7ojZNxhzmYept0s3KJksUPLhF0p1H2rhGietcKMwiQ/NginmYmYWi+DF3EpNIyTHMm4L8jJvcMnRax5w4tD0Cticg2/v43Fksjg3BY+If2tbbc5dDkSGBgBUI5O7Aq54jA9VL8KyIKoL+uxEQBPRPPz8pg60jhhBWdXvu/NM5EukJBCqBgETWzsE0cGjDHJtNFlbCHRH1H0VAENA/CrdyuiaO7dGX9IY7/mkXRHoCgWcFAelBLL+Gr2LlylWERx/nhs60z7Pio/Cj6hAQBFR12ArLAgGBgEBAIFAGAoKAygBH3KpqBHK5ei5eb/PKqk7RnH357QvEajYnNRdKXBcICARsiYAgIFuiaY2tvGR+C53MNwPcGTR1JzctWr1kTQIVCZtH8m+hTP5mAO6DprKzSp0qIHbNFJae0dlxuyIu2ypOUSLhE0M4pNrWxlZmhR2BgEDAPAJVQkBSYTaPcg2XOZp34sW6I5F9YRUjPQNYuWk5Iz+sTTU7g/27ngIgUvYFVo30JGDlJpaP/JDa1ex4S3fHARv7lHM0iOGL4p6pby0U97bg47PV7O7PNoZAmBMIvPAI2JSApAfHWTTGj5krf2LDkgkM9JjGwSpXEv13PUPFzfX0afE5K1WbN2Zt/BJZLRfma3YVfQr5UdxkfZ8WfL7yeul3IVkb+VJWC5f56h0CdH2SyNg8kZC/ymhgyK+ybOJK3Uj6x8WXCHHzY7961xX9u0/xrJC/gr7A9+Az59hTxEQkLRCoOgRsSEBPOOzXnE4621lcm9eRt/yOPFOt3KqD0gLLUhqb+jrRYtxxjUbOk8SjxCRYOgyl4N4f+/lb/RW+BUmWH0QibVNfnFqM47j649IniRyNSSDb5IYKCm7/6MW4w5ovIo2TKD7PdK8Q4+uqKwUxfnQOOK7zEaXZoP/4Dfm1ebi6b0C0m/5x6EWCLyACtiMg6QHre9Si+Vj1zrgKkhd+QhOfmGeyonkaz1oeN4e2tZyZWqryZr0L8nh+cB/HkQrtYmAmOXkcc9rWwnnq35Z9Xa7UgKkUARVyyLc1w3W3DZcyObczgsiobWyL2krEz6dQbj8mPbzA7sitbPt5G5GRh7hW6XxL5N/7m5gDp7mtJltDWIpOEaAUUhQ6MIbIiHOBgM0RsB0BoeDORjecZM0YuD6OrJvbGNFtMJuTVbPrz6Iiqs3hLMtgMee+a4lDc+NNMcuKpb0ncX+XDwPmXbGQKLQxyzpSipy1dGjOhLLEdPQMVJKA5PGEuHRhke7O1Io0TkWsYHrfpthXq06DXuu4riSg9H2MblmHFm6TmBe6i3hzpKHnn5mTolvsGOvO8GV/kHTzJGtmDuezlsPZbWQzl20eLfCJMdhHxoxZcVkgIBCoOAI2JCDlhoGPOBXSFacaNanzZh/W3dBZ2vUsKqJWHDfrYxZfKNm08g2/IxXoEUo8/msBHv3ncV4r62K9D0Yxirmg3LDxDT+OWFzfVpKACvcy7L9ubDY1zZJ/kfldHKle8z3GxaSRtNEDl4GbSC5juskoS6YuSPfZM/IdWk84oRGkywz7nNrtS3Vk9KMod3NvSc+wTP3L4kwgIBCwOQI2JqAHnFjow5gJ39De0Y7a7/uxR6X/YXPP/2UGFdcX4OLgxDDdoSdL8lCUxC8TutHEsQVuAbOYPXu2Zf9zQli0O0ln404TiSmus8DFAadhezSCYiZCGVyqJAHlReLeYDC7zAynSel78G7hQPW6r9HcdR4aVWwDL+RXNxKw4KhGvMzgtt5p0dnvaPVSJ5beVG/+WsRR/7d4Z+JpE71JpSZQGz5ZcF3PhjgRCAgEbI+ADQlIztXFXWk3vlTKuCBxM4Oay6jvvkVM6CKRusaVl5wGa8SyLH+Uhdw7upxhHV0YEX6SS5cvc9mS/7g4rqWV3V2SUtfg+pITg9UKXhY5peBO6CDGlrkI4SzTPM0sQsiPor+TJzvMEJBSmvn+Vg/qV6+GrKUv+5XyACb+pPsXOXZZV+nSRKCSS6VDnzXb6kiDK/Wc2jQy0xgo5s9JznRefMOcQXFdICAQsBECtiMgRRLzP3qFAdu0lV7O7q9p+OrX7LV4eMdGuXrWzCjusaa7I62m/Gl6+E3+kPg/r+goWRpnQHp8hjn9hrBR04o3DmPdFQX31nTHsdUU/jT5fOQ8jP+TKyYm4/N2jMQzXEfe2jDhrCiGem0wvFp6XnQY32a92ZBl5vb1cDw6erJ8rQ/vyqpTv9sSLhuSlVTA42yTTpsw+oRdgx1pMPKgBnspZSXdHHuwLkNOxvlzBnEK+X30W7hvMTVGaBBUnAoEBAKVQsB2BCQ9JKJf/RJVUPXMj1JE6+3WwZQIiz6LiqiVgs7yyHknJ/KuQ0M6evkyIXg+a3ec5Lpaa0ZKI9LjLTrMOFvuBqXF8fPpN3oXjyxP2nzIvJNMfNeBhh298J0QzPy1Ozh5Xa2zIpEW6cFbHWZw1rDyV1rMPcbk3t5E3zKxFFueyr6xvRiz76HptJXS1K4dmHlJ/ZZogynS9+L7vx4svKhsxBSSsKoHr9k50MJ7j7YXnfMnPy1ez1yvzwg6rZ0ckjIPMLX/QOYef6wjGa60LefyrHa0DDil+hwgl/OzXajbZjZxRff4aXGk1gHlkfSA8N6tmXJWa1s/gDgTCAgEbIWA7QgIKLoWwehuX+C/ei+HD27gO6/BzD2ukjLO3Eivl2W4zE+0le//CjtSxn78OnXDZ+YMAkcNoItzI16yq0Y1+7o0ef9jXPv0Zdjs30k1ro+N8yelsf6roWytLANJGez360Q3n5nMCBzFgC7ONHrJjmrV7Knb5H0+du1D32Gz+b0Mp4pu72P20D709w5mWfhWtm+PYNVsXzz7f03w9qQyyFRO7EwX3Dbc1xJF0VFmdOtAq9dfoVb9DwkukV2WSIsaQtM6NalV24kW7Tszftcjso/8zP7UJBZ10ScxRdIKujdqSLPRO4zms6T0vYzr60PYwX1sWvQ963euwKOLD+ERC1lxxKArVngI33beHDBaHWf8OMQVgYBAoHII2JSASlyRnvDw1lWuXE8nz6BSfd4UUS2BPv/6eS7d1wdCnptK/Kn97Nh1hMsZlg4llab2JDONLH1zlrihHyb/Oucv3ddfoCDPJTX+FPt37OLI5QzNcJV+RMMzifyUy5z8bSfROw5yIvauRRuLyhPm0t1za5lDjoYp6Z7LY2fSofMCktRrzVTxfAAAFIpJREFUCtQ3pQwi1+82IqCS2/IcUpJuaBRjFTkp3DIhX1t4YgKffXtE86Gw2rT4FQgIBGyPgO0JyPY+CovPGwJSJttHeRGq+y2QxXks5vTE1ny59i63dkZxQjvliPRgD2HR9zDkJYtNK6XSfbxYWVGpdIsTEgEFAgIBJQKCgMR78FQQUNyJxH98NGmmF7mV4VMhxwJdGb5kHUsiL2p7O9J9Ypau4kwlBM1yTsxm9NJLFvb+ynBR3BIICAQsQkAQkEUwiUC2R0Di0elQpodf0pKIpYlIheTkGi6AyCcnt+Jjk4q7e/h+7j5SKtx9stR5EU4gIBBQIyAISI2E+H0qCBTl5Zn4GPQpuPKkoIyFE0/BH5GkQOAFQEAQ0AvwkEUWBQICAYHAs4iAIKBn8akY+pR7lXPxOdply4b3jc7lJB87zh1rh5Pkt7kQq7M82siuuCAQePYRyL16jvgcqycXbZ8xUZ7KxVQQULkQ2SqAxP0Le4jaGklkpO7/VqK27+XYlUzTk98FsayZspQzpsV5zDj3mE1ew9lp6iNSMzFKLxeRGD6RkEMPrCC7Mg2Km5YgID3hQfIlLiakop7Gkh6lUs5OSpZYfuHCFMSuYcrSM2a0rNRwVEZ63ppyLMqTGnFzv1VCQIqCHKNvgMw58CJdz09L4Pz2MbSyr0O3H44Sq9zT7dLfnP5tCzN6vcPbbj9SsgmABpQcjgYNZ1Gc4YS7JoCZg4oSEKC4xxYfH7am/vMtyPzEA6wI+JQGdv+hWs13+SpkM2fSVN04KZsrv85j8Hu1sXu1Iz5LD3Lduk+ozGD19C7L04+zfGRn3m3VBa9x0wmZFcgoj660b9eJji07EHRO7MZg1dPJOUrQ8EWUVVxsIT1vVTl+iuXJKuyeUmCbEpAi8xjzx4xj/vr1LJ/kSV+/CBKtboU/JST+oWRzdw6iXq3urDWQ3JTuhfKpQy1cV9/T9D6KL4Xg5rcf63clqwQBKTfB+SuIL3wPViBdG4BYuIehjtWx77gQU5/j5ER9hfO3x/71KrvFNzbzVRMZr3VfyHm93m0xqTHf8XG9pnx7zNqGhw3w/9eaKOZSiBt+Zem8WyU9XzYQ1pTjp1qeys7GU79rOwJS3CasZyO6rbhb+iGglM7G3q/y3pQz4qtyzWMu4vi4psjaf89VgxXDiqT5fGRvT7uQeNUOBQXE+HUm4HhFmvmVIyDk15jn6s4GA5LUZMPowIZS4YUH8W5QHfsuy03OYRUeGkOPWZdUGOWTHLMU727tae86hMBpUxg7chg+szZxNrO051Rw4w9W+/egfbvOeHw7jenTJuE/yodJS7YT+8DgIWjylc/hyd6sva07iZbDnnEd+bjnEHzHjWNYz49o7+rJmHH+jHD/FJdB60j+fzkk7F/A8E9V/gRPZ/r0YKYGjqZf1z4sUCvhKpJZ3vVlqjv2Ilwp/Wr0J+fK9z3xOVgIko7NriNYuDuOrPI6p/mHmey9Fj33ddKQ7h9nwdf9GeQ/iWmTxjB6yJcE7NTuPVTm/Se3ORkRjEfHdnToFUDYoUR9H12HEjhdP98hu/+PiGAPOrbrQK+AMA4lZiPlJLB/wXA+bd8e1yGBBCvjBE8lcHQ/uvZZgBKqghuHWe7jSvv2nzJwXBCTx3kzeMg4Fu1NMl66XxCDX+cAzBcXa6XndQAzOrSmHCu3I7S2PBkl+NxesBkBKW4vo3PNZgRolDUl0te4InMaxl6dr9WfWyQtyZhSDbSdjLfGnzBowSu4uawLtep0ZkmCqlJU7knWejjG8kGF3Dt7gANnU/TnjIqyydbUIboEJJF5bicRkVFs2xbF1oifOVWqd82F3ZFs3fYz2yIjOaSnd13EqYD36fuTJXIHygJmQ6nwcgio6PC39JpzWWcboRy2uMmQ9dlc2mOT3yN6cBNeev87zqjwKNwzFEdZN1aphxWLUvgj5HNeb9iZmUeN8yjdj6R/PXucp57XPicpjTC/QI7mKB90IbuHOiJzXV36IW3xNZb5zOF8yYhZFht6ypC5b9WrJLMPBBOiUv0rPjuFljWq4+j5i0ogz/jlUaQc4w/1u4DKpjqPxsF1rkjcj+xPPXtnpp431YMq5A//ZrwXdF61/D2P2IVf0PfH26odJMq7r3zeccz+0IHGfke0+Kh97Gc63/K42Xzo0Bi/Izo+ZW2gp0yG+1bdCiKbA8EhGoHEgmgPXnL4nLASWQ6J7DNBtKnZCK9f9BfLFB7ypfXwMnStrJae14HU8NCaclwS18ryZJjec3xuMwIq/msy79g3Zexx7Qv2ZPdQHO3bEnJFXrKD8qwerozblf4cw1l21qT0tXSvVZ8hu/J0AuZxfU8Qn73jwvg99zQVqzw+BJcui9DfrUbOzV+Xs/Gva4S5ORNQsmmn0tQjfvFU9j5TVHZ1CUhB2qkIVkzvS1P7alRv0It1pXrX7Bvdkjot3Jg0L5RdBnrXuds8aOETo09yOl5rD20sFW41ARUQ1U+GzG2LpjJ/sncY9e0/0Oy4Xbj/G5xkrqzW23Yhm0N+zbFvPIJ9j7W5AQXJoX4EBPai3uvD2aMZ/8zh6pVbqudjQEBKDaMrcZRqL6oIsV+UTs+/kNzH2RSUFA0Ft5d1xv4/9nw075qF2waZsqnrs86xIplQvwACe9Xj9eF7TAyjZrPF7SWc+m7krrrzVfgXmyOuqPJW3n0lASXwfXsZTcce1yEgEz5KeeRk55fkW57wPe1l+vUDOVtwk8noF6VpOUFhLo+zCzR2n+z0oo7sc9bdV3X7ik4xobk9jX0Pa8IodzyPD3Ghy6IbZvG0XnpeB1ODQ2vKsTqq5eVJHePF+LUZAUlpYXzxkoyOC7SFqjDGh/86tGGOkoBedElupYqBcv7H/m0GzFzE4sWLWTz/B0LmzGDGom2cz9CfcC7cO4z/uqla9ep3MecgS1fFUlx8kemtX2fkQdUEW+HvjGr8DoFn1DZ0CUgdOZ+L87vgWL0m742LIS1pIx4uA9lkRu+66OR4WvYMw4wenMpoFUiFV5qAFNxY8gmyeh5EPSittEwTEBRfmIazvSODduo0CIrOMmfMam5lH8S78St8vlY1pKyGseTXkIB0bxpXxIrUSGaHqiv4Yv6e6kyN/zjw2coUzXyfrgXjY2ObxmFKrxSdncOY1bfIPuhN41c+Z62GZdQxJFKjvqJRjZo06zuXmLuGQ7zl3becgArj5jNjc6ksh2UEpCA1cjahyvpC9WdIQHl/z6JDrUYM3Jaug10he4f9FzeTOu9KQxWRnld7YPxrTTlWx7asPKlDvzi/NiMgyOZoUDscX+3ExM0xHN2/ifkDW2Ffuy9bKisf8Fw8jyKOj22KQ6upJePb5WUpL9KdBoN36X2dLz1O5nqGAuUQTqs3RnJAVW8WXwjm/Ua6Q52mCEipdZPOHu8WOFSvy2vNXZlnTu9aWWQvBNPmkwUoO0sm/6pKKryCBGTf2puV61Ywd3xf2n3Qncl7tcRhjoAoGQKyp8uPdzVZzNkXyPho5bBcEeeDWlHzgxlcVPO6JlT5BFTj7S/5NiCAgPF+eP2vKS5z4lQ9DAVJ811KekBtQ9SkpDFs5sBSAsphX+B4opUigkXnCWpVkw9mXDSx00Q+CVFj6dTInup1WuH541ke6c0rlXO/jB6QJt9jR+H2QSN6bSiPgGrw9pffEhAQwHg/L/7X1IU5cQYEVKM5vceN5eueHWjf7RvmbE8wkGLPI9K9AYPN6bxXSHrezKPAunKstlJueVIHfMF+bUhASuTyuXUymnUrw9h2JJadPk2o22uDVkzsBQNXL7sl48YONPT+TY9U9MLonORH9cfJc4eJsErJ6JY08YlR3VNwZ3kXHHttRD1KAWYISMlB97fiUb861WQt8d2fqdOK1ElcSUB/TsK582KDIUDdMFUkFV70B2PesMO+o2nyK9w3Cvdlt3SGWkqH4BxcF3I+Pp5rtx/yRK8yBXMEpLi1lE4Or+Dxc8nEDkhpbBjQhW/mL2f58uUsDexOQ/vGeB8w3OG0fAKS6Q7BFRwjfHOCZni18Igvje2q8bJ7BAZqRLoA6xxbRkBS2gYGdPmG+cuV/i8lsHtD7Bt7Y+S+yrKU9TdhQ1tR284R19AkjX/qhM3eL4OAdPMtpUey+pfSHFrWA4KCY+Fs1sx9gboHFJZyhWXd6uPYaS4XdKeMSpzNJ6q/E55mdN4rJj2vRsHg18pyrI5dfnlSh3yxfm1MQFrwCuMW0PnV1nx3xuht0QZ6gY6ktLV0r/kyfbdYVuUUHfalWe8NxhWUsjXX8VW+ilZXio+I7FePjguu61TKZgio6DrhHh3xXL4Wn3dlVK/fjSVGetelD6Xw99G85b7FxByC/kOzuVS44jbLOjtg12QMfxiODiGRssqDkXpzaMZzQPoemiMgiZSwL6jj5EGUapxRfnUBI6bGkHzzJjeV/zfOs9i1DnW/DEe9fkGFjv4iBL0EzZGFRG5qCo+V5Fh0jqnv2VPt5W6sMCux/oQCDZOWYfPObUpHGuVcXTCCqTHJpb7fvMmN84txrVOXL8NTtQ2N7NPEnFERrtJvKZVNfetj3y6EeGXHo7z7yjgWEpAuLJYSUEkcKZfUlNKJOTUBKeeAFCnRDHqjJs1H7DZo1BZx2LcZvU3qvFdcel7Xf/WxteVYHc/S8qQO/6L8VgkBFafsY0zbFrividNOxL7AktzKlylnuyeODp+wxGyFo//KKe6G4tphJkbK1fJYZnz4jmYBgvTgF7z+25JJf+qOE5kgIEU6e33/R4+FpRIGhQmr6PGaHQ4tvNljtNxa4kF4b1pPOWti+EbfT+WZTaXCUXA7rCeONRrhEXFXr1UuTz9IQN9AjuhM2UAuEX1lyHr/hN5aAh03lfNp9WWurNIsQpDIvrCML994kwE/3VClkUvMWE8WG4w5Zu8czGuyNsy+pIvvE34d9AoOn60kxaC3pex9/tRbhsxgNZiUdZhJ/mHcU4XPOT2bjx3tcPx4Cgfv6DOt4sEZfvQZydJz6kaGGZvZx5kWsKGUHHNjGOu52GDINJudg19D1mY2GvcL9+PbYxbnNBgWcWJcM17psa50RV9595W4yq8Q0taBJv5HdRYCPOKnXjJkfSPRmNZ5BvIrIbR1aIL/Ue0iJR7/RG/lIgS9VXASWYcn4R92ryT2k1++orZDd9ZmKIGTeHwskPdr1eOzJXE6owMK7oa60mGmenm+TsLWSM9LmRyY2p+Bc4+XNhR0zKgPrS3HpfGsK0/qtF6EX5sSUGFGLPtWTsCjny8rjqfqVV7SCyrJLU/exdyg8Xi0daL2K+/Rb+IM1p95pG2RmnvL5LHMdHFjg3ZcTRWymMTV/XAds4VDv0UR6vMRrzQYzj6dhUT6Q3BFHJ3RjQ6tXueVWvX5MPhkSaUhpUUxpGkdataqjVOL9nQevwvtVF0hh3zb4W2pLrWtpMLVWCjSiJnRk2aODWjjPooJUyYzdng/XHv5semKbo+6gBuHF9GviR12jXvzw67Lqt6A2hAU3DzKysHvYG/XgM6jvmNaUCD+wwbQd9Ak1p3OUJFPHteiffig/sdMPnhdO7+gSOf82iE0r1Gd+l2DiblTBNJjEn9bzsBmNaj+mivB286h3qxB+c1O4oEf6N3YDrvXu+A9aSrBwVOZ5DeQTm/Wpb3mG69S/3Ljf+Y7N2ec6jWnc/9v+DbAjyHubgwYMZPtiapq3MDmyMDvCAqaTIDPQDo1daTjgiQUedeI9vmA+h9P5uB1NWmBIv08a4c0p0b1+nQNjkHpvnLJ/PeuzrgOC+bHTVvZtHAEXT8ZzsZ41YKW8u4/uc2pyEA+qVsdB+dvWKP6DijxwFx6v26H3Rt9mb//ql4F/uT2KSIDP6FudQecv1mj+g4okQM/9KaxnR2vd/Fm0tRggqdOwm9gJ96s256QeDlPbv7BMo+m2Nk1pMec3cSVfABVyJUln+EoexO3kAMkq957pUqui9sGnWFoJV9ZKT2vSGJF90Y0bDaaHbqvmRK2ipbjkkdtZXnSvr7P/ZHtCEjK5fqfJ7h4J1uv1aqL4Isoya2bf+uO5STM7Y7nVoPvVBT55BbIKchMJunuQy7MakNDz+0GrX8TPSBrEi88wYTPvuWIHqmVbcAmUuEGSUgFmSRd/Iszf10kISVHZ4jRIOC//FSefY+rF/7ibGwiKdnaCfiqyZac7Me5JQ2goqzbJN0ynDMr737VeFVpq/IE5nb3ZKtyAYb6r0LS8xIZkevZbUBAapMV+q1AeapQOv/CSLYjoH9h5p91l6XM7YzyCtUuBJBS2djHkXqDfy0Z2pQe7WdU689YbLT5VWUISOLhDh+8ViY/txX+s/7chX8VQUAic/sovELNfwtkkVXpAXvCojG5QYVFBgwDifJkiIjuuSAgXTSeuWMFdyL9GR+dVjpkJ93nl4BRrE/MIzv5IPOGD2LWoQwTw3mVIKCcE8wevZRL+tMSzxwywiGBgBECijtE+o8nWjPXZxSinAsS92OWsqoyuu6GKYjyZIiI3rkgID04nsET6RGnQ6cTfkk1JpB/ixPbI9i2709umdU8yWbL0JGY+yzCbC4Vd9nz/Vz2CV1qsxCJG882AtKj04ROD0ddXKz1Nj8n1+wUgrW2EOWpXMgEAZUL0bMQoIi8PN1VWOX7VPA424JtdAztKJf+Gl4T5wKBfxkCRXlYWVyqKIOiPJUHrCCg8hAS9wUCAgGBgECgShAQBFQlsAqjAgGBgEBAIFAeAoKAykNI3BcICAQEAgKBKkFAEFCVwCqMCgQEAgIBgUB5CAgCKg8hcV8gIBAQCAgEqgQBiwlo8uTJ+Pj4iH+BgXgHxDsg3gHxDpT7Dvj7+5dLWhYTUHR0NJs2bRL/AgPxDoh3QLwD4h0o9x2IiIiwHQGVa0kEEAgIBAQCAgGBgBUIWNwDssKmCCoQEAgIBAQCAoFyERAEVC5EIoBAQCAgEBAIVAUCgoCqAlVhUyAgEBAICATKRUAQULkQiQACAYGAQEAgUBUICAKqClSFTYGAQEAgIBAoF4H/DzXYoT01QKcqAAAAAElFTkSuQmCC)"
      ],
      "metadata": {
        "id": "Nl9aFasXoaJE"
      },
      "id": "Nl9aFasXoaJE"
    },
    {
      "cell_type": "code",
      "execution_count": 50,
      "id": "4f36aac8",
      "metadata": {
        "id": "4f36aac8",
        "colab": {
          "base_uri": "https://localhost:8080/"
        },
        "outputId": "e28a241e-aa62-40f7-a1c1-10bcf17301c2"
      },
      "outputs": [
        {
          "metadata": {
            "tags": null
          },
          "name": "stdout",
          "output_type": "stream",
          "text": [
            "3000\n",
            "2991.8\n",
            "2983.6000000000004\n",
            "2975.4000000000005\n",
            "2967.2000000000007\n",
            "2959.000000000001\n",
            "2950.800000000001\n",
            "2942.6000000000013\n",
            "2934.4000000000015\n",
            "2926.2000000000016\n",
            "2918.000000000002\n",
            "2909.800000000002\n",
            "2901.600000000002\n",
            "2893.4000000000024\n",
            "2885.2000000000025\n",
            "2877.0000000000027\n",
            "2868.800000000003\n",
            "2860.600000000003\n",
            "2852.4000000000033\n",
            "2844.2000000000035\n",
            "2836.0000000000036\n",
            "2827.800000000004\n",
            "2819.600000000004\n",
            "2811.400000000004\n",
            "2803.2000000000044\n",
            "2795.0000000000045\n",
            "2786.8000000000047\n",
            "2778.600000000005\n",
            "2770.400000000005\n",
            "2762.2000000000053\n",
            "2754.0000000000055\n",
            "2745.8000000000056\n",
            "2737.600000000006\n",
            "2729.400000000006\n",
            "2721.200000000006\n",
            "2713.0000000000064\n",
            "2704.8000000000065\n",
            "2696.6000000000067\n",
            "2688.400000000007\n",
            "2680.200000000007\n",
            "2672.0000000000073\n",
            "2663.8000000000075\n",
            "2655.6000000000076\n",
            "2647.400000000008\n",
            "2639.200000000008\n",
            "2631.000000000008\n",
            "2622.8000000000084\n",
            "2614.6000000000085\n",
            "2606.4000000000087\n",
            "2598.200000000009\n",
            "2590.000000000009\n",
            "2581.8000000000093\n",
            "2573.6000000000095\n",
            "2565.4000000000096\n",
            "2557.20000000001\n",
            "2549.00000000001\n",
            "2540.80000000001\n",
            "2532.6000000000104\n",
            "2524.4000000000106\n",
            "2516.2000000000107\n",
            "2508.000000000011\n",
            "2499.800000000011\n",
            "2491.6000000000113\n",
            "2483.4000000000115\n",
            "2475.2000000000116\n",
            "2467.000000000012\n",
            "2458.800000000012\n",
            "2450.600000000012\n",
            "2442.4000000000124\n",
            "2434.2000000000126\n",
            "2426.0000000000127\n",
            "2417.800000000013\n",
            "2409.600000000013\n",
            "2401.4000000000133\n",
            "2393.2000000000135\n",
            "2385.0000000000136\n",
            "2376.800000000014\n",
            "2368.600000000014\n",
            "2360.400000000014\n",
            "2352.2000000000144\n",
            "2344.0000000000146\n",
            "2335.8000000000147\n",
            "2327.600000000015\n",
            "2319.400000000015\n",
            "2311.2000000000153\n",
            "2303.0000000000155\n",
            "2294.8000000000156\n",
            "2286.600000000016\n",
            "2278.400000000016\n",
            "2270.200000000016\n",
            "2262.0000000000164\n",
            "2253.8000000000166\n",
            "2245.6000000000167\n",
            "2237.400000000017\n",
            "2229.200000000017\n",
            "2221.0000000000173\n",
            "2212.8000000000175\n",
            "2204.6000000000176\n",
            "2196.400000000018\n",
            "2188.200000000018\n",
            "2180.000000000018\n",
            "2171.8000000000184\n",
            "2163.6000000000186\n",
            "2155.4000000000187\n",
            "2147.200000000019\n",
            "2139.000000000019\n",
            "2130.8000000000193\n",
            "2122.6000000000195\n",
            "2114.4000000000196\n",
            "2106.20000000002\n",
            "2098.00000000002\n",
            "2089.80000000002\n",
            "2081.6000000000204\n",
            "2073.4000000000206\n",
            "2065.2000000000207\n",
            "2057.000000000021\n",
            "2048.800000000021\n",
            "2040.600000000021\n",
            "2032.400000000021\n",
            "2024.200000000021\n",
            "2016.000000000021\n",
            "2007.8000000000209\n",
            "1999.6000000000208\n",
            "1991.4000000000208\n",
            "1983.2000000000207\n",
            "1975.0000000000207\n",
            "1966.8000000000206\n",
            "1958.6000000000206\n",
            "1950.4000000000206\n",
            "1942.2000000000205\n",
            "1934.0000000000205\n",
            "1925.8000000000204\n",
            "1917.6000000000204\n",
            "1909.4000000000203\n",
            "1901.2000000000203\n",
            "1893.0000000000202\n",
            "1884.8000000000202\n",
            "1876.6000000000201\n",
            "1868.40000000002\n",
            "1860.20000000002\n",
            "1852.00000000002\n",
            "1843.80000000002\n",
            "1835.60000000002\n",
            "1827.4000000000199\n",
            "1819.2000000000198\n",
            "1811.0000000000198\n",
            "1802.8000000000197\n",
            "1794.6000000000197\n",
            "1786.4000000000196\n",
            "1778.2000000000196\n",
            "1770.0000000000196\n",
            "1761.8000000000195\n",
            "1753.6000000000195\n",
            "1745.4000000000194\n",
            "1737.2000000000194\n",
            "1729.0000000000193\n",
            "1720.8000000000193\n",
            "1712.6000000000192\n",
            "1704.4000000000192\n",
            "1696.2000000000191\n",
            "1688.000000000019\n",
            "1679.800000000019\n",
            "1671.600000000019\n",
            "1663.400000000019\n",
            "1655.200000000019\n",
            "1647.0000000000189\n",
            "1638.8000000000188\n",
            "1630.6000000000188\n",
            "1622.4000000000187\n",
            "1614.2000000000187\n",
            "1606.0000000000186\n",
            "1597.8000000000186\n",
            "1589.6000000000186\n",
            "1581.4000000000185\n",
            "1573.2000000000185\n",
            "1565.0000000000184\n",
            "1556.8000000000184\n",
            "1548.6000000000183\n",
            "1540.4000000000183\n",
            "1532.2000000000182\n",
            "1524.0000000000182\n",
            "1515.8000000000181\n",
            "1507.600000000018\n",
            "1499.400000000018\n",
            "1491.200000000018\n",
            "1483.000000000018\n",
            "1474.800000000018\n",
            "1466.6000000000179\n",
            "1458.4000000000178\n",
            "1450.2000000000178\n",
            "1442.0000000000177\n",
            "1433.8000000000177\n",
            "1425.6000000000176\n",
            "1417.4000000000176\n",
            "1409.2000000000176\n",
            "1401.0000000000175\n",
            "1392.8000000000175\n",
            "1384.6000000000174\n",
            "1376.4000000000174\n",
            "1368.2000000000173\n",
            "1360.0000000000173\n",
            "1351.8000000000172\n",
            "1343.6000000000172\n",
            "1335.4000000000171\n",
            "1327.200000000017\n",
            "1319.000000000017\n",
            "1310.800000000017\n",
            "1302.600000000017\n",
            "1294.400000000017\n",
            "1286.2000000000169\n",
            "1278.0000000000168\n",
            "1269.8000000000168\n",
            "1261.6000000000167\n",
            "1253.4000000000167\n",
            "1245.2000000000166\n",
            "1237.0000000000166\n",
            "1228.8000000000166\n",
            "1220.6000000000165\n",
            "1212.4000000000165\n",
            "1204.2000000000164\n",
            "1196.0000000000164\n",
            "1187.8000000000163\n",
            "1179.6000000000163\n",
            "1171.4000000000162\n",
            "1163.2000000000162\n",
            "1155.0000000000161\n",
            "1146.800000000016\n",
            "1138.600000000016\n",
            "1130.400000000016\n",
            "1122.200000000016\n",
            "1114.000000000016\n",
            "1105.8000000000159\n",
            "1097.6000000000158\n",
            "1089.4000000000158\n",
            "1081.2000000000157\n",
            "1073.0000000000157\n",
            "1064.8000000000156\n",
            "1056.6000000000156\n",
            "1048.4000000000156\n",
            "1040.2000000000155\n",
            "1032.0000000000155\n",
            "1023.8000000000154\n",
            "1015.6000000000154\n",
            "1007.4000000000153\n",
            "999.2000000000153\n",
            "991.0000000000152\n",
            "982.8000000000152\n",
            "974.6000000000151\n",
            "966.4000000000151\n",
            "958.200000000015\n",
            "950.000000000015\n",
            "941.800000000015\n",
            "933.6000000000149\n",
            "925.4000000000149\n",
            "917.2000000000148\n",
            "909.0000000000148\n",
            "900.8000000000147\n",
            "892.6000000000147\n",
            "884.4000000000146\n",
            "876.2000000000146\n",
            "868.0000000000146\n",
            "859.8000000000145\n",
            "851.6000000000145\n",
            "843.4000000000144\n",
            "835.2000000000144\n",
            "827.0000000000143\n",
            "818.8000000000143\n",
            "810.6000000000142\n",
            "802.4000000000142\n",
            "794.2000000000141\n",
            "786.0000000000141\n",
            "777.800000000014\n",
            "769.600000000014\n",
            "761.400000000014\n",
            "753.2000000000139\n",
            "745.0000000000139\n",
            "736.8000000000138\n",
            "728.6000000000138\n",
            "720.4000000000137\n",
            "712.2000000000137\n",
            "704.0000000000136\n",
            "695.8000000000136\n",
            "687.6000000000136\n",
            "679.4000000000135\n",
            "671.2000000000135\n",
            "663.0000000000134\n",
            "654.8000000000134\n",
            "646.6000000000133\n",
            "638.4000000000133\n",
            "630.2000000000132\n",
            "622.0000000000132\n",
            "613.8000000000131\n",
            "605.6000000000131\n",
            "597.400000000013\n",
            "589.200000000013\n",
            "581.000000000013\n",
            "572.8000000000129\n",
            "564.6000000000129\n",
            "556.4000000000128\n",
            "548.2000000000128\n",
            "540.0000000000127\n",
            "531.8000000000127\n",
            "523.6000000000126\n",
            "515.4000000000126\n",
            "507.2000000000126\n",
            "499.0000000000126\n",
            "490.80000000001263\n",
            "482.60000000001264\n",
            "474.40000000001265\n",
            "466.20000000001266\n",
            "458.0000000000127\n",
            "449.8000000000127\n",
            "441.6000000000127\n",
            "433.4000000000127\n",
            "425.2000000000127\n",
            "417.00000000001273\n",
            "408.80000000001274\n",
            "400.60000000001276\n",
            "392.40000000001277\n",
            "384.2000000000128\n",
            "376.0000000000128\n",
            "367.8000000000128\n",
            "359.6000000000128\n",
            "351.4000000000128\n",
            "343.20000000001284\n",
            "335.00000000001285\n",
            "326.80000000001286\n",
            "318.60000000001287\n",
            "310.4000000000129\n",
            "302.2000000000129\n",
            "294.0000000000129\n",
            "285.8000000000129\n",
            "277.6000000000129\n",
            "269.40000000001294\n",
            "261.20000000001295\n",
            "253.00000000001296\n",
            "244.80000000001297\n",
            "236.60000000001298\n",
            "228.400000000013\n",
            "220.200000000013\n",
            "212.00000000001302\n",
            "203.80000000001303\n",
            "195.60000000001304\n",
            "187.40000000001305\n",
            "179.20000000001306\n",
            "171.00000000001307\n",
            "162.80000000001309\n",
            "154.6000000000131\n",
            "146.4000000000131\n",
            "138.20000000001312\n",
            "130.00000000001313\n",
            "121.80000000001313\n",
            "113.60000000001313\n",
            "105.40000000001312\n",
            "97.20000000001312\n",
            "89.00000000001312\n",
            "80.80000000001311\n",
            "72.60000000001311\n",
            "64.40000000001311\n",
            "56.200000000013105\n",
            "48.0000000000131\n",
            "39.8000000000131\n",
            "31.6000000000131\n",
            "23.4000000000131\n",
            "15.200000000013102\n",
            "7.000000000013102\n"
          ]
        }
      ],
      "source": [
        "# Budget of 50 minutes\n",
        "B = 3000\n",
        "while B>0:\n",
        "  print(B)\n",
        "  index = select_subinstance(U,PretrainedClassifier)\n",
        "  Xik = Uk[index]\n",
        "  Xi = U[index]\n",
        "  U=np.concatenate((U[:index], U[index + 1:]))\n",
        "  a = answer(PretrainedClassifier,[Xik])\n",
        "  B = B - Ck\n",
        "  if a!=-1:\n",
        "    L = np.concatenate((L, [Xi]))\n",
        "    y_train = np.concatenate((y_train,[a]))\n",
        "    PretrainedClassifier.fit(L, y_train)\n",
        "    X_test_bow = cv.transform(X_test['review']).toarray()\n",
        "    y_test_pred = PretrainedClassifier.predict_proba(X_test_bow)[:, 1]\n",
        "    auc.append(roc_auc_score(y_test, y_test_pred))\n",
        "    cost.append(3000-B)"
      ]
    },
    {
      "cell_type": "code",
      "execution_count": 51,
      "id": "b9294e05",
      "metadata": {
        "id": "b9294e05",
        "colab": {
          "base_uri": "https://localhost:8080/",
          "height": 542
        },
        "outputId": "e08ab013-170f-4b07-a6a9-49a012bf3fa7"
      },
      "outputs": [
        {
          "output_type": "display_data",
          "data": {
            "text/plain": [
              "<Figure size 1000x600 with 1 Axes>"
            ],
            "image/png": "[encoded data removed]"
          },
          "metadata": {}
        }
      ],
      "source": [
        "plt.figure(figsize=(10, 6))\n",
        "plt.plot(cost[::-1], auc)\n",
        "plt.xlabel(\"Cost\")\n",
        "plt.ylabel(\"AUC\")\n",
        "plt.grid(True)\n",
        "plt.show()"
      ]
    },
    {
      "cell_type": "markdown",
      "source": [
        "Repeating the entire process for conventional pool based active learning"
      ],
      "metadata": {
        "id": "MzmQWq5FoqMm"
      },
      "id": "MzmQWq5FoqMm"
    },
    {
      "cell_type": "code",
      "source": [
        "sampled_data = df2.sample(n=1000, random_state=14)"
      ],
      "metadata": {
        "id": "JV2I6PktwUvN"
      },
      "id": "JV2I6PktwUvN",
      "execution_count": 52,
      "outputs": []
    },
    {
      "cell_type": "code",
      "source": [
        "encoder = LabelEncoder()\n",
        "y=encoder.fit_transform(sampled_data.sentiment)"
      ],
      "metadata": {
        "id": "g5BdbqICwc5a"
      },
      "id": "g5BdbqICwc5a",
      "execution_count": 53,
      "outputs": []
    },
    {
      "cell_type": "code",
      "source": [
        "X_train,X_test,y_train,y_test = train_test_split(sampled_data['review'],y,test_size=0.5,random_state=1)"
      ],
      "metadata": {
        "id": "WWRvML8qweuh"
      },
      "id": "WWRvML8qweuh",
      "execution_count": 54,
      "outputs": []
    },
    {
      "cell_type": "code",
      "source": [
        "X_train_bow = cv.fit_transform(X_train).toarray()"
      ],
      "metadata": {
        "id": "T0EPG5jUwhpn"
      },
      "id": "T0EPG5jUwhpn",
      "execution_count": 55,
      "outputs": []
    },
    {
      "cell_type": "code",
      "source": [
        "X_test_bow = cv.transform(X_test).toarray()"
      ],
      "metadata": {
        "id": "1bM-gSC2wlsa"
      },
      "id": "1bM-gSC2wlsa",
      "execution_count": 56,
      "outputs": []
    },
    {
      "cell_type": "code",
      "source": [
        "U = X_test_bow"
      ],
      "metadata": {
        "id": "QFrHsLVKwnLr"
      },
      "id": "QFrHsLVKwnLr",
      "execution_count": 57,
      "outputs": []
    },
    {
      "cell_type": "code",
      "source": [
        "L = X_train_bow"
      ],
      "metadata": {
        "id": "Sjh8Wq6NwoRH"
      },
      "id": "Sjh8Wq6NwoRH",
      "execution_count": 58,
      "outputs": []
    },
    {
      "cell_type": "code",
      "source": [
        "PretrainedClassifier = LogisticRegression(penalty='l2', C=0.01, multi_class='ovr').fit(X_train_bow, y_train)"
      ],
      "metadata": {
        "id": "Wog91CIiwwGH"
      },
      "id": "Wog91CIiwwGH",
      "execution_count": 59,
      "outputs": []
    },
    {
      "cell_type": "code",
      "source": [
        "# Budget of 50 minutes\n",
        "auc2=[]\n",
        "cost2=[]\n",
        "B = 3000\n",
        "while B>0:\n",
        "  print(B)\n",
        "  index = select_subinstance(U,PretrainedClassifier)\n",
        "  Xi = U[index]\n",
        "  U=np.concatenate((U[:index], U[index + 1:]))\n",
        "  a = PretrainedClassifier.predict([Xi])[0]\n",
        "  B = B - 15 #considering on an average, it takes 15 seconds to annotate each sample\n",
        "  L = np.concatenate((L, [Xi]))\n",
        "  y_train = np.concatenate((y_train,[a]))\n",
        "  PretrainedClassifier.fit(L, y_train)\n",
        "  X_test_bow = cv.transform(X_test).toarray()\n",
        "  y_test_pred = PretrainedClassifier.predict_proba(X_test_bow)[:, 1]\n",
        "  auc2.append(roc_auc_score(y_test, y_test_pred))\n",
        "  cost2.append(3000-B)"
      ],
      "metadata": {
        "id": "xk6matfqurjZ",
        "colab": {
          "base_uri": "https://localhost:8080/"
        },
        "outputId": "6050a6af-7a8c-4a4c-c36a-1b6f99aa35ab"
      },
      "id": "xk6matfqurjZ",
      "execution_count": 60,
      "outputs": [
        {
          "output_type": "stream",
          "name": "stdout",
          "text": [
            "3000\n",
            "2985\n",
            "2970\n",
            "2955\n",
            "2940\n",
            "2925\n",
            "2910\n",
            "2895\n",
            "2880\n",
            "2865\n",
            "2850\n",
            "2835\n",
            "2820\n",
            "2805\n",
            "2790\n",
            "2775\n",
            "2760\n",
            "2745\n",
            "2730\n",
            "2715\n",
            "2700\n",
            "2685\n",
            "2670\n",
            "2655\n",
            "2640\n",
            "2625\n",
            "2610\n",
            "2595\n",
            "2580\n",
            "2565\n",
            "2550\n",
            "2535\n",
            "2520\n",
            "2505\n",
            "2490\n",
            "2475\n",
            "2460\n",
            "2445\n",
            "2430\n",
            "2415\n",
            "2400\n",
            "2385\n",
            "2370\n",
            "2355\n",
            "2340\n",
            "2325\n",
            "2310\n",
            "2295\n",
            "2280\n",
            "2265\n",
            "2250\n",
            "2235\n",
            "2220\n",
            "2205\n",
            "2190\n",
            "2175\n",
            "2160\n",
            "2145\n",
            "2130\n",
            "2115\n",
            "2100\n",
            "2085\n",
            "2070\n",
            "2055\n",
            "2040\n",
            "2025\n",
            "2010\n",
            "1995\n",
            "1980\n",
            "1965\n",
            "1950\n",
            "1935\n",
            "1920\n",
            "1905\n",
            "1890\n",
            "1875\n",
            "1860\n",
            "1845\n",
            "1830\n",
            "1815\n",
            "1800\n",
            "1785\n",
            "1770\n",
            "1755\n",
            "1740\n",
            "1725\n",
            "1710\n",
            "1695\n",
            "1680\n",
            "1665\n",
            "1650\n",
            "1635\n",
            "1620\n",
            "1605\n",
            "1590\n",
            "1575\n",
            "1560\n",
            "1545\n",
            "1530\n",
            "1515\n",
            "1500\n",
            "1485\n",
            "1470\n",
            "1455\n",
            "1440\n",
            "1425\n",
            "1410\n",
            "1395\n",
            "1380\n",
            "1365\n",
            "1350\n",
            "1335\n",
            "1320\n",
            "1305\n",
            "1290\n",
            "1275\n",
            "1260\n",
            "1245\n",
            "1230\n",
            "1215\n",
            "1200\n",
            "1185\n",
            "1170\n",
            "1155\n",
            "1140\n",
            "1125\n",
            "1110\n",
            "1095\n",
            "1080\n",
            "1065\n",
            "1050\n",
            "1035\n",
            "1020\n",
            "1005\n",
            "990\n",
            "975\n",
            "960\n",
            "945\n",
            "930\n",
            "915\n",
            "900\n",
            "885\n",
            "870\n",
            "855\n",
            "840\n",
            "825\n",
            "810\n",
            "795\n",
            "780\n",
            "765\n",
            "750\n",
            "735\n",
            "720\n",
            "705\n",
            "690\n",
            "675\n",
            "660\n",
            "645\n",
            "630\n",
            "615\n",
            "600\n",
            "585\n",
            "570\n",
            "555\n",
            "540\n",
            "525\n",
            "510\n",
            "495\n",
            "480\n",
            "465\n",
            "450\n",
            "435\n",
            "420\n",
            "405\n",
            "390\n",
            "375\n",
            "360\n",
            "345\n",
            "330\n",
            "315\n",
            "300\n",
            "285\n",
            "270\n",
            "255\n",
            "240\n",
            "225\n",
            "210\n",
            "195\n",
            "180\n",
            "165\n",
            "150\n",
            "135\n",
            "120\n",
            "105\n",
            "90\n",
            "75\n",
            "60\n",
            "45\n",
            "30\n",
            "15\n"
          ]
        }
      ]
    },
    {
      "cell_type": "code",
      "execution_count": 61,
      "id": "1885a8c7",
      "metadata": {
        "id": "1885a8c7",
        "colab": {
          "base_uri": "https://localhost:8080/",
          "height": 542
        },
        "outputId": "597b1094-5270-4356-ea64-941b77bce10b"
      },
      "outputs": [
        {
          "output_type": "display_data",
          "data": {
            "text/plain": [
              "<Figure size 1000x600 with 1 Axes>"
            ],
            "image/png": "[encoded data removed]"
          },
          "metadata": {}
        }
      ],
      "source": [
        "plt.figure(figsize=(10, 6))\n",
        "plt.plot(cost2[::-1], auc2)\n",
        "plt.xlabel(\"Cost\")\n",
        "plt.ylabel(\"AUC\")\n",
        "plt.grid(True)\n",
        "plt.show()"
      ]
    },
    {
      "cell_type": "markdown",
      "source": [
        "Comparing the plots for AAL k = 25 and AL (active learning)"
      ],
      "metadata": {
        "id": "kaUGz4ZSo8jd"
      },
      "id": "kaUGz4ZSo8jd"
    },
    {
      "cell_type": "code",
      "execution_count": 63,
      "id": "21bd3ef1",
      "metadata": {
        "id": "21bd3ef1",
        "colab": {
          "base_uri": "https://localhost:8080/",
          "height": 449
        },
        "outputId": "7c3d58da-96c4-4b52-dc2f-23a84308fcf7"
      },
      "outputs": [
        {
          "output_type": "display_data",
          "data": {
            "text/plain": [
              "<Figure size 640x480 with 1 Axes>"
            ],
            "image/png": "[encoded data removed]"
          },
          "metadata": {}
        }
      ],
      "source": [
        "# Plot x1 vs y1\n",
        "plt.plot(cost[::-1], auc, label='AAL', marker='o', linestyle='-', color='blue')\n",
        "\n",
        "# Plot x2 vs y2\n",
        "plt.plot(cost2[::-1], auc2, label='AL', marker='x', linestyle='--', color='red')\n",
        "\n",
        "# Add labels, title, and legend\n",
        "plt.xlabel('cost')\n",
        "plt.ylabel('AUC')\n",
        "plt.legend()\n",
        "\n",
        "# Show the plot\n",
        "plt.show()"
      ]
    }
  ],
  "metadata": {
    "kernelspec": {
      "display_name": "Python 3",
      "name": "python3"
    },
    "language_info": {
      "codemirror_mode": {
        "name": "ipython",
        "version": 3
      },
      "file_extension": ".py",
      "mimetype": "text/x-python",
      "name": "python",
      "nbconvert_exporter": "python",
      "pygments_lexer": "ipython3",
      "version": "3.8.17"
    },
    "colab": {
      "provenance": []
    }
  },
  "nbformat": 4,
  "nbformat_minor": 5
}